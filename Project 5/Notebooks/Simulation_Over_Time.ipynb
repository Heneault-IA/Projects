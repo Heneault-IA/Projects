{
 "cells": [
  {
   "cell_type": "markdown",
   "id": "c3c580da",
   "metadata": {
    "toc": true
   },
   "source": [
    "<h1>Table of Contents<span class=\"tocSkip\"></span></h1>\n",
    "<div class=\"toc\"><ul class=\"toc-item\"><li><span><a href=\"#Import\" data-toc-modified-id=\"Import-1\"><span class=\"toc-item-num\">1&nbsp;&nbsp;</span>Import</a></span><ul class=\"toc-item\"><li><span><a href=\"#Librairies\" data-toc-modified-id=\"Librairies-1.1\"><span class=\"toc-item-num\">1.1&nbsp;&nbsp;</span>Librairies</a></span></li><li><span><a href=\"#Fonctions\" data-toc-modified-id=\"Fonctions-1.2\"><span class=\"toc-item-num\">1.2&nbsp;&nbsp;</span>Fonctions</a></span></li><li><span><a href=\"#Données\" data-toc-modified-id=\"Données-1.3\"><span class=\"toc-item-num\">1.3&nbsp;&nbsp;</span>Données</a></span></li></ul></li><li><span><a href=\"#Simulation\" data-toc-modified-id=\"Simulation-2\"><span class=\"toc-item-num\">2&nbsp;&nbsp;</span>Simulation</a></span><ul class=\"toc-item\"><li><span><a href=\"#Récupération-du-Temps-0-et-des-différentes-étapes-de-Temps\" data-toc-modified-id=\"Récupération-du-Temps-0-et-des-différentes-étapes-de-Temps-2.1\"><span class=\"toc-item-num\">2.1&nbsp;&nbsp;</span>Récupération du Temps 0 et des différentes étapes de Temps</a></span></li><li><span><a href=\"#Tests-sur-les-données-RFM\" data-toc-modified-id=\"Tests-sur-les-données-RFM-2.2\"><span class=\"toc-item-num\">2.2&nbsp;&nbsp;</span>Tests sur les données RFM</a></span></li><li><span><a href=\"#Tests-sur-les-données-de-base-avec-Last_Review\" data-toc-modified-id=\"Tests-sur-les-données-de-base-avec-Last_Review-2.3\"><span class=\"toc-item-num\">2.3&nbsp;&nbsp;</span>Tests sur les données de base avec Last_Review</a></span></li><li><span><a href=\"#Tests-sur-les-données-passées-au-logarithme\" data-toc-modified-id=\"Tests-sur-les-données-passées-au-logarithme-2.4\"><span class=\"toc-item-num\">2.4&nbsp;&nbsp;</span>Tests sur les données passées au logarithme</a></span></li></ul></li></ul></div>"
   ]
  },
  {
   "cell_type": "markdown",
   "id": "4be95b8c",
   "metadata": {},
   "source": [
    "# Import\n",
    "## Librairies"
   ]
  },
  {
   "cell_type": "code",
   "execution_count": 62,
   "id": "661ee42f",
   "metadata": {
    "ExecuteTime": {
     "end_time": "2023-11-18T21:55:09.829334Z",
     "start_time": "2023-11-18T21:55:09.779125Z"
    }
   },
   "outputs": [],
   "source": [
    "# Data\n",
    "import pandas as pd\n",
    "import numpy as np\n",
    "\n",
    "# Maths\n",
    "import math\n",
    "\n",
    "#Date\n",
    "import datetime\n",
    "from datetime import timedelta\n",
    "\n",
    "# Graphics\n",
    "import matplotlib.pyplot as plt\n",
    "import seaborn as sns\n",
    "\n",
    "# Pre-processing\n",
    "from sklearn.preprocessing import StandardScaler\n",
    "\n",
    "# Metrics\n",
    "from sklearn.metrics import adjusted_rand_score\n",
    "\n",
    "# Pipeline\n",
    "from sklearn.pipeline import Pipeline\n",
    "from sklearn.pipeline import make_pipeline\n",
    "\n",
    "# Cluster\n",
    "from sklearn.cluster import KMeans\n",
    "\n",
    "# Warnings\n",
    "import warnings\n",
    "\n",
    "warnings.simplefilter(action='ignore', category=FutureWarning)"
   ]
  },
  {
   "cell_type": "markdown",
   "id": "5b5fdb66",
   "metadata": {},
   "source": [
    "## Fonctions"
   ]
  },
  {
   "cell_type": "code",
   "execution_count": null,
   "id": "d9478d39",
   "metadata": {},
   "outputs": [],
   "source": []
  },
  {
   "cell_type": "markdown",
   "id": "b7dd4705",
   "metadata": {},
   "source": [
    "## Données"
   ]
  },
  {
   "cell_type": "code",
   "execution_count": 63,
   "id": "4770e4e5",
   "metadata": {
    "ExecuteTime": {
     "end_time": "2023-11-18T21:55:10.021004Z",
     "start_time": "2023-11-18T21:55:09.833847Z"
    }
   },
   "outputs": [
    {
     "data": {
      "text/html": [
       "<div>\n",
       "<style scoped>\n",
       "    .dataframe tbody tr th:only-of-type {\n",
       "        vertical-align: middle;\n",
       "    }\n",
       "\n",
       "    .dataframe tbody tr th {\n",
       "        vertical-align: top;\n",
       "    }\n",
       "\n",
       "    .dataframe thead th {\n",
       "        text-align: right;\n",
       "    }\n",
       "</style>\n",
       "<table border=\"1\" class=\"dataframe\">\n",
       "  <thead>\n",
       "    <tr style=\"text-align: right;\">\n",
       "      <th></th>\n",
       "      <th>Recency</th>\n",
       "      <th>Frequency</th>\n",
       "      <th>Monetary</th>\n",
       "      <th>Labels</th>\n",
       "      <th>Last_Order</th>\n",
       "    </tr>\n",
       "  </thead>\n",
       "  <tbody>\n",
       "    <tr>\n",
       "      <th>0</th>\n",
       "      <td>160</td>\n",
       "      <td>1</td>\n",
       "      <td>141.90</td>\n",
       "      <td>0</td>\n",
       "      <td>2018-05-10</td>\n",
       "    </tr>\n",
       "    <tr>\n",
       "      <th>1</th>\n",
       "      <td>177</td>\n",
       "      <td>1</td>\n",
       "      <td>82.05</td>\n",
       "      <td>0</td>\n",
       "      <td>2018-04-23</td>\n",
       "    </tr>\n",
       "    <tr>\n",
       "      <th>2</th>\n",
       "      <td>114</td>\n",
       "      <td>1</td>\n",
       "      <td>78.42</td>\n",
       "      <td>0</td>\n",
       "      <td>2018-06-25</td>\n",
       "    </tr>\n",
       "    <tr>\n",
       "      <th>3</th>\n",
       "      <td>112</td>\n",
       "      <td>1</td>\n",
       "      <td>124.32</td>\n",
       "      <td>0</td>\n",
       "      <td>2018-06-27</td>\n",
       "    </tr>\n",
       "    <tr>\n",
       "      <th>4</th>\n",
       "      <td>70</td>\n",
       "      <td>1</td>\n",
       "      <td>92.18</td>\n",
       "      <td>0</td>\n",
       "      <td>2018-08-08</td>\n",
       "    </tr>\n",
       "  </tbody>\n",
       "</table>\n",
       "</div>"
      ],
      "text/plain": [
       "   Recency  Frequency  Monetary  Labels Last_Order\n",
       "0      160          1    141.90       0 2018-05-10\n",
       "1      177          1     82.05       0 2018-04-23\n",
       "2      114          1     78.42       0 2018-06-25\n",
       "3      112          1    124.32       0 2018-06-27\n",
       "4       70          1     92.18       0 2018-08-08"
      ]
     },
     "execution_count": 63,
     "metadata": {},
     "output_type": "execute_result"
    }
   ],
   "source": [
    "# Récupération des données RFM\n",
    "X_rfm = pd.read_csv(\"../Data/RFM_Data.csv\", parse_dates=[\"Last_Order\"])\n",
    "\n",
    "X_rfm.head()"
   ]
  },
  {
   "cell_type": "code",
   "execution_count": 64,
   "id": "a76569db",
   "metadata": {
    "ExecuteTime": {
     "end_time": "2023-11-18T21:55:10.097854Z",
     "start_time": "2023-11-18T21:55:10.022009Z"
    }
   },
   "outputs": [
    {
     "data": {
      "text/html": [
       "<div>\n",
       "<style scoped>\n",
       "    .dataframe tbody tr th:only-of-type {\n",
       "        vertical-align: middle;\n",
       "    }\n",
       "\n",
       "    .dataframe tbody tr th {\n",
       "        vertical-align: top;\n",
       "    }\n",
       "\n",
       "    .dataframe thead th {\n",
       "        text-align: right;\n",
       "    }\n",
       "</style>\n",
       "<table border=\"1\" class=\"dataframe\">\n",
       "  <thead>\n",
       "    <tr style=\"text-align: right;\">\n",
       "      <th></th>\n",
       "      <th>Recency</th>\n",
       "      <th>Frequency</th>\n",
       "      <th>Monetary</th>\n",
       "      <th>Last_Review</th>\n",
       "      <th>Labels</th>\n",
       "      <th>Last_Order</th>\n",
       "    </tr>\n",
       "  </thead>\n",
       "  <tbody>\n",
       "    <tr>\n",
       "      <th>0</th>\n",
       "      <td>160</td>\n",
       "      <td>1</td>\n",
       "      <td>141.90</td>\n",
       "      <td>5.0</td>\n",
       "      <td>3</td>\n",
       "      <td>2018-05-10</td>\n",
       "    </tr>\n",
       "    <tr>\n",
       "      <th>1</th>\n",
       "      <td>177</td>\n",
       "      <td>1</td>\n",
       "      <td>82.05</td>\n",
       "      <td>4.0</td>\n",
       "      <td>3</td>\n",
       "      <td>2018-04-23</td>\n",
       "    </tr>\n",
       "    <tr>\n",
       "      <th>2</th>\n",
       "      <td>114</td>\n",
       "      <td>1</td>\n",
       "      <td>78.42</td>\n",
       "      <td>3.0</td>\n",
       "      <td>3</td>\n",
       "      <td>2018-06-25</td>\n",
       "    </tr>\n",
       "    <tr>\n",
       "      <th>3</th>\n",
       "      <td>112</td>\n",
       "      <td>1</td>\n",
       "      <td>124.32</td>\n",
       "      <td>5.0</td>\n",
       "      <td>3</td>\n",
       "      <td>2018-06-27</td>\n",
       "    </tr>\n",
       "    <tr>\n",
       "      <th>4</th>\n",
       "      <td>70</td>\n",
       "      <td>1</td>\n",
       "      <td>92.18</td>\n",
       "      <td>5.0</td>\n",
       "      <td>3</td>\n",
       "      <td>2018-08-08</td>\n",
       "    </tr>\n",
       "  </tbody>\n",
       "</table>\n",
       "</div>"
      ],
      "text/plain": [
       "   Recency  Frequency  Monetary  Last_Review  Labels Last_Order\n",
       "0      160          1    141.90          5.0       3 2018-05-10\n",
       "1      177          1     82.05          4.0       3 2018-04-23\n",
       "2      114          1     78.42          3.0       3 2018-06-25\n",
       "3      112          1    124.32          5.0       3 2018-06-27\n",
       "4       70          1     92.18          5.0       3 2018-08-08"
      ]
     },
     "execution_count": 64,
     "metadata": {},
     "output_type": "execute_result"
    }
   ],
   "source": [
    "# Récupération des données de base\n",
    "X_base = pd.read_csv(\"../Data/Base_data.csv\", parse_dates=[\"Last_Order\"])\n",
    "\n",
    "X_base.head()"
   ]
  },
  {
   "cell_type": "code",
   "execution_count": 65,
   "id": "59d15f44",
   "metadata": {
    "ExecuteTime": {
     "end_time": "2023-11-18T21:55:10.184876Z",
     "start_time": "2023-11-18T21:55:10.098859Z"
    }
   },
   "outputs": [
    {
     "data": {
      "text/html": [
       "<div>\n",
       "<style scoped>\n",
       "    .dataframe tbody tr th:only-of-type {\n",
       "        vertical-align: middle;\n",
       "    }\n",
       "\n",
       "    .dataframe tbody tr th {\n",
       "        vertical-align: top;\n",
       "    }\n",
       "\n",
       "    .dataframe thead th {\n",
       "        text-align: right;\n",
       "    }\n",
       "</style>\n",
       "<table border=\"1\" class=\"dataframe\">\n",
       "  <thead>\n",
       "    <tr style=\"text-align: right;\">\n",
       "      <th></th>\n",
       "      <th>Recency</th>\n",
       "      <th>Frequency</th>\n",
       "      <th>Monetary</th>\n",
       "      <th>Last_Review</th>\n",
       "      <th>Labels</th>\n",
       "      <th>Last_Order</th>\n",
       "    </tr>\n",
       "  </thead>\n",
       "  <tbody>\n",
       "    <tr>\n",
       "      <th>0</th>\n",
       "      <td>160</td>\n",
       "      <td>0.0</td>\n",
       "      <td>4.955123</td>\n",
       "      <td>5.0</td>\n",
       "      <td>0</td>\n",
       "      <td>2018-05-10</td>\n",
       "    </tr>\n",
       "    <tr>\n",
       "      <th>1</th>\n",
       "      <td>177</td>\n",
       "      <td>0.0</td>\n",
       "      <td>4.407329</td>\n",
       "      <td>4.0</td>\n",
       "      <td>1</td>\n",
       "      <td>2018-04-23</td>\n",
       "    </tr>\n",
       "    <tr>\n",
       "      <th>2</th>\n",
       "      <td>114</td>\n",
       "      <td>0.0</td>\n",
       "      <td>4.362079</td>\n",
       "      <td>3.0</td>\n",
       "      <td>1</td>\n",
       "      <td>2018-06-25</td>\n",
       "    </tr>\n",
       "    <tr>\n",
       "      <th>3</th>\n",
       "      <td>112</td>\n",
       "      <td>0.0</td>\n",
       "      <td>4.822859</td>\n",
       "      <td>5.0</td>\n",
       "      <td>1</td>\n",
       "      <td>2018-06-27</td>\n",
       "    </tr>\n",
       "    <tr>\n",
       "      <th>4</th>\n",
       "      <td>70</td>\n",
       "      <td>0.0</td>\n",
       "      <td>4.523743</td>\n",
       "      <td>5.0</td>\n",
       "      <td>1</td>\n",
       "      <td>2018-08-08</td>\n",
       "    </tr>\n",
       "  </tbody>\n",
       "</table>\n",
       "</div>"
      ],
      "text/plain": [
       "   Recency  Frequency  Monetary  Last_Review  Labels Last_Order\n",
       "0      160        0.0  4.955123          5.0       0 2018-05-10\n",
       "1      177        0.0  4.407329          4.0       1 2018-04-23\n",
       "2      114        0.0  4.362079          3.0       1 2018-06-25\n",
       "3      112        0.0  4.822859          5.0       1 2018-06-27\n",
       "4       70        0.0  4.523743          5.0       1 2018-08-08"
      ]
     },
     "execution_count": 65,
     "metadata": {},
     "output_type": "execute_result"
    }
   ],
   "source": [
    "# Récupération des données de avec la transformation logarithmique\n",
    "X_log = pd.read_csv(\"../Data/Log_data.csv\", parse_dates=[\"Last_Order\"])\n",
    "\n",
    "X_log.head()"
   ]
  },
  {
   "cell_type": "markdown",
   "id": "a16e4be9",
   "metadata": {},
   "source": [
    "# Simulation\n",
    "## Récupération du Temps 0 et des différentes étapes de Temps"
   ]
  },
  {
   "cell_type": "code",
   "execution_count": 66,
   "id": "059c0a1d",
   "metadata": {
    "ExecuteTime": {
     "end_time": "2023-11-18T21:55:10.197928Z",
     "start_time": "2023-11-18T21:55:10.186886Z"
    }
   },
   "outputs": [],
   "source": [
    "# Récupération de la date de la dernière commande\n",
    "last_order = X_rfm[\"Last_Order\"].max()\n",
    "\n",
    "# Création de la date de départ du Test\n",
    "first_part_date = datetime.datetime(2018,1,1)\n",
    "\n",
    "# Calcul du nombre de semaines entre les deux dates\n",
    "nb_weeks = math.ceil((last_order - first_part_date).days / 7)\n",
    "\n",
    "# Création de la liste de toutes les dates du test\n",
    "list_dates = [(first_part_date + timedelta(weeks=i)) for i in range(1, nb_weeks+1)]"
   ]
  },
  {
   "cell_type": "markdown",
   "id": "47e02c16",
   "metadata": {},
   "source": [
    "## Tests sur les données RFM"
   ]
  },
  {
   "cell_type": "code",
   "execution_count": 67,
   "id": "0d85a9ad",
   "metadata": {
    "ExecuteTime": {
     "end_time": "2023-11-18T21:55:21.939878Z",
     "start_time": "2023-11-18T21:55:10.200068Z"
    }
   },
   "outputs": [],
   "source": [
    "# Initialisation du scaler et du modèle\n",
    "first_rfm_std_scaler = StandardScaler()\n",
    "first_rfm_kmeans = KMeans(n_clusters=4, random_state=42)\n",
    "\n",
    "# Création de la pipeline\n",
    "first_rfm_pipeline = make_pipeline(first_rfm_std_scaler, first_rfm_kmeans)\n",
    "\n",
    "# Récupération des données à la date de départ\n",
    "orginal_rfm_data = X_rfm.loc[X_rfm[\"Last_Order\"]<=first_part_date, [\"Recency\", \"Frequency\", \"Monetary\"]]\n",
    "\n",
    "# Entrainement du modèle\n",
    "first_rfm_pipeline.fit(orginal_rfm_data)\n",
    "\n",
    "# Récupération des labels originaux\n",
    "original_rfm_labels = first_rfm_pipeline[\"kmeans\"].labels_\n",
    "\n",
    "# Initialisation de la liste des scores\n",
    "list_rfm_ari = []\n",
    "\n",
    "# Boucle sur toutes les dates à tester\n",
    "for date in list_dates:\n",
    "    \n",
    "    # Récupération des données tests\n",
    "    rfm_df = X_rfm.loc[X_rfm[\"Last_Order\"]<=date, [\"Recency\", \"Frequency\", \"Monetary\"]]\n",
    "    \n",
    "    #Initialisation du scaler et du modèle\n",
    "    test_rfm_std_scaler = StandardScaler()\n",
    "    test_rfm_kmeans = KMeans(n_clusters=4, random_state=42)\n",
    "    \n",
    "    # Création de la pipeline\n",
    "    test_rfm_pipeline = make_pipeline(test_rfm_std_scaler, test_rfm_kmeans)\n",
    "    \n",
    "    # Entrainement du modèle\n",
    "    test_rfm_pipeline.fit(rfm_df)\n",
    "    \n",
    "    # Récupération des nouveaux labels\n",
    "    test_rfm_labels = test_rfm_pipeline.predict(orginal_rfm_data)\n",
    "    \n",
    "    # Calcul du score de l'indice de Rand\n",
    "    score_rfm_ari = adjusted_rand_score(original_rfm_labels, test_rfm_labels)\n",
    "    \n",
    "    # Ajout du score à la liste avec la date\n",
    "    list_rfm_ari.append([date, score_rfm_ari])"
   ]
  },
  {
   "cell_type": "code",
   "execution_count": 68,
   "id": "4d7e56ec",
   "metadata": {
    "ExecuteTime": {
     "end_time": "2023-11-18T21:55:21.953127Z",
     "start_time": "2023-11-18T21:55:21.940882Z"
    }
   },
   "outputs": [
    {
     "data": {
      "text/html": [
       "<div>\n",
       "<style scoped>\n",
       "    .dataframe tbody tr th:only-of-type {\n",
       "        vertical-align: middle;\n",
       "    }\n",
       "\n",
       "    .dataframe tbody tr th {\n",
       "        vertical-align: top;\n",
       "    }\n",
       "\n",
       "    .dataframe thead th {\n",
       "        text-align: right;\n",
       "    }\n",
       "</style>\n",
       "<table border=\"1\" class=\"dataframe\">\n",
       "  <thead>\n",
       "    <tr style=\"text-align: right;\">\n",
       "      <th></th>\n",
       "      <th>Order_Date</th>\n",
       "      <th>Score ARI</th>\n",
       "    </tr>\n",
       "  </thead>\n",
       "  <tbody>\n",
       "    <tr>\n",
       "      <th>0</th>\n",
       "      <td>2018-01-08</td>\n",
       "      <td>0.945860</td>\n",
       "    </tr>\n",
       "    <tr>\n",
       "      <th>1</th>\n",
       "      <td>2018-01-15</td>\n",
       "      <td>0.894464</td>\n",
       "    </tr>\n",
       "    <tr>\n",
       "      <th>2</th>\n",
       "      <td>2018-01-22</td>\n",
       "      <td>0.844600</td>\n",
       "    </tr>\n",
       "    <tr>\n",
       "      <th>3</th>\n",
       "      <td>2018-01-29</td>\n",
       "      <td>0.810887</td>\n",
       "    </tr>\n",
       "    <tr>\n",
       "      <th>4</th>\n",
       "      <td>2018-02-05</td>\n",
       "      <td>0.755255</td>\n",
       "    </tr>\n",
       "  </tbody>\n",
       "</table>\n",
       "</div>"
      ],
      "text/plain": [
       "  Order_Date  Score ARI\n",
       "0 2018-01-08   0.945860\n",
       "1 2018-01-15   0.894464\n",
       "2 2018-01-22   0.844600\n",
       "3 2018-01-29   0.810887\n",
       "4 2018-02-05   0.755255"
      ]
     },
     "execution_count": 68,
     "metadata": {},
     "output_type": "execute_result"
    }
   ],
   "source": [
    "# Création du DataFrame des scores\n",
    "ari_rfm_df = pd.DataFrame(list_rfm_ari, columns=[\"Order_Date\", \"Score ARI\"])\n",
    "ari_rfm_df.head()"
   ]
  },
  {
   "cell_type": "code",
   "execution_count": 86,
   "id": "48fa891b",
   "metadata": {
    "ExecuteTime": {
     "end_time": "2023-11-18T23:49:56.273432Z",
     "start_time": "2023-11-18T23:49:56.074688Z"
    }
   },
   "outputs": [
    {
     "data": {
      "image/png": "[encoded data removed]",
      "text/plain": [
       "<Figure size 1200x800 with 1 Axes>"
      ]
     },
     "metadata": {},
     "output_type": "display_data"
    }
   ],
   "source": [
    "# Affichage du graphique des scores en fonction de la date\n",
    "plt.figure(figsize=(12,8))\n",
    "sns.lineplot(ari_rfm_df.set_index(\"Order_Date\"), legend=False)\n",
    "plt.axhline(y=0.9, color='r', linestyle='--')\n",
    "plt.xticks(rotation=45)\n",
    "plt.ylabel(\"Score ARI\")\n",
    "plt.title(\"Evolution du score selon la date limite des données\")\n",
    "plt.grid(True)\n",
    "plt.show()"
   ]
  },
  {
   "cell_type": "code",
   "execution_count": 70,
   "id": "12f5ddf3",
   "metadata": {
    "ExecuteTime": {
     "end_time": "2023-11-18T21:55:22.189802Z",
     "start_time": "2023-11-18T21:55:22.180771Z"
    }
   },
   "outputs": [
    {
     "data": {
      "text/plain": [
       "Timedelta('14 days 00:00:00')"
      ]
     },
     "execution_count": 70,
     "metadata": {},
     "output_type": "execute_result"
    }
   ],
   "source": [
    "# Récupération de l'index où le score descend en dessous du palier de 0.9\n",
    "index_ari = ari_rfm_df.loc[ari_rfm_df[\"Score ARI\"]<0.9].index[0]\n",
    "\n",
    "# Récupération de la date limite\n",
    "limit_date = ari_rfm_df.loc[index_ari, \"Order_Date\"]\n",
    "\n",
    "# Calcul du nombre de jours avant de devoir réentrainer le modèle\n",
    "days_maj = limit_date - first_part_date\n",
    "days_maj"
   ]
  },
  {
   "cell_type": "markdown",
   "id": "ed7220d3",
   "metadata": {},
   "source": [
    "## Tests sur les données de base avec Last_Review"
   ]
  },
  {
   "cell_type": "code",
   "execution_count": 71,
   "id": "754a44ca",
   "metadata": {
    "ExecuteTime": {
     "end_time": "2023-11-18T21:55:35.691190Z",
     "start_time": "2023-11-18T21:55:22.191809Z"
    }
   },
   "outputs": [],
   "source": [
    "# Initialisation du scaler et du modèle\n",
    "first_base_std_scaler = StandardScaler()\n",
    "first_base_kmeans = KMeans(n_clusters=5, random_state=42)\n",
    "\n",
    "# Création de la pipeline\n",
    "first_base_pipeline = make_pipeline(first_base_std_scaler, first_base_kmeans)\n",
    "\n",
    "# Récupération des données à la date de départ\n",
    "orginal_base_data = X_base.loc[X_base[\"Last_Order\"]<=first_part_date, [\"Recency\", \"Frequency\", \"Monetary\", \"Last_Review\"]]\n",
    "\n",
    "# Entrainement du modèle\n",
    "first_base_pipeline.fit(orginal_base_data)\n",
    "\n",
    "# Récupération des labels originaux\n",
    "original_base_labels = first_base_pipeline[\"kmeans\"].labels_\n",
    "\n",
    "# Initialisation de la liste des scores\n",
    "list_base_ari = []\n",
    "\n",
    "# Boucle sur toutes les dates à tester\n",
    "for date in list_dates:\n",
    "    \n",
    "    # Récupération des données tests\n",
    "    base_df = X_base.loc[X_base[\"Last_Order\"]<=date, [\"Recency\", \"Frequency\", \"Monetary\", \"Last_Review\"]]\n",
    "    \n",
    "    #Initialisation du scaler et du modèle\n",
    "    test_base_std_scaler = StandardScaler()\n",
    "    test_base_kmeans = KMeans(n_clusters=5, random_state=42)\n",
    "    \n",
    "    # Création de la pipeline\n",
    "    test_base_pipeline = make_pipeline(test_base_std_scaler, test_base_kmeans)\n",
    "    \n",
    "    # Entrainement du modèle\n",
    "    test_base_pipeline.fit(base_df)\n",
    "    \n",
    "    # Récupération des nouveaux labels\n",
    "    test_base_labels = test_base_pipeline.predict(orginal_base_data)\n",
    "    \n",
    "    # Calcul du score de l'indice de Rand\n",
    "    score_base_ari = adjusted_rand_score(original_base_labels, test_base_labels)\n",
    "    \n",
    "    # Ajout du score à la liste avec la date\n",
    "    list_base_ari.append([date, score_base_ari])"
   ]
  },
  {
   "cell_type": "code",
   "execution_count": 72,
   "id": "700d37dc",
   "metadata": {
    "ExecuteTime": {
     "end_time": "2023-11-18T21:55:35.700550Z",
     "start_time": "2023-11-18T21:55:35.692196Z"
    }
   },
   "outputs": [
    {
     "data": {
      "text/html": [
       "<div>\n",
       "<style scoped>\n",
       "    .dataframe tbody tr th:only-of-type {\n",
       "        vertical-align: middle;\n",
       "    }\n",
       "\n",
       "    .dataframe tbody tr th {\n",
       "        vertical-align: top;\n",
       "    }\n",
       "\n",
       "    .dataframe thead th {\n",
       "        text-align: right;\n",
       "    }\n",
       "</style>\n",
       "<table border=\"1\" class=\"dataframe\">\n",
       "  <thead>\n",
       "    <tr style=\"text-align: right;\">\n",
       "      <th></th>\n",
       "      <th>Order_Date</th>\n",
       "      <th>Score ARI</th>\n",
       "    </tr>\n",
       "  </thead>\n",
       "  <tbody>\n",
       "    <tr>\n",
       "      <th>0</th>\n",
       "      <td>2018-01-08</td>\n",
       "      <td>0.957891</td>\n",
       "    </tr>\n",
       "    <tr>\n",
       "      <th>1</th>\n",
       "      <td>2018-01-15</td>\n",
       "      <td>0.914365</td>\n",
       "    </tr>\n",
       "    <tr>\n",
       "      <th>2</th>\n",
       "      <td>2018-01-22</td>\n",
       "      <td>0.867064</td>\n",
       "    </tr>\n",
       "    <tr>\n",
       "      <th>3</th>\n",
       "      <td>2018-01-29</td>\n",
       "      <td>0.833651</td>\n",
       "    </tr>\n",
       "    <tr>\n",
       "      <th>4</th>\n",
       "      <td>2018-02-05</td>\n",
       "      <td>0.794111</td>\n",
       "    </tr>\n",
       "  </tbody>\n",
       "</table>\n",
       "</div>"
      ],
      "text/plain": [
       "  Order_Date  Score ARI\n",
       "0 2018-01-08   0.957891\n",
       "1 2018-01-15   0.914365\n",
       "2 2018-01-22   0.867064\n",
       "3 2018-01-29   0.833651\n",
       "4 2018-02-05   0.794111"
      ]
     },
     "execution_count": 72,
     "metadata": {},
     "output_type": "execute_result"
    }
   ],
   "source": [
    "# Création du DataFrame des scores\n",
    "ari_base_df = pd.DataFrame(list_base_ari, columns=[\"Order_Date\", \"Score ARI\"])\n",
    "ari_base_df.head()"
   ]
  },
  {
   "cell_type": "code",
   "execution_count": 85,
   "id": "cb128cad",
   "metadata": {
    "ExecuteTime": {
     "end_time": "2023-11-18T23:49:38.186976Z",
     "start_time": "2023-11-18T23:49:37.963305Z"
    }
   },
   "outputs": [
    {
     "data": {
      "image/png": "[encoded data removed]",
      "text/plain": [
       "<Figure size 1200x800 with 1 Axes>"
      ]
     },
     "metadata": {},
     "output_type": "display_data"
    }
   ],
   "source": [
    "# Affichage du graphique des scores en fonction de la date\n",
    "plt.figure(figsize=(12,8))\n",
    "sns.lineplot(ari_base_df.set_index(\"Order_Date\"), legend=False)\n",
    "plt.axhline(y=0.9, color='r', linestyle='--')\n",
    "plt.xticks(rotation=45)\n",
    "plt.ylabel(\"Score ARI\")\n",
    "plt.title(\"Evolution du score selon la date limite des données\")\n",
    "plt.grid(True)\n",
    "plt.show()"
   ]
  },
  {
   "cell_type": "code",
   "execution_count": 74,
   "id": "3af367be",
   "metadata": {
    "ExecuteTime": {
     "end_time": "2023-11-18T21:55:35.917919Z",
     "start_time": "2023-11-18T21:55:35.911466Z"
    }
   },
   "outputs": [
    {
     "data": {
      "text/plain": [
       "Timedelta('21 days 00:00:00')"
      ]
     },
     "execution_count": 74,
     "metadata": {},
     "output_type": "execute_result"
    }
   ],
   "source": [
    "# Récupération de l'index où le score descend en dessous du palier de 0.9\n",
    "index_ari = ari_base_df.loc[ari_base_df[\"Score ARI\"]<0.9].index[0]\n",
    "\n",
    "# Récupération de la date limite\n",
    "limit_date = ari_base_df.loc[index_ari, \"Order_Date\"]\n",
    "\n",
    "# Calcul du nombre de jours avant de devoir réentrainer le modèle\n",
    "days_maj = limit_date - first_part_date\n",
    "days_maj"
   ]
  },
  {
   "cell_type": "markdown",
   "id": "2ee2c6be",
   "metadata": {},
   "source": [
    "## Tests sur les données passées au logarithme"
   ]
  },
  {
   "cell_type": "code",
   "execution_count": 75,
   "id": "0719922b",
   "metadata": {
    "ExecuteTime": {
     "end_time": "2023-11-18T21:55:51.048902Z",
     "start_time": "2023-11-18T21:55:35.921437Z"
    }
   },
   "outputs": [],
   "source": [
    "# Initialisation du scaler et du modèle\n",
    "first_log_std_scaler = StandardScaler()\n",
    "first_log_kmeans = KMeans(n_clusters=5, random_state=42)\n",
    "\n",
    "# Création de la pipeline\n",
    "first_log_pipeline = make_pipeline(first_log_std_scaler, first_log_kmeans)\n",
    "\n",
    "# Récupération des données à la date de départ\n",
    "orginal_log_data = X_log.loc[X_log[\"Last_Order\"]<=first_part_date, [\"Recency\", \"Frequency\", \"Monetary\", \"Last_Review\"]]\n",
    "\n",
    "# Entrainement du modèle\n",
    "first_log_pipeline.fit(orginal_log_data)\n",
    "\n",
    "# Récupération des labels originaux\n",
    "original_log_labels = first_log_pipeline[\"kmeans\"].labels_\n",
    "\n",
    "# Initialisation de la liste des scores  \n",
    "list_log_ari = []\n",
    "\n",
    "# Boucle sur toutes les dates à tester\n",
    "for date in list_dates:\n",
    "    \n",
    "    # Récupération des données tests\n",
    "    log_df = X_log.loc[X_log[\"Last_Order\"]<=date, [\"Recency\", \"Frequency\", \"Monetary\", \"Last_Review\"]]\n",
    "    \n",
    "    #Initialisation du scaler et du modèle\n",
    "    test_log_std_scaler = StandardScaler()\n",
    "    test_log_kmeans = KMeans(n_clusters=5, random_state=42)\n",
    "    \n",
    "    # Création de la pipeline\n",
    "    test_log_pipeline = make_pipeline(test_log_std_scaler, test_log_kmeans)\n",
    "    \n",
    "    # Entrainement du modèle\n",
    "    test_log_pipeline.fit(log_df)\n",
    "    \n",
    "    # Récupération des nouveaux labels\n",
    "    test_log_labels = test_log_pipeline.predict(orginal_log_data)\n",
    "    \n",
    "    # Calcul du score de l'indice de Rand\n",
    "    score_log_ari = adjusted_rand_score(original_log_labels, test_log_labels)\n",
    "    \n",
    "    # Ajout du score à la liste avec la date\n",
    "    list_log_ari.append([date, score_log_ari])"
   ]
  },
  {
   "cell_type": "code",
   "execution_count": 76,
   "id": "61bddd30",
   "metadata": {
    "ExecuteTime": {
     "end_time": "2023-11-18T21:55:51.062162Z",
     "start_time": "2023-11-18T21:55:51.050998Z"
    }
   },
   "outputs": [
    {
     "data": {
      "text/html": [
       "<div>\n",
       "<style scoped>\n",
       "    .dataframe tbody tr th:only-of-type {\n",
       "        vertical-align: middle;\n",
       "    }\n",
       "\n",
       "    .dataframe tbody tr th {\n",
       "        vertical-align: top;\n",
       "    }\n",
       "\n",
       "    .dataframe thead th {\n",
       "        text-align: right;\n",
       "    }\n",
       "</style>\n",
       "<table border=\"1\" class=\"dataframe\">\n",
       "  <thead>\n",
       "    <tr style=\"text-align: right;\">\n",
       "      <th></th>\n",
       "      <th>Order_Date</th>\n",
       "      <th>Score ARI</th>\n",
       "    </tr>\n",
       "  </thead>\n",
       "  <tbody>\n",
       "    <tr>\n",
       "      <th>0</th>\n",
       "      <td>2018-01-08</td>\n",
       "      <td>0.935322</td>\n",
       "    </tr>\n",
       "    <tr>\n",
       "      <th>1</th>\n",
       "      <td>2018-01-15</td>\n",
       "      <td>0.913458</td>\n",
       "    </tr>\n",
       "    <tr>\n",
       "      <th>2</th>\n",
       "      <td>2018-01-22</td>\n",
       "      <td>0.869536</td>\n",
       "    </tr>\n",
       "    <tr>\n",
       "      <th>3</th>\n",
       "      <td>2018-01-29</td>\n",
       "      <td>0.821171</td>\n",
       "    </tr>\n",
       "    <tr>\n",
       "      <th>4</th>\n",
       "      <td>2018-02-05</td>\n",
       "      <td>0.785914</td>\n",
       "    </tr>\n",
       "  </tbody>\n",
       "</table>\n",
       "</div>"
      ],
      "text/plain": [
       "  Order_Date  Score ARI\n",
       "0 2018-01-08   0.935322\n",
       "1 2018-01-15   0.913458\n",
       "2 2018-01-22   0.869536\n",
       "3 2018-01-29   0.821171\n",
       "4 2018-02-05   0.785914"
      ]
     },
     "execution_count": 76,
     "metadata": {},
     "output_type": "execute_result"
    }
   ],
   "source": [
    "# Création du DataFrame des scores\n",
    "ari_log_df = pd.DataFrame(list_log_ari, columns=[\"Order_Date\", \"Score ARI\"])\n",
    "ari_log_df.head()"
   ]
  },
  {
   "cell_type": "code",
   "execution_count": 77,
   "id": "5404649f",
   "metadata": {
    "ExecuteTime": {
     "end_time": "2023-11-18T21:55:51.274817Z",
     "start_time": "2023-11-18T21:55:51.063170Z"
    }
   },
   "outputs": [
    {
     "data": {
      "image/png": "[encoded data removed]",
      "text/plain": [
       "<Figure size 640x480 with 1 Axes>"
      ]
     },
     "metadata": {},
     "output_type": "display_data"
    }
   ],
   "source": [
    "# Affichage du graphique des scores en fonction de la date\n",
    "sns.lineplot(ari_log_df.set_index(\"Order_Date\"), legend=False)\n",
    "plt.xticks(rotation=45)\n",
    "plt.ylabel(\"Score ARI\")\n",
    "plt.grid(True)\n",
    "plt.show()"
   ]
  },
  {
   "cell_type": "code",
   "execution_count": 78,
   "id": "963bb913",
   "metadata": {
    "ExecuteTime": {
     "end_time": "2023-11-18T21:55:51.281396Z",
     "start_time": "2023-11-18T21:55:51.275824Z"
    }
   },
   "outputs": [
    {
     "data": {
      "text/plain": [
       "Timedelta('21 days 00:00:00')"
      ]
     },
     "execution_count": 78,
     "metadata": {},
     "output_type": "execute_result"
    }
   ],
   "source": [
    "# Récupération de l'index où le score descend en dessous du palier de 0.9\n",
    "index_log_ari = ari_log_df.loc[ari_log_df[\"Score ARI\"]<0.9].index[0]\n",
    "\n",
    "# Récupération de la date limite\n",
    "limit_log_date = ari_log_df.loc[index_log_ari, \"Order_Date\"]\n",
    "\n",
    "# Calcul du nombre de jours avant de devoir réentrainer le modèle\n",
    "days_maj = limit_log_date - first_part_date\n",
    "days_maj"
   ]
  }
 ],
 "metadata": {
  "hide_input": false,
  "kernelspec": {
   "display_name": "projet5",
   "language": "python",
   "name": "projet5"
  },
  "language_info": {
   "codemirror_mode": {
    "name": "ipython",
    "version": 3
   },
   "file_extension": ".py",
   "mimetype": "text/x-python",
   "name": "python",
   "nbconvert_exporter": "python",
   "pygments_lexer": "ipython3",
   "version": "3.11.0"
  },
  "toc": {
   "base_numbering": 1,
   "nav_menu": {},
   "number_sections": true,
   "sideBar": true,
   "skip_h1_title": false,
   "title_cell": "Table of Contents",
   "title_sidebar": "Contents",
   "toc_cell": true,
   "toc_position": {
    "height": "calc(100% - 180px)",
    "left": "10px",
    "top": "150px",
    "width": "417.535px"
   },
   "toc_section_display": true,
   "toc_window_display": true
  },
  "varInspector": {
   "cols": {
    "lenName": 16,
    "lenType": 16,
    "lenVar": 40
   },
   "kernels_config": {
    "python": {
     "delete_cmd_postfix": "",
     "delete_cmd_prefix": "del ",
     "library": "var_list.py",
     "varRefreshCmd": "print(var_dic_list())"
    },
    "r": {
     "delete_cmd_postfix": ") ",
     "delete_cmd_prefix": "rm(",
     "library": "var_list.r",
     "varRefreshCmd": "cat(var_dic_list()) "
    }
   },
   "types_to_exclude": [
    "module",
    "function",
    "builtin_function_or_method",
    "instance",
    "_Feature"
   ],
   "window_display": false
  }
 },
 "nbformat": 4,
 "nbformat_minor": 5
}
