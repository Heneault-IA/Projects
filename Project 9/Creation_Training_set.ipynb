{
 "cells": [
  {
   "cell_type": "markdown",
   "id": "6f102845",
   "metadata": {
    "toc": true
   },
   "source": [
    "<h1>Table of Contents<span class=\"tocSkip\"></span></h1>\n",
    "<div class=\"toc\"><ul class=\"toc-item\"></ul></div>"
   ]
  },
  {
   "cell_type": "code",
   "execution_count": 16,
   "id": "829c0e04",
   "metadata": {
    "ExecuteTime": {
     "end_time": "2024-02-08T20:59:14.485830Z",
     "start_time": "2024-02-08T20:59:14.481803Z"
    }
   },
   "outputs": [],
   "source": [
    "import os\n",
    "import numpy as np\n",
    "import pandas as pd\n",
    "from random import sample\n",
    "import shutil"
   ]
  },
  {
   "cell_type": "code",
   "execution_count": 8,
   "id": "86eb7150",
   "metadata": {
    "ExecuteTime": {
     "end_time": "2024-02-08T20:51:33.782287Z",
     "start_time": "2024-02-08T20:51:33.776238Z"
    }
   },
   "outputs": [
    {
     "data": {
      "text/plain": [
       "['Apple Braeburn',\n",
       " 'Apple Crimson Snow',\n",
       " 'Apple Golden 1',\n",
       " 'Apple Golden 2',\n",
       " 'Apple Golden 3']"
      ]
     },
     "execution_count": 8,
     "metadata": {},
     "output_type": "execute_result"
    }
   ],
   "source": [
    "training_path = \"Data/fruits-360_dataset/fruits-360/Training\"\n",
    "\n",
    "folders = os.listdir(path=training_path)\n",
    "folders[:5]"
   ]
  },
  {
   "cell_type": "code",
   "execution_count": 22,
   "id": "d5ffe40b",
   "metadata": {
    "ExecuteTime": {
     "end_time": "2024-02-08T21:02:35.426227Z",
     "start_time": "2024-02-08T21:02:28.671773Z"
    }
   },
   "outputs": [],
   "source": [
    "training_save_path = \"Data/Training\"\n",
    "\n",
    "for folder in folders:\n",
    "    path = os.path.join(training_path, folder)\n",
    "    save_path = os.path.join(training_save_path, folder)\n",
    "    \n",
    "    images = os.listdir(path=path)\n",
    "    images = sample(images, 10)\n",
    "    \n",
    "    if not os.path.exists(save_path):\n",
    "        os.makedirs(save_path, exist_ok=True)\n",
    "    for image in images:\n",
    "        image_path = os.path.join(path, image)\n",
    "        image_save_path = os.path.join(save_path, image)\n",
    "        \n",
    "        shutil.copy(image_path, image_save_path)       "
   ]
  }
 ],
 "metadata": {
  "hide_input": false,
  "kernelspec": {
   "display_name": "projet8",
   "language": "python",
   "name": "projet8"
  },
  "language_info": {
   "codemirror_mode": {
    "name": "ipython",
    "version": 3
   },
   "file_extension": ".py",
   "mimetype": "text/x-python",
   "name": "python",
   "nbconvert_exporter": "python",
   "pygments_lexer": "ipython3",
   "version": "3.11.6"
  },
  "toc": {
   "base_numbering": 1,
   "nav_menu": {},
   "number_sections": true,
   "sideBar": true,
   "skip_h1_title": false,
   "title_cell": "Table of Contents",
   "title_sidebar": "Contents",
   "toc_cell": true,
   "toc_position": {},
   "toc_section_display": true,
   "toc_window_display": false
  },
  "varInspector": {
   "cols": {
    "lenName": 16,
    "lenType": 16,
    "lenVar": 40
   },
   "kernels_config": {
    "python": {
     "delete_cmd_postfix": "",
     "delete_cmd_prefix": "del ",
     "library": "var_list.py",
     "varRefreshCmd": "print(var_dic_list())"
    },
    "r": {
     "delete_cmd_postfix": ") ",
     "delete_cmd_prefix": "rm(",
     "library": "var_list.r",
     "varRefreshCmd": "cat(var_dic_list()) "
    }
   },
   "types_to_exclude": [
    "module",
    "function",
    "builtin_function_or_method",
    "instance",
    "_Feature"
   ],
   "window_display": false
  }
 },
 "nbformat": 4,
 "nbformat_minor": 5
}
