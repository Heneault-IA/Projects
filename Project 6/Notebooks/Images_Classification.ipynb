{
 "cells": [
  {
   "cell_type": "markdown",
   "id": "3b8549ff",
   "metadata": {
    "toc": true
   },
   "source": [
    "<h1>Table of Contents<span class=\"tocSkip\"></span></h1>\n",
    "<div class=\"toc\"><ul class=\"toc-item\"><li><span><a href=\"#Import\" data-toc-modified-id=\"Import-1\"><span class=\"toc-item-num\">1&nbsp;&nbsp;</span>Import</a></span><ul class=\"toc-item\"><li><span><a href=\"#Librairies\" data-toc-modified-id=\"Librairies-1.1\"><span class=\"toc-item-num\">1.1&nbsp;&nbsp;</span>Librairies</a></span></li><li><span><a href=\"#Fonctions\" data-toc-modified-id=\"Fonctions-1.2\"><span class=\"toc-item-num\">1.2&nbsp;&nbsp;</span>Fonctions</a></span></li><li><span><a href=\"#Data\" data-toc-modified-id=\"Data-1.3\"><span class=\"toc-item-num\">1.3&nbsp;&nbsp;</span>Data</a></span></li></ul></li><li><span><a href=\"#Classification-supervisée\" data-toc-modified-id=\"Classification-supervisée-2\"><span class=\"toc-item-num\">2&nbsp;&nbsp;</span>Classification supervisée</a></span><ul class=\"toc-item\"><li><span><a href=\"#Création-du-modèle-de-classification\" data-toc-modified-id=\"Création-du-modèle-de-classification-2.1\"><span class=\"toc-item-num\">2.1&nbsp;&nbsp;</span>Création du modèle de classification</a></span></li><li><span><a href=\"#Approche-avec-préparation-initiale-des-images\" data-toc-modified-id=\"Approche-avec-préparation-initiale-des-images-2.2\"><span class=\"toc-item-num\">2.2&nbsp;&nbsp;</span>Approche avec préparation initiale des images</a></span></li><li><span><a href=\"#Différente-séparation-des-données\" data-toc-modified-id=\"Différente-séparation-des-données-2.3\"><span class=\"toc-item-num\">2.3&nbsp;&nbsp;</span>Différente séparation des données</a></span></li><li><span><a href=\"#Utilisation-de-la-data-augmentation\" data-toc-modified-id=\"Utilisation-de-la-data-augmentation-2.4\"><span class=\"toc-item-num\">2.4&nbsp;&nbsp;</span>Utilisation de la data augmentation</a></span><ul class=\"toc-item\"><li><span><a href=\"#Avec-création-des-datasets-par-tensorflow\" data-toc-modified-id=\"Avec-création-des-datasets-par-tensorflow-2.4.1\"><span class=\"toc-item-num\">2.4.1&nbsp;&nbsp;</span>Avec création des datasets par tensorflow</a></span></li><li><span><a href=\"#Avec-préparation-des-images-avant\" data-toc-modified-id=\"Avec-préparation-des-images-avant-2.4.2\"><span class=\"toc-item-num\">2.4.2&nbsp;&nbsp;</span>Avec préparation des images avant</a></span></li></ul></li></ul></li></ul></div>"
   ]
  },
  {
   "cell_type": "markdown",
   "id": "8b58c54b",
   "metadata": {},
   "source": [
    " # Import\n",
    " ## Librairies"
   ]
  },
  {
   "cell_type": "code",
   "execution_count": 1,
   "id": "ec90176c",
   "metadata": {
    "ExecuteTime": {
     "end_time": "2024-01-30T17:44:57.615972Z",
     "start_time": "2024-01-30T17:44:24.700442Z"
    }
   },
   "outputs": [
    {
     "name": "stdout",
     "output_type": "stream",
     "text": [
      "WARNING:tensorflow:From C:\\Users\\Thomas\\AppData\\Local\\pypoetry\\Cache\\virtualenvs\\projet6-mnlG3Dat-py3.11\\Lib\\site-packages\\keras\\src\\losses.py:2976: The name tf.losses.sparse_softmax_cross_entropy is deprecated. Please use tf.compat.v1.losses.sparse_softmax_cross_entropy instead.\n",
      "\n",
      "Num GPUs Available:  0\n"
     ]
    }
   ],
   "source": [
    "# Builtin\n",
    "import os, time\n",
    "from os import listdir\n",
    "\n",
    "# Data\n",
    "import pandas as pd\n",
    "import numpy as np\n",
    "\n",
    "# Graphics\n",
    "import matplotlib.pyplot as plt\n",
    "import seaborn as sns\n",
    "from plot_keras_history import show_history, plot_history\n",
    "%matplotlib inline\n",
    "\n",
    "# Scikit-Learn\n",
    "from sklearn.model_selection import train_test_split\n",
    "from sklearn import preprocessing\n",
    "from sklearn.metrics import accuracy_score, auc, roc_auc_score, roc_curve, confusion_matrix, classification_report\n",
    "\n",
    "# Glob\n",
    "from glob import glob\n",
    "\n",
    "# Tensorflow\n",
    "import tensorflow as tf\n",
    "from tensorflow.keras.models import Model, Sequential\n",
    "from tensorflow.keras.layers import GlobalAveragePooling2D, GlobalAveragePooling1D, Flatten, Dense, Dropout\n",
    "from tensorflow.keras.layers import Rescaling, RandomFlip, RandomRotation, RandomZoom\n",
    "from tensorflow.keras.callbacks import EarlyStopping, ModelCheckpoint\n",
    "from tensorflow.keras.applications.vgg16 import VGG16\n",
    "from tensorflow.keras.applications.vgg16 import preprocess_input\n",
    "from tensorflow.keras.preprocessing.image import load_img, img_to_array\n",
    "from tensorflow.keras.utils import to_categorical\n",
    "\n",
    "\n",
    "# os.environ[\"TF_KERAS\"]='1'\n",
    "print(\"Num GPUs Available: \", len(tf.config.list_physical_devices('GPU')))"
   ]
  },
  {
   "cell_type": "markdown",
   "id": "876f2d0d",
   "metadata": {},
   "source": [
    "## Fonctions"
   ]
  },
  {
   "cell_type": "code",
   "execution_count": 13,
   "id": "8d8fbdcb",
   "metadata": {
    "ExecuteTime": {
     "end_time": "2024-01-30T19:06:26.051055Z",
     "start_time": "2024-01-30T19:06:26.015254Z"
    }
   },
   "outputs": [],
   "source": [
    "def create_model_fct():\n",
    "    # Récupération modèle pré-entraîné\n",
    "    model0 = VGG16(include_top=False,\n",
    "                   weights=\"imagenet\",\n",
    "                   input_shape=(224, 224, 3))\n",
    "\n",
    "    # Layer non entraînables = on garde les poids du modèle pré-entraîné\n",
    "    for layer in model0.layers:\n",
    "        layer.trainable = False\n",
    "\n",
    "    # Récupérer la sortie de ce réseau\n",
    "    x = model0.output\n",
    "    # Compléter le modèle\n",
    "    x = GlobalAveragePooling2D()(x)\n",
    "    x = Dense(256, activation='relu')(x)\n",
    "    x = Dropout(0.5)(x)\n",
    "    predictions = Dense(7, activation='softmax')(x)\n",
    "\n",
    "    # Définir le nouveau modèle\n",
    "    model = Model(inputs=model0.input, outputs=predictions)\n",
    "    # compilation du modèle\n",
    "    model.compile(loss=\"categorical_crossentropy\",\n",
    "                  optimizer='rmsprop',\n",
    "                  metrics=[\"accuracy\"])\n",
    "\n",
    "    print(model.summary())\n",
    "\n",
    "    return model\n",
    "\n",
    "\n",
    "def image_prep_fct(data):\n",
    "\n",
    "    prepared_images = []\n",
    "\n",
    "    for image_num in range(len(data['image_path'])):\n",
    "        img = (load_img(data['image_path'][image_num], target_size=(224, 224)))\n",
    "        img = img_to_array(img)\n",
    "        img = img.reshape((img.shape[0], img.shape[1], img.shape[2]))\n",
    "        img = preprocess_input(img)\n",
    "        prepared_images.append(img)\n",
    "\n",
    "    prepared_images_np = np.array(prepared_images)\n",
    "\n",
    "    return prepared_images_np\n",
    "\n",
    "\n",
    "def conf_mat_transform(y_true, y_pred):\n",
    "\n",
    "    conf_mat = confusion_matrix(y_true, y_pred)\n",
    "\n",
    "    corresp = np.argmax(conf_mat, axis=0)\n",
    "    print(\"Correspondance des clusters : \", corresp)\n",
    "    # y_pred_transform = np.apply_along_axis(correspond_fct, 1, y_pred)\n",
    "    labels = pd.Series(y_true, name=\"y_true\").to_frame()\n",
    "    labels['y_pred'] = y_pred\n",
    "    labels['y_pred_transform'] = labels['y_pred'].apply(lambda x: corresp[x])\n",
    "\n",
    "    return labels['y_pred_transform']\n",
    "\n",
    "\n",
    "def dataset_fct(path,\n",
    "                labels,\n",
    "                batch_size=32,\n",
    "                validation_split=0,\n",
    "                data_type=None):\n",
    "\n",
    "    dataset = tf.keras.utils.image_dataset_from_directory(\n",
    "        path,\n",
    "        labels=labels,\n",
    "        label_mode='categorical',\n",
    "        class_names=None,\n",
    "        batch_size=batch_size,\n",
    "        image_size=(224, 224),\n",
    "        shuffle=True,\n",
    "        seed=42,\n",
    "        validation_split=validation_split,\n",
    "        subset=data_type)\n",
    "\n",
    "    return dataset\n",
    "\n",
    "\n",
    "def create_model_augmentation_fct():\n",
    "    # Data augmentation\n",
    "    data_augmentation = Sequential([\n",
    "        RandomFlip(\"horizontal\", input_shape=(224, 224, 3)),\n",
    "        RandomRotation(0.1),\n",
    "        RandomZoom(0.1)\n",
    "    ])\n",
    "\n",
    "    # Récupération modèle pré-entraîné\n",
    "    model_base = VGG16(include_top=False,\n",
    "                       weights=\"imagenet\",\n",
    "                       input_shape=(224, 224, 3))\n",
    "    for layer in model_base.layers:\n",
    "        layer.trainable = False\n",
    "\n",
    "    # Définition du nouveau modèle\n",
    "    model = Sequential([\n",
    "        data_augmentation,\n",
    "        Rescaling(1. / 127.5, offset=-1.0),\n",
    "        model_base,\n",
    "        GlobalAveragePooling2D(),\n",
    "        Dense(256, activation='relu'),\n",
    "        Dropout(0.5),\n",
    "        Dense(7, activation='softmax')\n",
    "    ])\n",
    "\n",
    "    # compilation du modèle\n",
    "    model.compile(loss=\"categorical_crossentropy\",\n",
    "                  optimizer='adam',\n",
    "                  metrics=[\"accuracy\"])\n",
    "\n",
    "    print(model.summary())\n",
    "\n",
    "    return model\n",
    "\n",
    "def print_training_time(duration):\n",
    "    if duration > 60:\n",
    "        m = int(duration//60)\n",
    "        s = int(duration - m*60)\n",
    "        print(f\"Temps d'entrainement : {m}m {s}s\")"
   ]
  },
  {
   "cell_type": "markdown",
   "id": "b69a2f83",
   "metadata": {},
   "source": [
    "## Data"
   ]
  },
  {
   "cell_type": "code",
   "execution_count": 3,
   "id": "5d677632",
   "metadata": {
    "ExecuteTime": {
     "end_time": "2024-01-30T17:45:04.039793Z",
     "start_time": "2024-01-30T17:45:03.970810Z"
    }
   },
   "outputs": [
    {
     "data": {
      "text/html": [
       "<div>\n",
       "<style scoped>\n",
       "    .dataframe tbody tr th:only-of-type {\n",
       "        vertical-align: middle;\n",
       "    }\n",
       "\n",
       "    .dataframe tbody tr th {\n",
       "        vertical-align: top;\n",
       "    }\n",
       "\n",
       "    .dataframe thead th {\n",
       "        text-align: right;\n",
       "    }\n",
       "</style>\n",
       "<table border=\"1\" class=\"dataframe\">\n",
       "  <thead>\n",
       "    <tr style=\"text-align: right;\">\n",
       "      <th></th>\n",
       "      <th>text</th>\n",
       "      <th>main_category</th>\n",
       "      <th>clean_text</th>\n",
       "      <th>image_name</th>\n",
       "    </tr>\n",
       "  </thead>\n",
       "  <tbody>\n",
       "    <tr>\n",
       "      <th>0</th>\n",
       "      <td>Elegance Polyester Multicolor Abstract Eyelet ...</td>\n",
       "      <td>Home Furnishing</td>\n",
       "      <td>elegance polyester multicolor abstract eyelet ...</td>\n",
       "      <td>55b85ea15a1536d46b7190ad6fff8ce7.jpg</td>\n",
       "    </tr>\n",
       "    <tr>\n",
       "      <th>1</th>\n",
       "      <td>Sathiyas Cotton Bath Towel Specifications of S...</td>\n",
       "      <td>Baby Care</td>\n",
       "      <td>cotton bath towel specification cotton bath to...</td>\n",
       "      <td>7b72c92c2f6c40268628ec5f14c6d590.jpg</td>\n",
       "    </tr>\n",
       "    <tr>\n",
       "      <th>2</th>\n",
       "      <td>Eurospa Cotton Terry Face Towel Set Key Featur...</td>\n",
       "      <td>Baby Care</td>\n",
       "      <td>cotton terry face towel set key feature cotton...</td>\n",
       "      <td>64d5d4a258243731dc7bbb1eef49ad74.jpg</td>\n",
       "    </tr>\n",
       "    <tr>\n",
       "      <th>3</th>\n",
       "      <td>SANTOSH ROYAL FASHION Cotton Printed King size...</td>\n",
       "      <td>Home Furnishing</td>\n",
       "      <td>royal fashion cotton printed king sized double...</td>\n",
       "      <td>d4684dcdc759dd9cdf41504698d737d8.jpg</td>\n",
       "    </tr>\n",
       "    <tr>\n",
       "      <th>4</th>\n",
       "      <td>Jaipur Print Cotton Floral King sized Double B...</td>\n",
       "      <td>Home Furnishing</td>\n",
       "      <td>print cotton floral king sized double key feat...</td>\n",
       "      <td>6325b6870c54cd47be6ebfbffa620ec7.jpg</td>\n",
       "    </tr>\n",
       "  </tbody>\n",
       "</table>\n",
       "</div>"
      ],
      "text/plain": [
       "                                                text    main_category  \\\n",
       "0  Elegance Polyester Multicolor Abstract Eyelet ...  Home Furnishing   \n",
       "1  Sathiyas Cotton Bath Towel Specifications of S...        Baby Care   \n",
       "2  Eurospa Cotton Terry Face Towel Set Key Featur...        Baby Care   \n",
       "3  SANTOSH ROYAL FASHION Cotton Printed King size...  Home Furnishing   \n",
       "4  Jaipur Print Cotton Floral King sized Double B...  Home Furnishing   \n",
       "\n",
       "                                          clean_text  \\\n",
       "0  elegance polyester multicolor abstract eyelet ...   \n",
       "1  cotton bath towel specification cotton bath to...   \n",
       "2  cotton terry face towel set key feature cotton...   \n",
       "3  royal fashion cotton printed king sized double...   \n",
       "4  print cotton floral king sized double key feat...   \n",
       "\n",
       "                             image_name  \n",
       "0  55b85ea15a1536d46b7190ad6fff8ce7.jpg  \n",
       "1  7b72c92c2f6c40268628ec5f14c6d590.jpg  \n",
       "2  64d5d4a258243731dc7bbb1eef49ad74.jpg  \n",
       "3  d4684dcdc759dd9cdf41504698d737d8.jpg  \n",
       "4  6325b6870c54cd47be6ebfbffa620ec7.jpg  "
      ]
     },
     "execution_count": 3,
     "metadata": {},
     "output_type": "execute_result"
    }
   ],
   "source": [
    "path = \"../Data/Images/\"\n",
    "df = pd.read_csv(\"../Data/final.csv\")\n",
    "df.head()"
   ]
  },
  {
   "cell_type": "code",
   "execution_count": 4,
   "id": "b8557151",
   "metadata": {
    "ExecuteTime": {
     "end_time": "2024-01-30T17:45:04.969451Z",
     "start_time": "2024-01-30T17:45:04.952168Z"
    }
   },
   "outputs": [
    {
     "data": {
      "text/html": [
       "<div>\n",
       "<style scoped>\n",
       "    .dataframe tbody tr th:only-of-type {\n",
       "        vertical-align: middle;\n",
       "    }\n",
       "\n",
       "    .dataframe tbody tr th {\n",
       "        vertical-align: top;\n",
       "    }\n",
       "\n",
       "    .dataframe thead th {\n",
       "        text-align: right;\n",
       "    }\n",
       "</style>\n",
       "<table border=\"1\" class=\"dataframe\">\n",
       "  <thead>\n",
       "    <tr style=\"text-align: right;\">\n",
       "      <th></th>\n",
       "      <th>main_category</th>\n",
       "      <th>image_path</th>\n",
       "    </tr>\n",
       "  </thead>\n",
       "  <tbody>\n",
       "    <tr>\n",
       "      <th>0</th>\n",
       "      <td>Home Furnishing</td>\n",
       "      <td>../Data/Images/55b85ea15a1536d46b7190ad6fff8ce...</td>\n",
       "    </tr>\n",
       "    <tr>\n",
       "      <th>1</th>\n",
       "      <td>Baby Care</td>\n",
       "      <td>../Data/Images/7b72c92c2f6c40268628ec5f14c6d59...</td>\n",
       "    </tr>\n",
       "    <tr>\n",
       "      <th>2</th>\n",
       "      <td>Baby Care</td>\n",
       "      <td>../Data/Images/64d5d4a258243731dc7bbb1eef49ad7...</td>\n",
       "    </tr>\n",
       "    <tr>\n",
       "      <th>3</th>\n",
       "      <td>Home Furnishing</td>\n",
       "      <td>../Data/Images/d4684dcdc759dd9cdf41504698d737d...</td>\n",
       "    </tr>\n",
       "    <tr>\n",
       "      <th>4</th>\n",
       "      <td>Home Furnishing</td>\n",
       "      <td>../Data/Images/6325b6870c54cd47be6ebfbffa620ec...</td>\n",
       "    </tr>\n",
       "  </tbody>\n",
       "</table>\n",
       "</div>"
      ],
      "text/plain": [
       "     main_category                                         image_path\n",
       "0  Home Furnishing  ../Data/Images/55b85ea15a1536d46b7190ad6fff8ce...\n",
       "1        Baby Care  ../Data/Images/7b72c92c2f6c40268628ec5f14c6d59...\n",
       "2        Baby Care  ../Data/Images/64d5d4a258243731dc7bbb1eef49ad7...\n",
       "3  Home Furnishing  ../Data/Images/d4684dcdc759dd9cdf41504698d737d...\n",
       "4  Home Furnishing  ../Data/Images/6325b6870c54cd47be6ebfbffa620ec..."
      ]
     },
     "execution_count": 4,
     "metadata": {},
     "output_type": "execute_result"
    }
   ],
   "source": [
    "df[\"image_path\"] = df[\"image_name\"].apply(lambda x: path + x)\n",
    "\n",
    "df.drop(columns=[\"text\", \"clean_text\", \"image_name\"], axis=1, inplace=True)\n",
    "\n",
    "df.head()"
   ]
  },
  {
   "cell_type": "code",
   "execution_count": 5,
   "id": "c939f9fb",
   "metadata": {
    "ExecuteTime": {
     "end_time": "2024-01-30T17:45:08.093389Z",
     "start_time": "2024-01-30T17:45:08.088353Z"
    }
   },
   "outputs": [],
   "source": [
    "le = preprocessing.LabelEncoder()\n",
    "le.fit(df[\"main_category\"])\n",
    "\n",
    "df[\"label\"] = le.transform(df[\"main_category\"])"
   ]
  },
  {
   "cell_type": "code",
   "execution_count": 6,
   "id": "ea2ea4a7",
   "metadata": {
    "ExecuteTime": {
     "end_time": "2024-01-30T17:45:08.459027Z",
     "start_time": "2024-01-30T17:45:08.440733Z"
    }
   },
   "outputs": [],
   "source": [
    "# 70% pour l'entraînement\n",
    "train_df = df.sample(frac=0.7, random_state=42).reset_index(\n",
    "    drop=True)  \n",
    "test_df = df.drop(train_df.index).reset_index(drop=True)"
   ]
  },
  {
   "cell_type": "code",
   "execution_count": 7,
   "id": "ec1b6b00",
   "metadata": {
    "ExecuteTime": {
     "end_time": "2024-01-30T17:45:08.967485Z",
     "start_time": "2024-01-30T17:45:08.962942Z"
    }
   },
   "outputs": [
    {
     "name": "stdout",
     "output_type": "stream",
     "text": [
      "Train : (735, 3)\n",
      "\n",
      "Test : (315, 3)\n"
     ]
    }
   ],
   "source": [
    "print(\"Train :\", train_df.shape)\n",
    "print()\n",
    "print(\"Test :\", test_df.shape)"
   ]
  },
  {
   "cell_type": "markdown",
   "id": "c354baab",
   "metadata": {},
   "source": [
    "# Classification supervisée\n",
    "## Création du modèle de classification"
   ]
  },
  {
   "cell_type": "code",
   "execution_count": 8,
   "id": "8f47166f",
   "metadata": {
    "ExecuteTime": {
     "end_time": "2023-12-29T10:36:34.553239Z",
     "start_time": "2023-12-29T10:36:33.397074Z"
    }
   },
   "outputs": [
    {
     "name": "stdout",
     "output_type": "stream",
     "text": [
      "WARNING:tensorflow:From C:\\Users\\Thomas\\AppData\\Local\\pypoetry\\Cache\\virtualenvs\\projet6-mnlG3Dat-py3.11\\Lib\\site-packages\\keras\\src\\backend.py:1398: The name tf.executing_eagerly_outside_functions is deprecated. Please use tf.compat.v1.executing_eagerly_outside_functions instead.\n",
      "\n",
      "WARNING:tensorflow:From C:\\Users\\Thomas\\AppData\\Local\\pypoetry\\Cache\\virtualenvs\\projet6-mnlG3Dat-py3.11\\Lib\\site-packages\\keras\\src\\layers\\pooling\\max_pooling2d.py:161: The name tf.nn.max_pool is deprecated. Please use tf.nn.max_pool2d instead.\n",
      "\n",
      "WARNING:tensorflow:From C:\\Users\\Thomas\\AppData\\Local\\pypoetry\\Cache\\virtualenvs\\projet6-mnlG3Dat-py3.11\\Lib\\site-packages\\keras\\src\\optimizers\\__init__.py:309: The name tf.train.Optimizer is deprecated. Please use tf.compat.v1.train.Optimizer instead.\n",
      "\n",
      "Model: \"model\"\n",
      "_________________________________________________________________\n",
      " Layer (type)                Output Shape              Param #   \n",
      "=================================================================\n",
      " input_1 (InputLayer)        [(None, 224, 224, 3)]     0         \n",
      "                                                                 \n",
      " block1_conv1 (Conv2D)       (None, 224, 224, 64)      1792      \n",
      "                                                                 \n",
      " block1_conv2 (Conv2D)       (None, 224, 224, 64)      36928     \n",
      "                                                                 \n",
      " block1_pool (MaxPooling2D)  (None, 112, 112, 64)      0         \n",
      "                                                                 \n",
      " block2_conv1 (Conv2D)       (None, 112, 112, 128)     73856     \n",
      "                                                                 \n",
      " block2_conv2 (Conv2D)       (None, 112, 112, 128)     147584    \n",
      "                                                                 \n",
      " block2_pool (MaxPooling2D)  (None, 56, 56, 128)       0         \n",
      "                                                                 \n",
      " block3_conv1 (Conv2D)       (None, 56, 56, 256)       295168    \n",
      "                                                                 \n",
      " block3_conv2 (Conv2D)       (None, 56, 56, 256)       590080    \n",
      "                                                                 \n",
      " block3_conv3 (Conv2D)       (None, 56, 56, 256)       590080    \n",
      "                                                                 \n",
      " block3_pool (MaxPooling2D)  (None, 28, 28, 256)       0         \n",
      "                                                                 \n",
      " block4_conv1 (Conv2D)       (None, 28, 28, 512)       1180160   \n",
      "                                                                 \n",
      " block4_conv2 (Conv2D)       (None, 28, 28, 512)       2359808   \n",
      "                                                                 \n",
      " block4_conv3 (Conv2D)       (None, 28, 28, 512)       2359808   \n",
      "                                                                 \n",
      " block4_pool (MaxPooling2D)  (None, 14, 14, 512)       0         \n",
      "                                                                 \n",
      " block5_conv1 (Conv2D)       (None, 14, 14, 512)       2359808   \n",
      "                                                                 \n",
      " block5_conv2 (Conv2D)       (None, 14, 14, 512)       2359808   \n",
      "                                                                 \n",
      " block5_conv3 (Conv2D)       (None, 14, 14, 512)       2359808   \n",
      "                                                                 \n",
      " block5_pool (MaxPooling2D)  (None, 7, 7, 512)         0         \n",
      "                                                                 \n",
      " global_average_pooling2d (  (None, 512)               0         \n",
      " GlobalAveragePooling2D)                                         \n",
      "                                                                 \n",
      " dense (Dense)               (None, 256)               131328    \n",
      "                                                                 \n",
      " dropout (Dropout)           (None, 256)               0         \n",
      "                                                                 \n",
      " dense_1 (Dense)             (None, 7)                 1799      \n",
      "                                                                 \n",
      "=================================================================\n",
      "Total params: 14847815 (56.64 MB)\n",
      "Trainable params: 133127 (520.03 KB)\n",
      "Non-trainable params: 14714688 (56.13 MB)\n",
      "_________________________________________________________________\n",
      "None\n"
     ]
    }
   ],
   "source": [
    "# Création du modèle\n",
    "model1 = create_model_fct()"
   ]
  },
  {
   "cell_type": "code",
   "execution_count": 9,
   "id": "35037eab",
   "metadata": {
    "ExecuteTime": {
     "end_time": "2023-12-29T10:36:34.558517Z",
     "start_time": "2023-12-29T10:36:34.555244Z"
    }
   },
   "outputs": [],
   "source": [
    "# Création du callback\n",
    "model1_save_path1 = \"./model1_best_weights.keras\"\n",
    "checkpoint = ModelCheckpoint(model1_save_path1,\n",
    "                             monitor='val_loss',\n",
    "                             verbose=1,\n",
    "                             save_best_only=True,\n",
    "                             mode='min')\n",
    "es = EarlyStopping(monitor='val_loss', mode='min', verbose=1, patience=5)\n",
    "callbacks_list = [checkpoint, es]"
   ]
  },
  {
   "cell_type": "markdown",
   "id": "d7f3ceca",
   "metadata": {},
   "source": [
    "## Approche avec préparation initiale des images"
   ]
  },
  {
   "cell_type": "code",
   "execution_count": 8,
   "id": "0f45f762",
   "metadata": {
    "ExecuteTime": {
     "end_time": "2024-01-30T17:45:46.086022Z",
     "start_time": "2024-01-30T17:45:14.201855Z"
    }
   },
   "outputs": [
    {
     "name": "stderr",
     "output_type": "stream",
     "text": [
      "C:\\Users\\Thomas\\AppData\\Local\\pypoetry\\Cache\\virtualenvs\\projet6-mnlG3Dat-py3.11\\Lib\\site-packages\\PIL\\Image.py:3182: DecompressionBombWarning: Image size (93680328 pixels) exceeds limit of 89478485 pixels, could be decompression bomb DOS attack.\n",
      "  warnings.warn(\n"
     ]
    },
    {
     "name": "stdout",
     "output_type": "stream",
     "text": [
      "(735, 224, 224, 3)\n",
      "(315, 224, 224, 3)\n"
     ]
    }
   ],
   "source": [
    "images_np = image_prep_fct(train_df)\n",
    "print(images_np.shape)\n",
    "images_np_test = image_prep_fct(test_df)\n",
    "print(images_np_test.shape)"
   ]
  },
  {
   "cell_type": "code",
   "execution_count": 10,
   "id": "22eb24c2",
   "metadata": {
    "ExecuteTime": {
     "end_time": "2024-01-30T17:46:17.055981Z",
     "start_time": "2024-01-30T17:46:17.051211Z"
    }
   },
   "outputs": [],
   "source": [
    "X = images_np\n",
    "y = to_categorical(train_df['label'])\n",
    "\n",
    "X_test = images_np_test\n",
    "y_test = to_categorical(test_df['label'])"
   ]
  },
  {
   "cell_type": "code",
   "execution_count": 11,
   "id": "0bb685d1",
   "metadata": {
    "ExecuteTime": {
     "end_time": "2024-01-30T17:46:22.713165Z",
     "start_time": "2024-01-30T17:46:22.282708Z"
    }
   },
   "outputs": [
    {
     "data": {
      "text/plain": [
       "(551, 224, 224, 3)"
      ]
     },
     "execution_count": 11,
     "metadata": {},
     "output_type": "execute_result"
    }
   ],
   "source": [
    "X_train, X_val, y_train, y_val = train_test_split(X,\n",
    "                                                  y,\n",
    "                                                  stratify=y,\n",
    "                                                  test_size=0.25,\n",
    "                                                  random_state=42)\n",
    "X_train.shape"
   ]
  },
  {
   "cell_type": "code",
   "execution_count": 13,
   "id": "2e140176",
   "metadata": {
    "ExecuteTime": {
     "end_time": "2023-12-29T10:45:23.325469Z",
     "start_time": "2023-12-29T10:36:49.164018Z"
    }
   },
   "outputs": [
    {
     "name": "stdout",
     "output_type": "stream",
     "text": [
      "Epoch 1/50\n",
      "WARNING:tensorflow:From C:\\Users\\Thomas\\AppData\\Local\\pypoetry\\Cache\\virtualenvs\\projet6-mnlG3Dat-py3.11\\Lib\\site-packages\\keras\\src\\utils\\tf_utils.py:492: The name tf.ragged.RaggedTensorValue is deprecated. Please use tf.compat.v1.ragged.RaggedTensorValue instead.\n",
      "\n",
      "WARNING:tensorflow:From C:\\Users\\Thomas\\AppData\\Local\\pypoetry\\Cache\\virtualenvs\\projet6-mnlG3Dat-py3.11\\Lib\\site-packages\\keras\\src\\engine\\base_layer_utils.py:384: The name tf.executing_eagerly_outside_functions is deprecated. Please use tf.compat.v1.executing_eagerly_outside_functions instead.\n",
      "\n",
      "9/9 [==============================] - ETA: 0s - loss: 6.6721 - accuracy: 0.3975\n",
      "Epoch 1: val_loss improved from inf to 1.52540, saving model to .\\model1_best_weights.keras\n",
      "9/9 [==============================] - 51s 6s/step - loss: 6.6721 - accuracy: 0.3975 - val_loss: 1.5254 - val_accuracy: 0.6957\n",
      "Epoch 2/50\n",
      "9/9 [==============================] - ETA: 0s - loss: 1.9901 - accuracy: 0.6842\n",
      "Epoch 2: val_loss improved from 1.52540 to 1.08922, saving model to .\\model1_best_weights.keras\n",
      "9/9 [==============================] - 44s 5s/step - loss: 1.9901 - accuracy: 0.6842 - val_loss: 1.0892 - val_accuracy: 0.7609\n",
      "Epoch 3/50\n",
      "9/9 [==============================] - ETA: 0s - loss: 1.2306 - accuracy: 0.7713\n",
      "Epoch 3: val_loss did not improve from 1.08922\n",
      "9/9 [==============================] - 42s 5s/step - loss: 1.2306 - accuracy: 0.7713 - val_loss: 1.1756 - val_accuracy: 0.7174\n",
      "Epoch 4/50\n",
      "9/9 [==============================] - ETA: 0s - loss: 0.8994 - accuracy: 0.8004\n",
      "Epoch 4: val_loss improved from 1.08922 to 0.98280, saving model to .\\model1_best_weights.keras\n",
      "9/9 [==============================] - 43s 5s/step - loss: 0.8994 - accuracy: 0.8004 - val_loss: 0.9828 - val_accuracy: 0.7772\n",
      "Epoch 5/50\n",
      "9/9 [==============================] - ETA: 0s - loss: 0.6825 - accuracy: 0.8312\n",
      "Epoch 5: val_loss did not improve from 0.98280\n",
      "9/9 [==============================] - 42s 5s/step - loss: 0.6825 - accuracy: 0.8312 - val_loss: 1.0131 - val_accuracy: 0.8043\n",
      "Epoch 6/50\n",
      "9/9 [==============================] - ETA: 0s - loss: 0.5831 - accuracy: 0.8367\n",
      "Epoch 6: val_loss did not improve from 0.98280\n",
      "9/9 [==============================] - 42s 5s/step - loss: 0.5831 - accuracy: 0.8367 - val_loss: 1.0014 - val_accuracy: 0.8152\n",
      "Epoch 7/50\n",
      "9/9 [==============================] - ETA: 0s - loss: 0.3868 - accuracy: 0.8802\n",
      "Epoch 7: val_loss improved from 0.98280 to 0.94565, saving model to .\\model1_best_weights.keras\n",
      "9/9 [==============================] - 43s 5s/step - loss: 0.3868 - accuracy: 0.8802 - val_loss: 0.9456 - val_accuracy: 0.8315\n",
      "Epoch 8/50\n",
      "9/9 [==============================] - ETA: 0s - loss: 0.2583 - accuracy: 0.9220\n",
      "Epoch 8: val_loss did not improve from 0.94565\n",
      "9/9 [==============================] - 43s 5s/step - loss: 0.2583 - accuracy: 0.9220 - val_loss: 1.0100 - val_accuracy: 0.8261\n",
      "Epoch 9/50\n",
      "9/9 [==============================] - ETA: 0s - loss: 0.2802 - accuracy: 0.9147\n",
      "Epoch 9: val_loss did not improve from 0.94565\n",
      "9/9 [==============================] - 42s 5s/step - loss: 0.2802 - accuracy: 0.9147 - val_loss: 0.9932 - val_accuracy: 0.7880\n",
      "Epoch 10/50\n",
      "9/9 [==============================] - ETA: 0s - loss: 0.2396 - accuracy: 0.9256\n",
      "Epoch 10: val_loss did not improve from 0.94565\n",
      "9/9 [==============================] - 43s 5s/step - loss: 0.2396 - accuracy: 0.9256 - val_loss: 0.9959 - val_accuracy: 0.7935\n",
      "Epoch 11/50\n",
      "9/9 [==============================] - ETA: 0s - loss: 0.2215 - accuracy: 0.9328\n",
      "Epoch 11: val_loss did not improve from 0.94565\n",
      "9/9 [==============================] - 41s 5s/step - loss: 0.2215 - accuracy: 0.9328 - val_loss: 1.1466 - val_accuracy: 0.7663\n",
      "Epoch 12/50\n",
      "9/9 [==============================] - ETA: 0s - loss: 0.1635 - accuracy: 0.9419\n",
      "Epoch 12: val_loss did not improve from 0.94565\n",
      "9/9 [==============================] - 38s 4s/step - loss: 0.1635 - accuracy: 0.9419 - val_loss: 0.9876 - val_accuracy: 0.8152\n",
      "Epoch 12: early stopping\n"
     ]
    }
   ],
   "source": [
    "# Entraîner sur les données d'entraînement (X_train, y_train)\n",
    "start = time.time()\n",
    "history1 = model1.fit(X_train,\n",
    "                      y_train,\n",
    "                      epochs=50,\n",
    "                      batch_size=64,\n",
    "                      callbacks=callbacks_list,\n",
    "                      validation_data=(X_val, y_val),\n",
    "                      verbose=1)\n",
    "duration = time.time() - start"
   ]
  },
  {
   "cell_type": "code",
   "execution_count": 32,
   "id": "45cc97e3",
   "metadata": {
    "ExecuteTime": {
     "end_time": "2023-12-29T11:03:34.451373Z",
     "start_time": "2023-12-29T11:02:49.618857Z"
    }
   },
   "outputs": [
    {
     "name": "stdout",
     "output_type": "stream",
     "text": [
      "18/18 [==============================] - 34s 2s/step - loss: 0.5323 - accuracy: 0.9129\n",
      "Training Accuracy: 0.9129\n",
      "\n",
      "6/6 [==============================] - 11s 2s/step - loss: 0.5873 - accuracy: 0.8913\n",
      "Validation Accuracy:  0.8913\n",
      "\n",
      "Temps d'entrainement : 8.0m 34s\n"
     ]
    }
   ],
   "source": [
    "# Score du dernier epoch\n",
    "\n",
    "loss, accuracy = model1.evaluate(X_train, y_train, verbose=True)\n",
    "print(\"Training Accuracy: {:.4f}\".format(accuracy))\n",
    "print()\n",
    "loss, accuracy = model1.evaluate(X_val, y_val, verbose=True)\n",
    "print(\"Validation Accuracy:  {:.4f}\".format(accuracy))"
   ]
  },
  {
   "cell_type": "code",
   "execution_count": 15,
   "id": "39390010",
   "metadata": {
    "ExecuteTime": {
     "end_time": "2023-12-29T10:46:30.373636Z",
     "start_time": "2023-12-29T10:46:02.719963Z"
    }
   },
   "outputs": [
    {
     "name": "stdout",
     "output_type": "stream",
     "text": [
      "Validation Accuracy :  0.8315\n",
      "Test Accuracy       :  0.8667\n"
     ]
    }
   ],
   "source": [
    "# Score de l'epoch optimal\n",
    "\n",
    "model1.load_weights(model1_save_path1)\n",
    "\n",
    "loss, accuracy = model1.evaluate(X_val, y_val, verbose=False)\n",
    "print(\"Validation Accuracy :  {:.4f}\".format(accuracy))\n",
    "\n",
    "loss, accuracy = model1.evaluate(X_test, y_test, verbose=False)\n",
    "print(\"Test Accuracy       :  {:.4f}\".format(accuracy))\n",
    "print()\n",
    "print_training_time(duration)"
   ]
  },
  {
   "cell_type": "code",
   "execution_count": 16,
   "id": "bba923eb",
   "metadata": {
    "ExecuteTime": {
     "end_time": "2023-12-29T10:46:31.162770Z",
     "start_time": "2023-12-29T10:46:30.374643Z"
    }
   },
   "outputs": [
    {
     "data": {
      "image/png": "[encoded data removed]",
      "text/plain": [
       "<Figure size 1000x500 with 2 Axes>"
      ]
     },
     "metadata": {},
     "output_type": "display_data"
    }
   ],
   "source": [
    "# Affichage de l'évolution des scores\n",
    "\n",
    "show_history(history1)\n",
    "plot_history(history1, path=\"Graphs/standard.png\")\n",
    "plt.close()"
   ]
  },
  {
   "cell_type": "code",
   "execution_count": 17,
   "id": "5437df5c",
   "metadata": {
    "ExecuteTime": {
     "end_time": "2023-12-29T10:46:41.131082Z",
     "start_time": "2023-12-29T10:46:31.163776Z"
    }
   },
   "outputs": [
    {
     "name": "stdout",
     "output_type": "stream",
     "text": [
      "6/6 [==============================] - 10s 2s/step\n",
      "[3 3 2 0 2 1 2 6 0 6 2 5 4 1 2 2 4 3 4 4 5 3 4 5 5 5 5 2 0 1 3 4 0 3 3 3 4\n",
      " 3 4 6 4 6 5 1 1 3 6 3 4 6 4 4 6 2 0 1 6 1 2 2 6 1 1 6 3 0 5 0 2 1 1 5 2 4\n",
      " 6 2 2 5 6 5 1 1 1 5 4 6 1 2 3 3 4 1 4 4 0 3 0 2 5 4 4 0 0 4 2 2 0 3 5 0 0\n",
      " 0 0 6 6 1 6 0 5 0 5 4 3 5 2 6 4 5 1 0 6 1 5 4 6 0 3 2 3 4 2 6 5 5 3 5 3 0\n",
      " 1 4 4 0 3 3 5 1 6 6 3 6 5 6 6 2 2 2 4 2 1 4 6 3 3 3 0 5 1 0 5 6 6 1 2 2]\n",
      "\n",
      "[3 3 2 0 2 3 2 6 4 6 2 5 4 1 2 3 0 3 4 4 5 4 3 5 5 5 5 2 0 1 3 3 4 3 3 3 4\n",
      " 3 4 6 4 6 5 1 3 3 6 3 3 6 4 4 6 2 4 1 6 1 2 2 6 1 1 6 4 0 0 0 2 1 1 3 2 4\n",
      " 6 2 2 5 6 5 2 1 3 5 0 6 1 2 4 3 3 1 4 0 0 3 0 2 5 4 4 0 2 4 2 2 0 3 5 0 3\n",
      " 0 4 6 6 5 5 0 5 0 5 4 3 5 2 6 4 0 1 0 6 1 5 4 6 0 3 2 3 0 2 2 5 5 3 5 3 0\n",
      " 1 4 4 0 3 3 5 1 6 6 0 6 3 6 6 2 2 2 4 2 1 4 6 3 3 3 0 5 1 0 5 6 6 3 2 2]\n"
     ]
    }
   ],
   "source": [
    "y_val_num = np.argmax(y_val, axis=1)\n",
    "y_val_pred = np.argmax(model1.predict(X_val), axis=1)\n",
    "y_val_num = np.argmax(y_val, axis=1)\n",
    "print(y_val_num)\n",
    "print()\n",
    "print(y_val_pred)"
   ]
  },
  {
   "cell_type": "code",
   "execution_count": 18,
   "id": "a1ffce40",
   "metadata": {
    "ExecuteTime": {
     "end_time": "2023-12-29T10:46:41.145154Z",
     "start_time": "2023-12-29T10:46:41.133089Z"
    }
   },
   "outputs": [
    {
     "name": "stdout",
     "output_type": "stream",
     "text": [
      "[[18  0  1  1  4  0  0]\n",
      " [ 0 18  1  4  0  1  0]\n",
      " [ 0  0 26  1  0  0  0]\n",
      " [ 1  0  0 23  3  0  0]\n",
      " [ 4  0  0  4 20  0  0]\n",
      " [ 2  0  0  2  0 22  0]\n",
      " [ 0  0  1  0  0  1 26]]\n"
     ]
    }
   ],
   "source": [
    "conf_mat = confusion_matrix(y_val_num, y_val_pred)\n",
    "print(conf_mat)"
   ]
  },
  {
   "cell_type": "code",
   "execution_count": 19,
   "id": "2d4115fc",
   "metadata": {
    "ExecuteTime": {
     "end_time": "2023-12-29T10:46:41.168374Z",
     "start_time": "2023-12-29T10:46:41.146160Z"
    }
   },
   "outputs": [
    {
     "name": "stdout",
     "output_type": "stream",
     "text": [
      "Correspondance des clusters :  [0 1 2 3 4 5 6]\n",
      "[[18  0  1  1  4  0  0]\n",
      " [ 0 18  1  4  0  1  0]\n",
      " [ 0  0 26  1  0  0  0]\n",
      " [ 1  0  0 23  3  0  0]\n",
      " [ 4  0  0  4 20  0  0]\n",
      " [ 2  0  0  2  0 22  0]\n",
      " [ 0  0  1  0  0  1 26]]\n",
      "\n",
      "              precision    recall  f1-score   support\n",
      "\n",
      "           0       0.72      0.75      0.73        24\n",
      "           1       1.00      0.75      0.86        24\n",
      "           2       0.90      0.96      0.93        27\n",
      "           3       0.66      0.85      0.74        27\n",
      "           4       0.74      0.71      0.73        28\n",
      "           5       0.92      0.85      0.88        26\n",
      "           6       1.00      0.93      0.96        28\n",
      "\n",
      "    accuracy                           0.83       184\n",
      "   macro avg       0.85      0.83      0.83       184\n",
      "weighted avg       0.85      0.83      0.83       184\n",
      "\n"
     ]
    }
   ],
   "source": [
    "y_val_pred_transform = conf_mat_transform(y_val_num, y_val_pred)\n",
    "conf_mat = confusion_matrix(y_val_num, y_val_pred_transform)\n",
    "print(conf_mat)\n",
    "print()\n",
    "print(classification_report(y_val_num, y_val_pred_transform))"
   ]
  },
  {
   "cell_type": "markdown",
   "id": "6b2791d6",
   "metadata": {},
   "source": [
    "## Différente séparation des données"
   ]
  },
  {
   "cell_type": "code",
   "execution_count": 20,
   "id": "e96d1202",
   "metadata": {
    "ExecuteTime": {
     "end_time": "2023-12-29T10:46:41.634539Z",
     "start_time": "2023-12-29T10:46:41.170379Z"
    }
   },
   "outputs": [
    {
     "name": "stdout",
     "output_type": "stream",
     "text": [
      "Model: \"model_1\"\n",
      "_________________________________________________________________\n",
      " Layer (type)                Output Shape              Param #   \n",
      "=================================================================\n",
      " input_2 (InputLayer)        [(None, 224, 224, 3)]     0         \n",
      "                                                                 \n",
      " block1_conv1 (Conv2D)       (None, 224, 224, 64)      1792      \n",
      "                                                                 \n",
      " block1_conv2 (Conv2D)       (None, 224, 224, 64)      36928     \n",
      "                                                                 \n",
      " block1_pool (MaxPooling2D)  (None, 112, 112, 64)      0         \n",
      "                                                                 \n",
      " block2_conv1 (Conv2D)       (None, 112, 112, 128)     73856     \n",
      "                                                                 \n",
      " block2_conv2 (Conv2D)       (None, 112, 112, 128)     147584    \n",
      "                                                                 \n",
      " block2_pool (MaxPooling2D)  (None, 56, 56, 128)       0         \n",
      "                                                                 \n",
      " block3_conv1 (Conv2D)       (None, 56, 56, 256)       295168    \n",
      "                                                                 \n",
      " block3_conv2 (Conv2D)       (None, 56, 56, 256)       590080    \n",
      "                                                                 \n",
      " block3_conv3 (Conv2D)       (None, 56, 56, 256)       590080    \n",
      "                                                                 \n",
      " block3_pool (MaxPooling2D)  (None, 28, 28, 256)       0         \n",
      "                                                                 \n",
      " block4_conv1 (Conv2D)       (None, 28, 28, 512)       1180160   \n",
      "                                                                 \n",
      " block4_conv2 (Conv2D)       (None, 28, 28, 512)       2359808   \n",
      "                                                                 \n",
      " block4_conv3 (Conv2D)       (None, 28, 28, 512)       2359808   \n",
      "                                                                 \n",
      " block4_pool (MaxPooling2D)  (None, 14, 14, 512)       0         \n",
      "                                                                 \n",
      " block5_conv1 (Conv2D)       (None, 14, 14, 512)       2359808   \n",
      "                                                                 \n",
      " block5_conv2 (Conv2D)       (None, 14, 14, 512)       2359808   \n",
      "                                                                 \n",
      " block5_conv3 (Conv2D)       (None, 14, 14, 512)       2359808   \n",
      "                                                                 \n",
      " block5_pool (MaxPooling2D)  (None, 7, 7, 512)         0         \n",
      "                                                                 \n",
      " global_average_pooling2d_1  (None, 512)               0         \n",
      "  (GlobalAveragePooling2D)                                       \n",
      "                                                                 \n",
      " dense_2 (Dense)             (None, 256)               131328    \n",
      "                                                                 \n",
      " dropout_1 (Dropout)         (None, 256)               0         \n",
      "                                                                 \n",
      " dense_3 (Dense)             (None, 7)                 1799      \n",
      "                                                                 \n",
      "=================================================================\n",
      "Total params: 14847815 (56.64 MB)\n",
      "Trainable params: 133127 (520.03 KB)\n",
      "Non-trainable params: 14714688 (56.13 MB)\n",
      "_________________________________________________________________\n",
      "None\n"
     ]
    }
   ],
   "source": [
    "# Création du modèle\n",
    "model2 = create_model_fct()"
   ]
  },
  {
   "cell_type": "code",
   "execution_count": 21,
   "id": "47cd6971",
   "metadata": {
    "ExecuteTime": {
     "end_time": "2023-12-29T10:46:41.639710Z",
     "start_time": "2023-12-29T10:46:41.635546Z"
    }
   },
   "outputs": [],
   "source": [
    "# Création du callback\n",
    "model2_save_path1 = \"./model2_best_weights.keras\"\n",
    "checkpoint = ModelCheckpoint(model2_save_path1,\n",
    "                             monitor='val_loss',\n",
    "                             verbose=1,\n",
    "                             save_best_only=True,\n",
    "                             mode='min')\n",
    "es = EarlyStopping(monitor='val_loss', mode='min', verbose=1, patience=5)\n",
    "callbacks_list = [checkpoint, es]"
   ]
  },
  {
   "cell_type": "code",
   "execution_count": 22,
   "id": "eedb1be4",
   "metadata": {
    "ExecuteTime": {
     "end_time": "2023-12-29T10:46:55.715049Z",
     "start_time": "2023-12-29T10:46:41.640716Z"
    }
   },
   "outputs": [
    {
     "name": "stderr",
     "output_type": "stream",
     "text": [
      "C:\\Users\\Thomas\\AppData\\Local\\pypoetry\\Cache\\virtualenvs\\projet6-mnlG3Dat-py3.11\\Lib\\site-packages\\PIL\\Image.py:3182: DecompressionBombWarning: Image size (93680328 pixels) exceeds limit of 89478485 pixels, could be decompression bomb DOS attack.\n",
      "  warnings.warn(\n"
     ]
    },
    {
     "name": "stdout",
     "output_type": "stream",
     "text": [
      "(1050, 224, 224, 3)\n"
     ]
    }
   ],
   "source": [
    "images_full = image_prep_fct(df)\n",
    "print(images_full.shape)"
   ]
  },
  {
   "cell_type": "code",
   "execution_count": 34,
   "id": "00ab392b",
   "metadata": {
    "ExecuteTime": {
     "end_time": "2023-12-29T11:04:30.099038Z",
     "start_time": "2023-12-29T11:04:29.734168Z"
    }
   },
   "outputs": [],
   "source": [
    "df[\"label\"] = le.transform(df[\"main_category\"])\n",
    "X = images_full\n",
    "y = to_categorical(df[\"label\"])\n",
    "\n",
    "X_train_val, X_test, y_train_val, y_test = train_test_split(X,\n",
    "                                                            y,\n",
    "                                                            stratify=y,\n",
    "                                                            test_size=0.3,\n",
    "                                                            random_state=42)\n",
    "\n",
    "X_train, X_val, y_train, y_val = train_test_split(X_train_val,\n",
    "                                                  y_train_val,\n",
    "                                                  stratify=y_train_val,\n",
    "                                                  test_size=0.25,\n",
    "                                                  random_state=42)"
   ]
  },
  {
   "cell_type": "code",
   "execution_count": 35,
   "id": "625a5ff6",
   "metadata": {
    "ExecuteTime": {
     "end_time": "2023-12-29T11:09:42.808995Z",
     "start_time": "2023-12-29T11:04:30.100980Z"
    },
    "scrolled": false
   },
   "outputs": [
    {
     "name": "stdout",
     "output_type": "stream",
     "text": [
      "Epoch 1/50\n",
      "9/9 [==============================] - ETA: 0s - loss: 0.1393 - accuracy: 0.9492\n",
      "Epoch 1: val_loss did not improve from 1.28299\n",
      "9/9 [==============================] - 43s 5s/step - loss: 0.1393 - accuracy: 0.9492 - val_loss: 1.3604 - val_accuracy: 0.7663\n",
      "Epoch 2/50\n",
      "9/9 [==============================] - ETA: 0s - loss: 0.1180 - accuracy: 0.9673\n",
      "Epoch 2: val_loss did not improve from 1.28299\n",
      "9/9 [==============================] - 45s 5s/step - loss: 0.1180 - accuracy: 0.9673 - val_loss: 1.2945 - val_accuracy: 0.7663\n",
      "Epoch 3/50\n",
      "9/9 [==============================] - ETA: 0s - loss: 0.0725 - accuracy: 0.9728\n",
      "Epoch 3: val_loss did not improve from 1.28299\n",
      "9/9 [==============================] - 43s 5s/step - loss: 0.0725 - accuracy: 0.9728 - val_loss: 1.3142 - val_accuracy: 0.7609\n",
      "Epoch 4/50\n",
      "9/9 [==============================] - ETA: 0s - loss: 0.1018 - accuracy: 0.9655\n",
      "Epoch 4: val_loss did not improve from 1.28299\n",
      "9/9 [==============================] - 47s 5s/step - loss: 0.1018 - accuracy: 0.9655 - val_loss: 1.4158 - val_accuracy: 0.7609\n",
      "Epoch 5/50\n",
      "9/9 [==============================] - ETA: 0s - loss: 0.0714 - accuracy: 0.9691\n",
      "Epoch 5: val_loss did not improve from 1.28299\n",
      "9/9 [==============================] - 46s 5s/step - loss: 0.0714 - accuracy: 0.9691 - val_loss: 1.3591 - val_accuracy: 0.7554\n",
      "Epoch 6/50\n",
      "9/9 [==============================] - ETA: 0s - loss: 0.0863 - accuracy: 0.9764\n",
      "Epoch 6: val_loss did not improve from 1.28299\n",
      "9/9 [==============================] - 45s 5s/step - loss: 0.0863 - accuracy: 0.9764 - val_loss: 1.3762 - val_accuracy: 0.7772\n",
      "Epoch 7/50\n",
      "9/9 [==============================] - ETA: 0s - loss: 0.0606 - accuracy: 0.9782\n",
      "Epoch 7: val_loss did not improve from 1.28299\n",
      "9/9 [==============================] - 44s 5s/step - loss: 0.0606 - accuracy: 0.9782 - val_loss: 1.3844 - val_accuracy: 0.7880\n",
      "Epoch 7: early stopping\n"
     ]
    }
   ],
   "source": [
    "# Entraîner sur les données d'entraînement (X_train, y_train)\n",
    "start = time.time()\n",
    "history2 = model2.fit(X_train,\n",
    "                      y_train,\n",
    "                      epochs=50,\n",
    "                      batch_size=64,\n",
    "                      callbacks=callbacks_list,\n",
    "                      validation_data=(X_val, y_val),\n",
    "                      verbose=1)\n",
    "duration = time.time() - start"
   ]
  },
  {
   "cell_type": "code",
   "execution_count": 36,
   "id": "2349fa38",
   "metadata": {
    "ExecuteTime": {
     "end_time": "2023-12-29T11:10:27.828258Z",
     "start_time": "2023-12-29T11:09:42.811252Z"
    }
   },
   "outputs": [
    {
     "name": "stdout",
     "output_type": "stream",
     "text": [
      "18/18 [==============================] - 34s 2s/step - loss: 0.0051 - accuracy: 0.9982\n",
      "Training Accuracy: 0.9982\n",
      "\n",
      "6/6 [==============================] - 11s 2s/step - loss: 1.3844 - accuracy: 0.7880\n",
      "Validation Accuracy:  0.7880\n"
     ]
    }
   ],
   "source": [
    "# Score du dernier epoch\n",
    "\n",
    "loss, accuracy = model2.evaluate(X_train, y_train, verbose=True)\n",
    "print(\"Training Accuracy: {:.4f}\".format(accuracy))\n",
    "print()\n",
    "loss, accuracy = model2.evaluate(X_val, y_val, verbose=True)\n",
    "print(\"Validation Accuracy:  {:.4f}\".format(accuracy))"
   ]
  },
  {
   "cell_type": "code",
   "execution_count": 37,
   "id": "04dc6669",
   "metadata": {
    "ExecuteTime": {
     "end_time": "2023-12-29T11:10:59.619444Z",
     "start_time": "2023-12-29T11:10:27.830684Z"
    }
   },
   "outputs": [
    {
     "name": "stdout",
     "output_type": "stream",
     "text": [
      "Validation Accuracy :  0.7609\n",
      "Test Accuracy       :  0.8000\n",
      "\n",
      "Temps d'entrainement : 5m 12s\n"
     ]
    }
   ],
   "source": [
    "# Score de l'epoch optimal\n",
    "\n",
    "model2.load_weights(model2_save_path1)\n",
    "\n",
    "loss, accuracy = model2.evaluate(X_val, y_val, verbose=False)\n",
    "print(\"Validation Accuracy :  {:.4f}\".format(accuracy))\n",
    "\n",
    "loss, accuracy = model2.evaluate(X_test, y_test, verbose=False)\n",
    "print(\"Test Accuracy       :  {:.4f}\".format(accuracy))\n",
    "print()\n",
    "print_training_time(duration)"
   ]
  },
  {
   "cell_type": "code",
   "execution_count": 38,
   "id": "01bebb6b",
   "metadata": {
    "ExecuteTime": {
     "end_time": "2023-12-29T11:11:00.389275Z",
     "start_time": "2023-12-29T11:10:59.621452Z"
    }
   },
   "outputs": [
    {
     "data": {
      "image/png": "[encoded data removed]",
      "text/plain": [
       "<Figure size 1000x500 with 2 Axes>"
      ]
     },
     "metadata": {},
     "output_type": "display_data"
    }
   ],
   "source": [
    "# Affichage de l'évolution des scores\n",
    "\n",
    "show_history(history2)\n",
    "plot_history(history2, path=\"Graphs/séparation.png\")\n",
    "plt.close()"
   ]
  },
  {
   "cell_type": "code",
   "execution_count": 39,
   "id": "373f92af",
   "metadata": {
    "ExecuteTime": {
     "end_time": "2023-12-29T11:11:11.705924Z",
     "start_time": "2023-12-29T11:11:00.391231Z"
    }
   },
   "outputs": [
    {
     "name": "stdout",
     "output_type": "stream",
     "text": [
      "6/6 [==============================] - 11s 2s/step\n",
      "[3 3 2 0 1 1 2 5 0 6 2 5 3 1 2 1 4 3 4 3 5 3 4 5 5 5 5 2 0 1 3 4 0 3 3 3 4\n",
      " 3 4 6 4 6 5 1 1 3 6 3 4 6 3 4 6 2 0 1 6 1 2 1 6 1 0 6 3 0 5 0 1 1 1 5 2 4\n",
      " 6 2 2 5 6 5 1 0 1 5 4 6 1 2 3 3 4 1 4 4 0 3 0 2 5 4 4 0 0 4 1 2 0 3 5 0 0\n",
      " 0 0 6 6 1 6 0 5 0 5 4 2 4 2 6 4 5 1 0 6 1 5 4 5 0 2 2 3 4 2 6 5 5 3 5 3 0\n",
      " 1 4 4 0 3 2 5 1 6 6 3 6 5 6 6 2 2 2 4 2 0 3 6 2 3 3 0 4 1 0 5 6 6 1 2 2]\n",
      "\n",
      "[2 5 2 3 1 1 2 5 0 6 2 5 2 1 2 3 4 3 4 3 5 3 4 5 5 5 5 2 0 6 3 4 4 0 4 3 4\n",
      " 0 4 6 4 6 5 3 1 3 6 3 4 6 3 4 6 2 4 1 6 1 2 1 6 1 0 6 3 0 5 4 1 1 1 5 5 4\n",
      " 6 2 2 1 2 5 1 1 1 5 4 6 2 2 3 5 0 0 4 4 0 3 0 2 5 4 4 4 0 4 1 2 4 3 5 4 0\n",
      " 0 0 6 6 2 6 4 5 0 5 4 4 4 2 6 4 2 1 3 0 1 5 4 5 0 2 2 1 4 2 6 5 5 4 0 3 4\n",
      " 1 5 4 1 3 2 5 1 6 6 5 6 4 6 6 2 3 4 4 1 0 3 6 2 3 0 4 4 1 4 5 6 6 1 2 2]\n"
     ]
    }
   ],
   "source": [
    "y_val_num = np.argmax(y_val, axis=1)\n",
    "y_val_pred = np.argmax(model2.predict(X_val), axis=1)\n",
    "y_val_num = np.argmax(y_val, axis=1)\n",
    "print(y_val_num)\n",
    "print()\n",
    "print(y_val_pred)"
   ]
  },
  {
   "cell_type": "code",
   "execution_count": 40,
   "id": "e8a0ff62",
   "metadata": {
    "ExecuteTime": {
     "end_time": "2023-12-29T11:11:11.712851Z",
     "start_time": "2023-12-29T11:11:11.707930Z"
    }
   },
   "outputs": [
    {
     "name": "stdout",
     "output_type": "stream",
     "text": [
      "[[13  2  0  2 10  0  0]\n",
      " [ 1 20  2  2  0  0  1]\n",
      " [ 0  1 21  1  2  1  0]\n",
      " [ 3  1  2 16  2  3  0]\n",
      " [ 1  0  0  0 24  1  0]\n",
      " [ 1  1  1  0  1 22  0]\n",
      " [ 1  0  1  0  0  0 24]]\n"
     ]
    }
   ],
   "source": [
    "conf_mat = confusion_matrix(y_val_num, y_val_pred)\n",
    "print(conf_mat)"
   ]
  },
  {
   "cell_type": "code",
   "execution_count": 41,
   "id": "32d5e538",
   "metadata": {
    "ExecuteTime": {
     "end_time": "2023-12-29T11:11:11.732764Z",
     "start_time": "2023-12-29T11:11:11.714861Z"
    }
   },
   "outputs": [
    {
     "name": "stdout",
     "output_type": "stream",
     "text": [
      "Correspondance des clusters :  [0 1 2 3 4 5 6]\n",
      "[[13  2  0  2 10  0  0]\n",
      " [ 1 20  2  2  0  0  1]\n",
      " [ 0  1 21  1  2  1  0]\n",
      " [ 3  1  2 16  2  3  0]\n",
      " [ 1  0  0  0 24  1  0]\n",
      " [ 1  1  1  0  1 22  0]\n",
      " [ 1  0  1  0  0  0 24]]\n",
      "\n",
      "              precision    recall  f1-score   support\n",
      "\n",
      "           0       0.65      0.48      0.55        27\n",
      "           1       0.80      0.77      0.78        26\n",
      "           2       0.78      0.81      0.79        26\n",
      "           3       0.76      0.59      0.67        27\n",
      "           4       0.62      0.92      0.74        26\n",
      "           5       0.81      0.85      0.83        26\n",
      "           6       0.96      0.92      0.94        26\n",
      "\n",
      "    accuracy                           0.76       184\n",
      "   macro avg       0.77      0.76      0.76       184\n",
      "weighted avg       0.77      0.76      0.76       184\n",
      "\n"
     ]
    }
   ],
   "source": [
    "y_val_pred_transform = conf_mat_transform(y_val_num, y_val_pred)\n",
    "conf_mat = confusion_matrix(y_val_num, y_val_pred_transform)\n",
    "print(conf_mat)\n",
    "print()\n",
    "print(classification_report(y_val_num, y_val_pred_transform))"
   ]
  },
  {
   "cell_type": "markdown",
   "id": "5e0d7873",
   "metadata": {},
   "source": [
    "## Utilisation de la data augmentation\n",
    "### Avec création des datasets par tensorflow"
   ]
  },
  {
   "cell_type": "code",
   "execution_count": 42,
   "id": "d1208e62",
   "metadata": {
    "ExecuteTime": {
     "end_time": "2023-12-29T11:11:11.740901Z",
     "start_time": "2023-12-29T11:11:11.734770Z"
    }
   },
   "outputs": [
    {
     "name": "stdout",
     "output_type": "stream",
     "text": [
      "1050\n"
     ]
    }
   ],
   "source": [
    "true_labels = df.sort_values(\"image_path\")[\"label\"].to_list()\n",
    "print(len(true_labels))"
   ]
  },
  {
   "cell_type": "code",
   "execution_count": 43,
   "id": "de5604ce",
   "metadata": {
    "ExecuteTime": {
     "end_time": "2023-12-29T11:11:11.982248Z",
     "start_time": "2023-12-29T11:11:11.745714Z"
    },
    "scrolled": false
   },
   "outputs": [
    {
     "name": "stdout",
     "output_type": "stream",
     "text": [
      "Found 1050 files belonging to 7 classes.\n",
      "Using 630 files for training.\n",
      "Found 1050 files belonging to 7 classes.\n",
      "Using 420 files for validation.\n"
     ]
    }
   ],
   "source": [
    "dataset_train = dataset_fct(path,\n",
    "                            true_labels,\n",
    "                            batch_size=64,\n",
    "                            validation_split=0.4,\n",
    "                            data_type=\"training\")\n",
    "\n",
    "dataset_val_test = dataset_fct(path,\n",
    "                               true_labels,\n",
    "                               batch_size=64,\n",
    "                               validation_split=0.4,\n",
    "                               data_type=\"validation\")\n",
    "\n",
    "val_batches = tf.data.experimental.cardinality(dataset_val_test)\n",
    "dataset_val = dataset_val_test.skip((2 * val_batches) // 3)\n",
    "dataset_test = dataset_val_test.take((2 * val_batches) // 3)"
   ]
  },
  {
   "cell_type": "code",
   "execution_count": 44,
   "id": "f7f5efb3",
   "metadata": {
    "ExecuteTime": {
     "end_time": "2023-12-29T11:11:12.790933Z",
     "start_time": "2023-12-29T11:11:11.983253Z"
    }
   },
   "outputs": [
    {
     "name": "stdout",
     "output_type": "stream",
     "text": [
      "Model: \"sequential_1\"\n",
      "_________________________________________________________________\n",
      " Layer (type)                Output Shape              Param #   \n",
      "=================================================================\n",
      " sequential (Sequential)     (None, 224, 224, 3)       0         \n",
      "                                                                 \n",
      " rescaling (Rescaling)       (None, 224, 224, 3)       0         \n",
      "                                                                 \n",
      " vgg16 (Functional)          (None, 7, 7, 512)         14714688  \n",
      "                                                                 \n",
      " global_average_pooling2d_2  (None, 512)               0         \n",
      "  (GlobalAveragePooling2D)                                       \n",
      "                                                                 \n",
      " dense_4 (Dense)             (None, 256)               131328    \n",
      "                                                                 \n",
      " dropout_2 (Dropout)         (None, 256)               0         \n",
      "                                                                 \n",
      " dense_5 (Dense)             (None, 7)                 1799      \n",
      "                                                                 \n",
      "=================================================================\n",
      "Total params: 14847815 (56.64 MB)\n",
      "Trainable params: 133127 (520.03 KB)\n",
      "Non-trainable params: 14714688 (56.13 MB)\n",
      "_________________________________________________________________\n",
      "None\n"
     ]
    }
   ],
   "source": [
    "model3 = create_model_augmentation_fct()\n",
    "\n",
    "# Création du callback\n",
    "model3_save_path = \"./model3_best_weights.keras\"\n",
    "checkpoint = ModelCheckpoint(model3_save_path,\n",
    "                             monitor='val_loss',\n",
    "                             verbose=1,\n",
    "                             save_best_only=True,\n",
    "                             mode='min')\n",
    "es = EarlyStopping(monitor='val_loss', mode='min', verbose=1, patience=5)\n",
    "callbacks_list = [checkpoint, es]"
   ]
  },
  {
   "cell_type": "code",
   "execution_count": 45,
   "id": "54444f45",
   "metadata": {
    "ExecuteTime": {
     "end_time": "2023-12-29T11:16:14.201369Z",
     "start_time": "2023-12-29T11:11:12.792940Z"
    }
   },
   "outputs": [
    {
     "name": "stdout",
     "output_type": "stream",
     "text": [
      "Epoch 1/50\n",
      "10/10 [==============================] - ETA: 0s - loss: 2.0445 - accuracy: 0.1968\n",
      "Epoch 1: val_loss improved from inf to 2.01472, saving model to .\\model3_best_weights.keras\n",
      "10/10 [==============================] - 52s 5s/step - loss: 2.0445 - accuracy: 0.1968 - val_loss: 2.0147 - val_accuracy: 0.1585\n",
      "Epoch 2/50\n",
      "10/10 [==============================] - ETA: 0s - loss: 1.6087 - accuracy: 0.4063\n",
      "Epoch 2: val_loss did not improve from 2.01472\n",
      "10/10 [==============================] - 51s 5s/step - loss: 1.6087 - accuracy: 0.4063 - val_loss: 2.1510 - val_accuracy: 0.1280\n",
      "Epoch 3/50\n",
      "10/10 [==============================] - ETA: 0s - loss: 1.3472 - accuracy: 0.5667\n",
      "Epoch 3: val_loss did not improve from 2.01472\n",
      "10/10 [==============================] - 50s 5s/step - loss: 1.3472 - accuracy: 0.5667 - val_loss: 2.3316 - val_accuracy: 0.1463\n",
      "Epoch 4/50\n",
      "10/10 [==============================] - ETA: 0s - loss: 1.1555 - accuracy: 0.6333\n",
      "Epoch 4: val_loss did not improve from 2.01472\n",
      "10/10 [==============================] - 50s 5s/step - loss: 1.1555 - accuracy: 0.6333 - val_loss: 2.4073 - val_accuracy: 0.1707\n",
      "Epoch 5/50\n",
      "10/10 [==============================] - ETA: 0s - loss: 1.0721 - accuracy: 0.6540\n",
      "Epoch 5: val_loss did not improve from 2.01472\n",
      "10/10 [==============================] - 49s 5s/step - loss: 1.0721 - accuracy: 0.6540 - val_loss: 2.7501 - val_accuracy: 0.1646\n",
      "Epoch 6/50\n",
      "10/10 [==============================] - ETA: 0s - loss: 0.9391 - accuracy: 0.7111\n",
      "Epoch 6: val_loss did not improve from 2.01472\n",
      "10/10 [==============================] - 49s 5s/step - loss: 0.9391 - accuracy: 0.7111 - val_loss: 2.8290 - val_accuracy: 0.1524\n",
      "Epoch 6: early stopping\n"
     ]
    }
   ],
   "source": [
    "start = time.time()\n",
    "history3 = model3.fit(dataset_train,\n",
    "                      batch_size=64,\n",
    "                      epochs=50,\n",
    "                      callbacks=callbacks_list,\n",
    "                      verbose=1,\n",
    "                      validation_data=dataset_val)\n",
    "duration = time.time() - start"
   ]
  },
  {
   "cell_type": "code",
   "execution_count": 46,
   "id": "78c9ed4f",
   "metadata": {
    "ExecuteTime": {
     "end_time": "2023-12-29T11:17:02.472409Z",
     "start_time": "2023-12-29T11:16:14.203376Z"
    }
   },
   "outputs": [
    {
     "name": "stdout",
     "output_type": "stream",
     "text": [
      "10/10 [==============================] - 38s 4s/step - loss: 0.7498 - accuracy: 0.7921\n",
      "Training Accuracy   : 0.7921\n",
      "\n",
      "3/3 [==============================] - 10s 3s/step - loss: 2.9555 - accuracy: 0.1524\n",
      "Validation Accuracy :  0.1524\n"
     ]
    }
   ],
   "source": [
    "# Score du dernier epoch\n",
    "\n",
    "loss, accuracy = model3.evaluate(dataset_train, verbose=True)\n",
    "print(\"Training Accuracy   : {:.4f}\".format(accuracy))\n",
    "print()\n",
    "loss, accuracy = model3.evaluate(dataset_val, verbose=True)\n",
    "print(\"Validation Accuracy :  {:.4f}\".format(accuracy))"
   ]
  },
  {
   "cell_type": "code",
   "execution_count": 47,
   "id": "47777a2e",
   "metadata": {
    "ExecuteTime": {
     "end_time": "2023-12-29T11:17:29.889385Z",
     "start_time": "2023-12-29T11:17:02.473413Z"
    }
   },
   "outputs": [
    {
     "name": "stdout",
     "output_type": "stream",
     "text": [
      "Validation Accuracy :  0.1768\n",
      "Test Accuracy       :  0.1523\n",
      "\n",
      "Temps d'entrainement : 5m 1s\n"
     ]
    }
   ],
   "source": [
    "# Score de l'epoch optimal\n",
    "\n",
    "model3.load_weights(model3_save_path)\n",
    "\n",
    "loss, accuracy = model3.evaluate(dataset_val, verbose=False)\n",
    "print(\"Validation Accuracy :  {:.4f}\".format(accuracy))\n",
    "\n",
    "loss, accuracy = model3.evaluate(dataset_test, verbose=False)\n",
    "print(\"Test Accuracy       :  {:.4f}\".format(accuracy))\n",
    "print()\n",
    "print_training_time(duration)"
   ]
  },
  {
   "cell_type": "code",
   "execution_count": 48,
   "id": "670e4df6",
   "metadata": {
    "ExecuteTime": {
     "end_time": "2023-12-29T11:17:30.566846Z",
     "start_time": "2023-12-29T11:17:29.890392Z"
    }
   },
   "outputs": [
    {
     "data": {
      "image/png": "[encoded data removed]",
      "text/plain": [
       "<Figure size 1000x500 with 2 Axes>"
      ]
     },
     "metadata": {},
     "output_type": "display_data"
    }
   ],
   "source": [
    "from plot_keras_history import show_history, plot_history\n",
    "import matplotlib.pyplot as plt\n",
    "\n",
    "show_history(history3)\n",
    "plot_history(history3, path=\"Graphs/datasets.png\")\n",
    "plt.close()"
   ]
  },
  {
   "cell_type": "markdown",
   "id": "e73083ba",
   "metadata": {},
   "source": [
    "### Avec préparation des images avant"
   ]
  },
  {
   "cell_type": "code",
   "execution_count": 12,
   "id": "1bd49958",
   "metadata": {
    "ExecuteTime": {
     "end_time": "2024-01-30T17:46:41.329721Z",
     "start_time": "2024-01-30T17:46:38.460761Z"
    }
   },
   "outputs": [
    {
     "name": "stdout",
     "output_type": "stream",
     "text": [
      "WARNING:tensorflow:From C:\\Users\\Thomas\\AppData\\Local\\pypoetry\\Cache\\virtualenvs\\projet6-mnlG3Dat-py3.11\\Lib\\site-packages\\keras\\src\\backend.py:873: The name tf.get_default_graph is deprecated. Please use tf.compat.v1.get_default_graph instead.\n",
      "\n",
      "WARNING:tensorflow:From C:\\Users\\Thomas\\AppData\\Local\\pypoetry\\Cache\\virtualenvs\\projet6-mnlG3Dat-py3.11\\Lib\\site-packages\\keras\\src\\layers\\pooling\\max_pooling2d.py:161: The name tf.nn.max_pool is deprecated. Please use tf.nn.max_pool2d instead.\n",
      "\n",
      "WARNING:tensorflow:From C:\\Users\\Thomas\\AppData\\Local\\pypoetry\\Cache\\virtualenvs\\projet6-mnlG3Dat-py3.11\\Lib\\site-packages\\keras\\src\\optimizers\\__init__.py:309: The name tf.train.Optimizer is deprecated. Please use tf.compat.v1.train.Optimizer instead.\n",
      "\n",
      "Model: \"sequential_1\"\n",
      "_________________________________________________________________\n",
      " Layer (type)                Output Shape              Param #   \n",
      "=================================================================\n",
      " sequential (Sequential)     (None, 224, 224, 3)       0         \n",
      "                                                                 \n",
      " rescaling (Rescaling)       (None, 224, 224, 3)       0         \n",
      "                                                                 \n",
      " vgg16 (Functional)          (None, 7, 7, 512)         14714688  \n",
      "                                                                 \n",
      " global_average_pooling2d (  (None, 512)               0         \n",
      " GlobalAveragePooling2D)                                         \n",
      "                                                                 \n",
      " dense (Dense)               (None, 256)               131328    \n",
      "                                                                 \n",
      " dropout (Dropout)           (None, 256)               0         \n",
      "                                                                 \n",
      " dense_1 (Dense)             (None, 7)                 1799      \n",
      "                                                                 \n",
      "=================================================================\n",
      "Total params: 14847815 (56.64 MB)\n",
      "Trainable params: 133127 (520.03 KB)\n",
      "Non-trainable params: 14714688 (56.13 MB)\n",
      "_________________________________________________________________\n",
      "None\n"
     ]
    }
   ],
   "source": [
    "model4 = create_model_augmentation_fct()\n",
    "\n",
    "# Création du callback\n",
    "model4_save_path = \"./model4_best_weights.keras\"\n",
    "checkpoint = ModelCheckpoint(model4_save_path,\n",
    "                             monitor='val_loss',\n",
    "                             verbose=1,\n",
    "                             save_best_only=True,\n",
    "                             mode='min')\n",
    "es = EarlyStopping(monitor='val_loss', mode='min', verbose=1, patience=5)\n",
    "callbacks_list = [checkpoint, es]"
   ]
  },
  {
   "cell_type": "code",
   "execution_count": 50,
   "id": "66424631",
   "metadata": {
    "ExecuteTime": {
     "end_time": "2023-12-29T11:37:21.784337Z",
     "start_time": "2023-12-29T11:17:31.505754Z"
    },
    "scrolled": true
   },
   "outputs": [
    {
     "name": "stdout",
     "output_type": "stream",
     "text": [
      "Epoch 1/50\n",
      "9/9 [==============================] - ETA: 0s - loss: 2.0034 - accuracy: 0.1960\n",
      "Epoch 1: val_loss improved from inf to 1.67552, saving model to .\\model4_best_weights.keras\n",
      "9/9 [==============================] - 46s 5s/step - loss: 2.0034 - accuracy: 0.1960 - val_loss: 1.6755 - val_accuracy: 0.4946\n",
      "Epoch 2/50\n",
      "9/9 [==============================] - ETA: 0s - loss: 1.6167 - accuracy: 0.4102\n",
      "Epoch 2: val_loss improved from 1.67552 to 1.40738, saving model to .\\model4_best_weights.keras\n",
      "9/9 [==============================] - 44s 5s/step - loss: 1.6167 - accuracy: 0.4102 - val_loss: 1.4074 - val_accuracy: 0.6304\n",
      "Epoch 3/50\n",
      "9/9 [==============================] - ETA: 0s - loss: 1.3661 - accuracy: 0.5481\n",
      "Epoch 3: val_loss improved from 1.40738 to 1.22426, saving model to .\\model4_best_weights.keras\n",
      "9/9 [==============================] - 45s 5s/step - loss: 1.3661 - accuracy: 0.5481 - val_loss: 1.2243 - val_accuracy: 0.6522\n",
      "Epoch 4/50\n",
      "9/9 [==============================] - ETA: 0s - loss: 1.1693 - accuracy: 0.6661\n",
      "Epoch 4: val_loss improved from 1.22426 to 1.09278, saving model to .\\model4_best_weights.keras\n",
      "9/9 [==============================] - 47s 5s/step - loss: 1.1693 - accuracy: 0.6661 - val_loss: 1.0928 - val_accuracy: 0.7011\n",
      "Epoch 5/50\n",
      "9/9 [==============================] - ETA: 0s - loss: 1.1015 - accuracy: 0.6479\n",
      "Epoch 5: val_loss improved from 1.09278 to 1.02602, saving model to .\\model4_best_weights.keras\n",
      "9/9 [==============================] - 46s 5s/step - loss: 1.1015 - accuracy: 0.6479 - val_loss: 1.0260 - val_accuracy: 0.7065\n",
      "Epoch 6/50\n",
      "9/9 [==============================] - ETA: 0s - loss: 0.9949 - accuracy: 0.7024\n",
      "Epoch 6: val_loss improved from 1.02602 to 0.96721, saving model to .\\model4_best_weights.keras\n",
      "9/9 [==============================] - 45s 5s/step - loss: 0.9949 - accuracy: 0.7024 - val_loss: 0.9672 - val_accuracy: 0.7174\n",
      "Epoch 7/50\n",
      "9/9 [==============================] - ETA: 0s - loss: 0.9191 - accuracy: 0.7060\n",
      "Epoch 7: val_loss improved from 0.96721 to 0.91850, saving model to .\\model4_best_weights.keras\n",
      "9/9 [==============================] - 47s 5s/step - loss: 0.9191 - accuracy: 0.7060 - val_loss: 0.9185 - val_accuracy: 0.7391\n",
      "Epoch 8/50\n",
      "9/9 [==============================] - ETA: 0s - loss: 0.8665 - accuracy: 0.7278\n",
      "Epoch 8: val_loss improved from 0.91850 to 0.90626, saving model to .\\model4_best_weights.keras\n",
      "9/9 [==============================] - 45s 5s/step - loss: 0.8665 - accuracy: 0.7278 - val_loss: 0.9063 - val_accuracy: 0.7283\n",
      "Epoch 9/50\n",
      "9/9 [==============================] - ETA: 0s - loss: 0.8366 - accuracy: 0.7241\n",
      "Epoch 9: val_loss improved from 0.90626 to 0.89636, saving model to .\\model4_best_weights.keras\n",
      "9/9 [==============================] - 46s 5s/step - loss: 0.8366 - accuracy: 0.7241 - val_loss: 0.8964 - val_accuracy: 0.7174\n",
      "Epoch 10/50\n",
      "9/9 [==============================] - ETA: 0s - loss: 0.8044 - accuracy: 0.7296\n",
      "Epoch 10: val_loss improved from 0.89636 to 0.87472, saving model to .\\model4_best_weights.keras\n",
      "9/9 [==============================] - 45s 5s/step - loss: 0.8044 - accuracy: 0.7296 - val_loss: 0.8747 - val_accuracy: 0.7174\n",
      "Epoch 11/50\n",
      "9/9 [==============================] - ETA: 0s - loss: 0.7410 - accuracy: 0.7659\n",
      "Epoch 11: val_loss improved from 0.87472 to 0.86668, saving model to .\\model4_best_weights.keras\n",
      "9/9 [==============================] - 46s 5s/step - loss: 0.7410 - accuracy: 0.7659 - val_loss: 0.8667 - val_accuracy: 0.7174\n",
      "Epoch 12/50\n",
      "9/9 [==============================] - ETA: 0s - loss: 0.7566 - accuracy: 0.7423\n",
      "Epoch 12: val_loss improved from 0.86668 to 0.85366, saving model to .\\model4_best_weights.keras\n",
      "9/9 [==============================] - 46s 5s/step - loss: 0.7566 - accuracy: 0.7423 - val_loss: 0.8537 - val_accuracy: 0.7174\n",
      "Epoch 13/50\n",
      "9/9 [==============================] - ETA: 0s - loss: 0.7644 - accuracy: 0.7550\n",
      "Epoch 13: val_loss improved from 0.85366 to 0.84975, saving model to .\\model4_best_weights.keras\n",
      "9/9 [==============================] - 47s 5s/step - loss: 0.7644 - accuracy: 0.7550 - val_loss: 0.8497 - val_accuracy: 0.7337\n",
      "Epoch 14/50\n",
      "9/9 [==============================] - ETA: 0s - loss: 0.6865 - accuracy: 0.7877\n",
      "Epoch 14: val_loss improved from 0.84975 to 0.84086, saving model to .\\model4_best_weights.keras\n",
      "9/9 [==============================] - 47s 5s/step - loss: 0.6865 - accuracy: 0.7877 - val_loss: 0.8409 - val_accuracy: 0.7228\n",
      "Epoch 15/50\n",
      "9/9 [==============================] - ETA: 0s - loss: 0.7119 - accuracy: 0.7623\n",
      "Epoch 15: val_loss improved from 0.84086 to 0.83462, saving model to .\\model4_best_weights.keras\n",
      "9/9 [==============================] - 46s 5s/step - loss: 0.7119 - accuracy: 0.7623 - val_loss: 0.8346 - val_accuracy: 0.7283\n",
      "Epoch 16/50\n",
      "9/9 [==============================] - ETA: 0s - loss: 0.6608 - accuracy: 0.7931\n",
      "Epoch 16: val_loss did not improve from 0.83462\n",
      "9/9 [==============================] - 46s 5s/step - loss: 0.6608 - accuracy: 0.7931 - val_loss: 0.8409 - val_accuracy: 0.7500\n",
      "Epoch 17/50\n",
      "9/9 [==============================] - ETA: 0s - loss: 0.6412 - accuracy: 0.7786\n",
      "Epoch 17: val_loss did not improve from 0.83462\n",
      "9/9 [==============================] - 46s 5s/step - loss: 0.6412 - accuracy: 0.7786 - val_loss: 0.8384 - val_accuracy: 0.7337\n",
      "Epoch 18/50\n",
      "9/9 [==============================] - ETA: 0s - loss: 0.6179 - accuracy: 0.7913\n",
      "Epoch 18: val_loss improved from 0.83462 to 0.81935, saving model to .\\model4_best_weights.keras\n",
      "9/9 [==============================] - 46s 5s/step - loss: 0.6179 - accuracy: 0.7913 - val_loss: 0.8193 - val_accuracy: 0.7446\n",
      "Epoch 19/50\n",
      "9/9 [==============================] - ETA: 0s - loss: 0.6451 - accuracy: 0.8022\n",
      "Epoch 19: val_loss did not improve from 0.81935\n",
      "9/9 [==============================] - 47s 5s/step - loss: 0.6451 - accuracy: 0.8022 - val_loss: 0.8237 - val_accuracy: 0.7446\n",
      "Epoch 20/50\n",
      "9/9 [==============================] - ETA: 0s - loss: 0.5803 - accuracy: 0.7895\n",
      "Epoch 20: val_loss did not improve from 0.81935\n",
      "9/9 [==============================] - 46s 5s/step - loss: 0.5803 - accuracy: 0.7895 - val_loss: 0.8298 - val_accuracy: 0.7337\n",
      "Epoch 21/50\n",
      "9/9 [==============================] - ETA: 0s - loss: 0.5774 - accuracy: 0.8240\n",
      "Epoch 21: val_loss improved from 0.81935 to 0.80288, saving model to .\\model4_best_weights.keras\n",
      "9/9 [==============================] - 45s 5s/step - loss: 0.5774 - accuracy: 0.8240 - val_loss: 0.8029 - val_accuracy: 0.7609\n",
      "Epoch 22/50\n",
      "9/9 [==============================] - ETA: 0s - loss: 0.5541 - accuracy: 0.8185\n",
      "Epoch 22: val_loss did not improve from 0.80288\n",
      "9/9 [==============================] - 46s 5s/step - loss: 0.5541 - accuracy: 0.8185 - val_loss: 0.8096 - val_accuracy: 0.7663\n",
      "Epoch 23/50\n",
      "9/9 [==============================] - ETA: 0s - loss: 0.5439 - accuracy: 0.7967\n",
      "Epoch 23: val_loss did not improve from 0.80288\n",
      "9/9 [==============================] - 45s 5s/step - loss: 0.5439 - accuracy: 0.7967 - val_loss: 0.8156 - val_accuracy: 0.7717\n",
      "Epoch 24/50\n",
      "9/9 [==============================] - ETA: 0s - loss: 0.5645 - accuracy: 0.8113\n",
      "Epoch 24: val_loss did not improve from 0.80288\n",
      "9/9 [==============================] - 45s 5s/step - loss: 0.5645 - accuracy: 0.8113 - val_loss: 0.8113 - val_accuracy: 0.7609\n",
      "Epoch 25/50\n",
      "9/9 [==============================] - ETA: 0s - loss: 0.5560 - accuracy: 0.8185\n",
      "Epoch 25: val_loss did not improve from 0.80288\n",
      "9/9 [==============================] - 45s 5s/step - loss: 0.5560 - accuracy: 0.8185 - val_loss: 0.8120 - val_accuracy: 0.7826\n",
      "Epoch 26/50\n",
      "9/9 [==============================] - ETA: 0s - loss: 0.4989 - accuracy: 0.8367\n",
      "Epoch 26: val_loss did not improve from 0.80288\n",
      "9/9 [==============================] - 45s 5s/step - loss: 0.4989 - accuracy: 0.8367 - val_loss: 0.8116 - val_accuracy: 0.7663\n",
      "Epoch 26: early stopping\n"
     ]
    }
   ],
   "source": [
    "start = time.time()\n",
    "history4 = model4.fit(X_train,\n",
    "                      y_train,\n",
    "                      batch_size=64,\n",
    "                      epochs=50,\n",
    "                      callbacks=callbacks_list,\n",
    "                      verbose=1,\n",
    "                      validation_data=(X_val, y_val))\n",
    "duration = time.time() - start"
   ]
  },
  {
   "cell_type": "code",
   "execution_count": 51,
   "id": "984af191",
   "metadata": {
    "ExecuteTime": {
     "end_time": "2023-12-29T11:37:22.288955Z",
     "start_time": "2023-12-29T11:37:21.785345Z"
    }
   },
   "outputs": [
    {
     "name": "stdout",
     "output_type": "stream",
     "text": [
      "18/18 [==============================] - 0s 2ms/step - loss: 0.0000e+00 - accuracy: 0.0000e+00\n",
      "Training Accuracy   : 0.0000\n",
      "\n",
      "6/6 [==============================] - 0s 2ms/step - loss: 0.0000e+00 - accuracy: 0.0000e+00\n",
      "Validation Accuracy :  0.0000\n"
     ]
    }
   ],
   "source": [
    "# Score du dernier epoch\n",
    "\n",
    "loss, accuracy = model4.evaluate(X_train, verbose=True)\n",
    "print(\"Training Accuracy   : {:.4f}\".format(accuracy))\n",
    "print()\n",
    "loss, accuracy = model4.evaluate(X_val, verbose=True)\n",
    "print(\"Validation Accuracy :  {:.4f}\".format(accuracy))"
   ]
  },
  {
   "cell_type": "code",
   "execution_count": 52,
   "id": "312962bf",
   "metadata": {
    "ExecuteTime": {
     "end_time": "2023-12-29T11:37:23.831480Z",
     "start_time": "2023-12-29T11:37:22.290961Z"
    }
   },
   "outputs": [
    {
     "name": "stdout",
     "output_type": "stream",
     "text": [
      "Validation Accuracy :  0.0000\n",
      "Test Accuracy       :  0.0000\n",
      "\n",
      "Temps d'entrainement : 19m 50s\n"
     ]
    }
   ],
   "source": [
    "# Score de l'epoch optimal\n",
    "\n",
    "model4.load_weights(model4_save_path)\n",
    "\n",
    "loss, accuracy = model4.evaluate(X_val, verbose=False)\n",
    "print(\"Validation Accuracy :  {:.4f}\".format(accuracy))\n",
    "\n",
    "loss, accuracy = model4.evaluate(X_test, verbose=False)\n",
    "print(\"Test Accuracy       :  {:.4f}\".format(accuracy))\n",
    "print()\n",
    "print_training_time(duration)"
   ]
  },
  {
   "cell_type": "code",
   "execution_count": 53,
   "id": "61ec2c9c",
   "metadata": {
    "ExecuteTime": {
     "end_time": "2023-12-29T11:37:24.564356Z",
     "start_time": "2023-12-29T11:37:23.833492Z"
    }
   },
   "outputs": [
    {
     "data": {
      "image/png": "[encoded data removed]",
      "text/plain": [
       "<Figure size 1000x500 with 2 Axes>"
      ]
     },
     "metadata": {},
     "output_type": "display_data"
    }
   ],
   "source": [
    "from plot_keras_history import show_history, plot_history\n",
    "import matplotlib.pyplot as plt\n",
    "\n",
    "show_history(history4)\n",
    "plot_history(history4, path=\"Graphs/augmentation.png\")\n",
    "plt.close()"
   ]
  }
 ],
 "metadata": {
  "hide_input": false,
  "kernelspec": {
   "display_name": "projet6",
   "language": "python",
   "name": "projet6"
  },
  "language_info": {
   "codemirror_mode": {
    "name": "ipython",
    "version": 3
   },
   "file_extension": ".py",
   "mimetype": "text/x-python",
   "name": "python",
   "nbconvert_exporter": "python",
   "pygments_lexer": "ipython3",
   "version": "3.11.6"
  },
  "toc": {
   "base_numbering": 1,
   "nav_menu": {},
   "number_sections": true,
   "sideBar": true,
   "skip_h1_title": false,
   "title_cell": "Table of Contents",
   "title_sidebar": "Contents",
   "toc_cell": true,
   "toc_position": {
    "height": "calc(100% - 180px)",
    "left": "10px",
    "top": "150px",
    "width": "342.292px"
   },
   "toc_section_display": true,
   "toc_window_display": true
  },
  "varInspector": {
   "cols": {
    "lenName": 16,
    "lenType": 16,
    "lenVar": 40
   },
   "kernels_config": {
    "python": {
     "delete_cmd_postfix": "",
     "delete_cmd_prefix": "del ",
     "library": "var_list.py",
     "varRefreshCmd": "print(var_dic_list())"
    },
    "r": {
     "delete_cmd_postfix": ") ",
     "delete_cmd_prefix": "rm(",
     "library": "var_list.r",
     "varRefreshCmd": "cat(var_dic_list()) "
    }
   },
   "types_to_exclude": [
    "module",
    "function",
    "builtin_function_or_method",
    "instance",
    "_Feature"
   ],
   "window_display": false
  }
 },
 "nbformat": 4,
 "nbformat_minor": 5
}
