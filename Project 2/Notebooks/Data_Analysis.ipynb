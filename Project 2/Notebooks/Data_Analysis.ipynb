{
 "cells": [
  {
   "cell_type": "markdown",
   "id": "07912f34",
   "metadata": {},
   "source": [
    "# Imports"
   ]
  },
  {
   "cell_type": "markdown",
   "id": "e3e09e77",
   "metadata": {},
   "source": [
    "## Packages"
   ]
  },
  {
   "cell_type": "code",
   "execution_count": null,
   "id": "e197bad8",
   "metadata": {
    "ExecuteTime": {
     "end_time": "2024-02-29T09:45:19.410408Z",
     "start_time": "2024-02-29T09:45:14.390574Z"
    }
   },
   "outputs": [],
   "source": [
    "import numpy as np\n",
    "import pandas as pd\n",
    "import matplotlib.pyplot as plt\n",
    "import seaborn as sns\n",
    "import missingno as msno\n",
    "import re\n",
    "from sklearn.impute import SimpleImputer"
   ]
  },
  {
   "cell_type": "markdown",
   "id": "cbbfa904",
   "metadata": {},
   "source": [
    "## Fonctions"
   ]
  },
  {
   "cell_type": "code",
   "execution_count": null,
   "id": "5d3d4395",
   "metadata": {
    "ExecuteTime": {
     "end_time": "2023-07-24T06:10:19.006719Z",
     "start_time": "2023-07-24T06:10:18.930749Z"
    },
    "scrolled": false
   },
   "outputs": [],
   "source": [
    "# Fontion qui crée un graphique plot avec des colonnes données pour un DataFrame\n",
    "def graphs(dataframe, colonnes):\n",
    "\n",
    "    # 1 couleur pour chaque indicateur\n",
    "    colors = [\"green\", \"red\", \"blue\", \"purple\"]\n",
    "\n",
    "    # liste des indicateurs pour faire 1 graphique par indicateur\n",
    "    indicateurs = list(dataframe[\"Indicator Name\"].unique())\n",
    "\n",
    "    # nombre de graphique en fonction du nombre d'indicateur\n",
    "    nb_graphs = len(indicateurs)\n",
    "\n",
    "    # création de la figure avec une légère augmentation de la distance entre les graphiques\n",
    "    fig, axes = plt.subplots(nb_graphs, 1, figsize=(10, 20))\n",
    "    fig.subplots_adjust(hspace=0.5)\n",
    "\n",
    "    # boucle sur les indicateurs\n",
    "    for i, indic in enumerate(indicateurs):\n",
    "\n",
    "        # récupération des données utiles\n",
    "        frame = dataframe.loc[dataframe[\"Indicator Name\"].isin(\n",
    "            [indic])].set_index(\"Indicator Name\")[colonnes].T\n",
    "\n",
    "        ax1 = axes[i]\n",
    "\n",
    "        # création du graphique\n",
    "        frame.plot(ax=ax1,\n",
    "                   title=indic,\n",
    "                   grid=True,\n",
    "                   legend=False,\n",
    "                   xlabel=\"Années\",\n",
    "                   ylabel=\"Nombre d'étudiants\",\n",
    "                   xticks=range(0, len(colonnes), 5),\n",
    "                   color=colors[i])\n",
    "    \n",
    "    # Affichage du graphique\n",
    "    plt.show()\n",
    "\n",
    "\n",
    "# Fontion qui crée un graphique plot pour un DataFrame transposé\n",
    "def transposed_graphs(dataframe):\n",
    "\n",
    "    # 1 couleur pour chaque indicateur\n",
    "    colors = [\"green\", \"red\", \"blue\", \"purple\"]\n",
    "\n",
    "    # nombre de graphique en fonction du nombre d'indicateur\n",
    "    nb_graphs = len(dataframe.columns)\n",
    "\n",
    "    # création de la figure avec une légère augmentation de la distance entre les graphiques\n",
    "    fig, axes = plt.subplots(nb_graphs, 1, figsize=(10, 20))\n",
    "    fig.subplots_adjust(hspace=0.5)\n",
    "\n",
    "    # boucle sur les indicateurs\n",
    "    for i, indic in enumerate(dataframe.columns):\n",
    "\n",
    "        # récupération des données utiles\n",
    "        frame = dataframe.loc[:, indic]\n",
    "\n",
    "        ax1 = axes[i]\n",
    "\n",
    "        # création du graphique\n",
    "        frame.plot(ax=ax1,\n",
    "                   title=indic,\n",
    "                   grid=True,\n",
    "                   legend=False,\n",
    "                   xlabel=\"Années\",\n",
    "                   ylabel=\"Nombre d'étudiants\",\n",
    "                   xticks=range(0, len(frame), 5),\n",
    "                   ylim=(0, int(frame.max()) * 1.1),\n",
    "                   color=colors[i])\n",
    "\n",
    "    # Affichage du graphique\n",
    "    plt.show()\n",
    "\n",
    "\n",
    "def distribution_graphs(dataframe):\n",
    "\n",
    "    # 1 couleur pour chaque indicateur\n",
    "    colors = [\"green\", \"red\", \"blue\", \"purple\"]\n",
    "\n",
    "    # boucle sur les indicateurs\n",
    "    for i, indic in enumerate(dataframe.columns):\n",
    "\n",
    "        # récupération des données utiles\n",
    "        frame = dataframe.loc[:, indic]\n",
    "\n",
    "        # création du graphique\n",
    "        frame.hist(figsize=(12, 8), grid=True, legend=False, color=colors[i])\n",
    "\n",
    "        # Ajout des labels et titre\n",
    "        plt.xlabel(\"Valeurs\")\n",
    "        plt.ylabel(\"Distribution\")\n",
    "        plt.title(f\"Distribution des valeurs de {indic}\")\n",
    "\n",
    "        # Affichage du graphique\n",
    "        plt.show()\n",
    "\n",
    "\n",
    "# Fonction pour afficher un graphique avec 1 couleur différente pour les données interpolées\n",
    "def interpolated_graphs(dataframe, interpolated):\n",
    "\n",
    "    # 2 couleurs pour chaque indicateur\n",
    "    colors = [\"green\", \"red\", \"blue\", \"purple\"]\n",
    "    inter_colors = [\"purple\", \"blue\", \"red\", \"green\"]\n",
    "\n",
    "    # nombre de graphique en fonction du nombre d'indicateur\n",
    "    nb_graphs = len(dataframe.columns)\n",
    "\n",
    "    # création de la figure avec une légère augmentation de la distance entre les graphiques\n",
    "    fig, axes = plt.subplots(nb_graphs, 1, figsize=(10, 20))\n",
    "    fig.subplots_adjust(hspace=0.5)\n",
    "\n",
    "    # boucle sur les indicateurs\n",
    "    for i, indic in enumerate(dataframe.columns):\n",
    "\n",
    "        # récupération des données utiles\n",
    "        frame = dataframe.loc[:, indic]\n",
    "        inter_frame = interpolated.loc[:, indic]\n",
    "\n",
    "        ax1 = axes[i]\n",
    "\n",
    "        # création de la ligne des données interpolées\n",
    "        inter_frame.plot(ax=ax1,\n",
    "                         title=indic,\n",
    "                         grid=True,\n",
    "                         legend=False,\n",
    "                         xlabel=\"Années\",\n",
    "                         ylabel=\"Nombre d'étudiants\",\n",
    "                         xticks=range(0, len(frame), 5),\n",
    "                         ylim=(0, int(frame.max()) * 1.1),\n",
    "                         color=colors[i])\n",
    "\n",
    "        # Superposition de la ligne des données avant interpolation\n",
    "        frame.plot(ax=ax1, color=inter_colors[i])\n",
    "\n",
    "    # Affichage du graphique\n",
    "    plt.show()\n",
    "\n",
    "\n",
    "# Fonction qui ajoute 2 colonnes : 1 de la dernière valeur et 1 de la date de cette valeur\n",
    "def last_line_value(dataframe, colonnes):\n",
    "\n",
    "    # Récupération des données utiles\n",
    "    frame = dataframe[colonnes]\n",
    "\n",
    "    # Récupération du nombre de ligne et de colonnes\n",
    "    line = frame.shape[0]\n",
    "    col = frame.shape[1] - 1\n",
    "\n",
    "    # Boucle sur les lignes\n",
    "    for i in range(line):\n",
    "\n",
    "        # Récupération de l'index\n",
    "        index = frame.iloc[i].name\n",
    "\n",
    "        # Boucle sur les colonnes en sens inverse\n",
    "        for j in range(col, -1, -1):\n",
    "\n",
    "            # Récupération de la valeur de la ligne et de la colonne\n",
    "            value = frame.iloc[i, j]\n",
    "\n",
    "            # Vérification si la valeur n'est pas vide\n",
    "            if not pd.isna(value):\n",
    "\n",
    "                # Ajout des valeurs et de la date\n",
    "                dataframe.loc[index, \"Last Value\"] = value\n",
    "                dataframe.loc[index,\n",
    "                              \"Last Value Date\"] = pd.to_numeric(colonnes[j])\n",
    "\n",
    "                #Sortie de la boucle\n",
    "                break\n",
    "            j += 1\n",
    "\n",
    "\n",
    "# Fonction pour diviser une liste en plusieurs sous-liste\n",
    "def diviser_liste(liste, taille):\n",
    "    return [liste[i:i + taille] for i in range(0, len(liste), taille)]"
   ]
  },
  {
   "cell_type": "markdown",
   "id": "9c42d0cb",
   "metadata": {},
   "source": [
    "## Données"
   ]
  },
  {
   "cell_type": "code",
   "execution_count": null,
   "id": "43571ff5",
   "metadata": {
    "ExecuteTime": {
     "end_time": "2023-07-24T06:10:23.947823Z",
     "start_time": "2023-07-24T06:10:19.008726Z"
    }
   },
   "outputs": [],
   "source": [
    "# Import des différents fichiers\n",
    "data = pd.read_csv(\"../Data/EdStatsData.csv\")\n",
    "country_data = pd.read_csv(\"../Data/EdStatsCountry.csv\")\n",
    "country_series = pd.read_csv(\"../Data/EdStatsCountry-Series.csv\")\n",
    "foot_note = pd.read_csv(\"../Data/EdStatsFootNote.csv\")\n",
    "series = pd.read_csv(\"../Data/EdStatsSeries.csv\")\n",
    "\n",
    "# Liste des indicateurs choisis\n",
    "indicateurs_precis = [\n",
    "    \"Enrolment in post-secondary non-tertiary education, both sexes (number)\",\n",
    "    \"Enrolment in secondary education, both sexes (number)\",\n",
    "    \"Enrolment in tertiary education, all programmes, both sexes (number)\",\n",
    "    \"Internet users (per 100 people)\"\n",
    "]\n",
    "\n",
    "pd.set_option('display.float_format', '{:,.2f}'.format)\n",
    "pd.set_option('display.max_colwidth', None)"
   ]
  },
  {
   "cell_type": "markdown",
   "id": "30bed55a",
   "metadata": {},
   "source": [
    "# Description des Données\n",
    "## Shape"
   ]
  },
  {
   "cell_type": "code",
   "execution_count": null,
   "id": "43dd9ea2",
   "metadata": {
    "ExecuteTime": {
     "end_time": "2023-07-24T06:10:23.956268Z",
     "start_time": "2023-07-24T06:10:23.950829Z"
    }
   },
   "outputs": [],
   "source": [
    "# Création d'une liste avec les noms des différentes DataFrame\n",
    "liste_nom = [\n",
    "    \"Données\", \"Pays\", \"Séries des pays\", \"Notes des séries\", \"Séries\"\n",
    "]\n",
    "\n",
    "# Création d'une liste contenant les DataFrame\n",
    "liste_dataframe = [data, country_data, country_series, foot_note, series]\n",
    "\n",
    "# Affichage des formes de tous les DataFrame\n",
    "print(*(f\"{liste_nom[i]} : {liste_dataframe[i].shape}\"\n",
    "        for i in range(0, len(liste_nom))),\n",
    "      sep=\"\\n\")"
   ]
  },
  {
   "cell_type": "markdown",
   "id": "5043cff9",
   "metadata": {},
   "source": [
    "## Colonnes"
   ]
  },
  {
   "cell_type": "code",
   "execution_count": null,
   "id": "6b6c3940",
   "metadata": {
    "ExecuteTime": {
     "end_time": "2023-07-24T06:10:23.991361Z",
     "start_time": "2023-07-24T06:10:23.958275Z"
    }
   },
   "outputs": [],
   "source": [
    "# Affichage des noms des colonnes de tous les DataFrame\n",
    "print(\n",
    "    *(f\"Les colonnes de {liste_nom[i].lower()} : {liste_dataframe[i].columns}\"\n",
    "      for i in range(0, len(liste_nom))),\n",
    "    sep=\"\\n\\n\")"
   ]
  },
  {
   "cell_type": "markdown",
   "id": "23f21b82",
   "metadata": {},
   "source": [
    "### Colonnes \"Unnamed\""
   ]
  },
  {
   "cell_type": "code",
   "execution_count": null,
   "id": "b7b0a0be",
   "metadata": {
    "ExecuteTime": {
     "end_time": "2023-07-24T06:10:24.050575Z",
     "start_time": "2023-07-24T06:10:23.993135Z"
    }
   },
   "outputs": [],
   "source": [
    "# Afficahge de la Liste des colonnes avec un nom inconnu et le nombre de valeurs non nulles\n",
    "print(*(liste_dataframe[i].loc[:, [\n",
    "    col for col in liste_dataframe[i].columns if \"unnamed\" in col.lower()\n",
    "]].notnull().sum() for i in range(0, len(liste_nom))),\n",
    "      sep=\"\\n\\n\")"
   ]
  },
  {
   "cell_type": "markdown",
   "id": "5faa13e1",
   "metadata": {},
   "source": [
    "### Suppression des colonnes \"Unnamed\""
   ]
  },
  {
   "cell_type": "code",
   "execution_count": null,
   "id": "8f4f8252",
   "metadata": {
    "ExecuteTime": {
     "end_time": "2023-07-24T06:10:24.305882Z",
     "start_time": "2023-07-24T06:10:24.053584Z"
    }
   },
   "outputs": [],
   "source": [
    "for frame in liste_dataframe:\n",
    "    frame.drop(\n",
    "        columns=[col for col in frame.columns if \"unnamed\" in col.lower()],\n",
    "        inplace=True)"
   ]
  },
  {
   "cell_type": "markdown",
   "id": "66b1498d",
   "metadata": {},
   "source": [
    "## Head des Dataframes"
   ]
  },
  {
   "cell_type": "code",
   "execution_count": null,
   "id": "e022b9d5",
   "metadata": {
    "ExecuteTime": {
     "end_time": "2023-07-24T06:10:24.366164Z",
     "start_time": "2023-07-24T06:10:24.308897Z"
    }
   },
   "outputs": [],
   "source": [
    "data.head()"
   ]
  },
  {
   "cell_type": "code",
   "execution_count": null,
   "id": "241094e8",
   "metadata": {
    "ExecuteTime": {
     "end_time": "2023-07-24T06:10:24.382148Z",
     "start_time": "2023-07-24T06:10:24.368205Z"
    }
   },
   "outputs": [],
   "source": [
    "series.head()"
   ]
  },
  {
   "cell_type": "code",
   "execution_count": null,
   "id": "f3c2ae82",
   "metadata": {
    "ExecuteTime": {
     "end_time": "2023-07-24T06:10:24.435731Z",
     "start_time": "2023-07-24T06:10:24.387670Z"
    }
   },
   "outputs": [],
   "source": [
    "country_data.head()"
   ]
  },
  {
   "cell_type": "code",
   "execution_count": null,
   "id": "c0a22301",
   "metadata": {
    "ExecuteTime": {
     "end_time": "2023-07-24T06:10:24.461587Z",
     "start_time": "2023-07-24T06:10:24.437744Z"
    }
   },
   "outputs": [],
   "source": [
    "country_series.head()"
   ]
  },
  {
   "cell_type": "code",
   "execution_count": null,
   "id": "98e0f6b3",
   "metadata": {
    "ExecuteTime": {
     "end_time": "2023-07-24T06:10:24.494500Z",
     "start_time": "2023-07-24T06:10:24.462593Z"
    }
   },
   "outputs": [],
   "source": [
    "foot_note.head()"
   ]
  },
  {
   "cell_type": "markdown",
   "id": "644deae2",
   "metadata": {},
   "source": [
    "# Exploration des donées\n",
    "## Exploration du DataFrame Data\n",
    "### Exploration globale"
   ]
  },
  {
   "cell_type": "code",
   "execution_count": null,
   "id": "80db17ed",
   "metadata": {
    "ExecuteTime": {
     "end_time": "2023-07-24T06:10:24.739445Z",
     "start_time": "2023-07-24T06:10:24.497027Z"
    }
   },
   "outputs": [],
   "source": [
    "data.info"
   ]
  },
  {
   "cell_type": "code",
   "execution_count": null,
   "id": "26b55a4d",
   "metadata": {
    "ExecuteTime": {
     "end_time": "2023-07-24T06:10:28.285264Z",
     "start_time": "2023-07-24T06:10:24.741451Z"
    }
   },
   "outputs": [],
   "source": [
    "data.describe()"
   ]
  },
  {
   "cell_type": "code",
   "execution_count": null,
   "id": "85ea873f",
   "metadata": {
    "ExecuteTime": {
     "end_time": "2023-07-24T06:10:33.077610Z",
     "start_time": "2023-07-24T06:10:28.287276Z"
    }
   },
   "outputs": [],
   "source": [
    "# Vérification du nombre de lignes dupliquées\n",
    "data.duplicated().sum()"
   ]
  },
  {
   "cell_type": "code",
   "execution_count": null,
   "id": "2a556ec7",
   "metadata": {
    "ExecuteTime": {
     "end_time": "2023-07-24T06:10:33.173125Z",
     "start_time": "2023-07-24T06:10:33.079617Z"
    }
   },
   "outputs": [],
   "source": [
    "# Vérification et Affichage du nombre d'indicateurs par pays\n",
    "data.groupby(\"Country Name\")[\"Indicator Name\"].count().unique()"
   ]
  },
  {
   "cell_type": "code",
   "execution_count": null,
   "id": "d17398b8",
   "metadata": {
    "ExecuteTime": {
     "end_time": "2023-07-24T06:10:33.471618Z",
     "start_time": "2023-07-24T06:10:33.175134Z"
    }
   },
   "outputs": [],
   "source": [
    "# Vérification et Affichage du nombre de pays par indicateurs\n",
    "data.groupby(\"Indicator Name\")[\"Country Name\"].count().unique()"
   ]
  },
  {
   "cell_type": "code",
   "execution_count": null,
   "id": "a2a4826c",
   "metadata": {
    "ExecuteTime": {
     "end_time": "2023-07-24T06:10:33.531709Z",
     "start_time": "2023-07-24T06:10:33.473627Z"
    }
   },
   "outputs": [],
   "source": [
    "# Création d'une liste avec tous les noms de pays\n",
    "liste_countries = list(data[\"Country Name\"].unique())\n",
    "\n",
    "# Séparation de la liste pour les régions\n",
    "liste_regions = liste_countries[0:liste_countries.index(\"World\")+1]\n",
    "\n",
    "# Séparation de la liste pour les pays\n",
    "liste_pays = liste_countries[liste_countries.index(\"World\")+1:]\n",
    "\n",
    "# Affichage du nombre de régions et de pays\n",
    "print(f\"Nombre de régions : {len(liste_regions)} \\n\\nNombre de pays : {len(liste_pays)}\")"
   ]
  },
  {
   "cell_type": "code",
   "execution_count": null,
   "id": "5d45274d",
   "metadata": {
    "ExecuteTime": {
     "end_time": "2023-07-24T06:10:33.582671Z",
     "start_time": "2023-07-24T06:10:33.533718Z"
    }
   },
   "outputs": [],
   "source": [
    "liste_code_pays = list(country_data[\"Country Code\"].unique())\n",
    "pays_manquant = data[~(data[\"Country Code\"].isin(liste_code_pays))]\n",
    "pays_manquant[\"Country Name\"].unique()"
   ]
  },
  {
   "cell_type": "code",
   "execution_count": null,
   "id": "333852e8",
   "metadata": {
    "ExecuteTime": {
     "end_time": "2023-07-24T06:10:33.851264Z",
     "start_time": "2023-07-24T06:10:33.585190Z"
    }
   },
   "outputs": [],
   "source": [
    "# Affichage du type des colonnes\n",
    "print(data.loc[:, \"Country Name\":\"Indicator Code\"].dtypes)\n",
    "print(data.loc[:, \"1970\":\"2020\"].dtypes)\n",
    "print(data.loc[:, \"2025\":\"2100\"].dtypes)"
   ]
  },
  {
   "cell_type": "markdown",
   "id": "62736fd0",
   "metadata": {},
   "source": [
    "### Visuels des données manquantes"
   ]
  },
  {
   "cell_type": "code",
   "execution_count": null,
   "id": "49da634a",
   "metadata": {
    "ExecuteTime": {
     "end_time": "2023-07-24T06:10:35.395657Z",
     "start_time": "2023-07-24T06:10:33.854274Z"
    }
   },
   "outputs": [],
   "source": [
    "# Affichage des données d'un échantillon de 1000 lignes\n",
    "msno.bar(data.sample(1000))"
   ]
  },
  {
   "cell_type": "code",
   "execution_count": null,
   "id": "bdf9396c",
   "metadata": {
    "ExecuteTime": {
     "end_time": "2023-07-24T06:10:35.930629Z",
     "start_time": "2023-07-24T06:10:35.396665Z"
    }
   },
   "outputs": [],
   "source": [
    "# Affichage des données présentes par ligne pour un échantillon de 500 lignes \n",
    "msno.matrix(data.sample(500))"
   ]
  },
  {
   "cell_type": "code",
   "execution_count": null,
   "id": "960d0160",
   "metadata": {
    "ExecuteTime": {
     "end_time": "2023-07-24T06:10:36.806356Z",
     "start_time": "2023-07-24T06:10:35.932634Z"
    },
    "scrolled": true
   },
   "outputs": [],
   "source": [
    "# Calcul de la moyenne de données vides par colonnes\n",
    "nb_colnull = data.isnull().mean() * 100\n",
    "\n",
    "# Création de la figure avec 2 sous-graphiques\n",
    "fig, (ax1, ax2) = plt.subplots(2, 1, figsize=(12, 8))\n",
    "\n",
    "# Création du graphique des colonnes 1970 à 2017\n",
    "nb_colnull.loc[\"1970\":\"2017\"].plot(\n",
    "    kind=\"bar\",\n",
    "    ax=ax1,\n",
    "    title=\"Pourcentage de valeurs vides par colonne\",\n",
    "    xlabel=\"Nom des Colonnes\",\n",
    "    ylabel=\"Pourcentage\")\n",
    "\n",
    "# Ajout des valeurs en haut des colonnes\n",
    "for i, value in enumerate(nb_colnull.loc[\"1970\":\"2017\"]):\n",
    "    ax1.annotate(f\"{int(value)}\", (i, value), ha=\"center\", va=\"bottom\")\n",
    "\n",
    "# Création du deuxième graphique pour les autres colonnes\n",
    "nb_colnull.loc[\"2020\":].plot(kind=\"bar\",\n",
    "                             ax=ax2,\n",
    "                             xlabel=\"Nom des Colonnes\",\n",
    "                             ylabel=\"Pourcentage\")\n",
    "\n",
    "# Ajout des valeurs en haut des colonnes\n",
    "for i, value in enumerate(nb_colnull.loc[\"2020\":]):\n",
    "    ax2.annotate(f\"{int(value)}\", (i, value), ha=\"center\", va=\"bottom\")\n",
    "\n",
    "# Ajuster l'espacement entre les sous-graphiques\n",
    "plt.tight_layout()\n",
    "\n",
    "# Affichage du graphique\n",
    "plt.show()"
   ]
  },
  {
   "cell_type": "code",
   "execution_count": null,
   "id": "8ab2820f",
   "metadata": {
    "ExecuteTime": {
     "end_time": "2023-07-24T06:10:36.814872Z",
     "start_time": "2023-07-24T06:10:36.809363Z"
    }
   },
   "outputs": [],
   "source": [
    "round(nb_colnull.mean(), 2)"
   ]
  },
  {
   "cell_type": "code",
   "execution_count": null,
   "id": "90e5c771",
   "metadata": {
    "ExecuteTime": {
     "end_time": "2023-07-24T06:10:40.045968Z",
     "start_time": "2023-07-24T06:10:36.817388Z"
    },
    "scrolled": true
   },
   "outputs": [],
   "source": [
    "# Création de sous-listes avec 41 pays par liste\n",
    "liste_countries = list(data[\"Country Name\"].unique())\n",
    "taille_sous_liste = 41\n",
    "sous_listes = diviser_liste(liste_countries, taille_sous_liste)\n",
    "\n",
    "# Boucle pour chaque sous-liste de pays\n",
    "for liste in sous_listes:\n",
    "    \n",
    "    # Calcul de la moyenne de données vides par ligne\n",
    "    nb_lignenull = data.loc[data[\"Country Name\"].isin(liste)].set_index(\"Country Name\").isnull().mean(axis=1) * 100\n",
    "\n",
    "    # Groupement des données par pays.\n",
    "    grouped_data = nb_lignenull.reset_index().groupby(\"Country Name\").mean()\n",
    "\n",
    "    # Créer une figure et une grille de sous-graphiques\n",
    "    fig, ax = plt.subplots(figsize=(12, 8))\n",
    "\n",
    "    # Tracé les barres horizontales\n",
    "    grouped_data.plot.barh(ax=ax, color='b', legend=False, grid=True)\n",
    "\n",
    "    # Ajout des titres et des étiquettes d'axe\n",
    "    ax.set_title(\"Pourcentage de valeurs nulles par pays\")\n",
    "    ax.set_xlabel(\"Pourcentage de valeurs nulles\")\n",
    "    ax.set_ylabel(\"Pays\")\n",
    "\n",
    "    # Affichage du graphique\n",
    "    plt.show()"
   ]
  },
  {
   "cell_type": "markdown",
   "id": "bd2e226d",
   "metadata": {},
   "source": [
    "## Exploration du DataFrame Country\n",
    "### Exploration globale"
   ]
  },
  {
   "cell_type": "code",
   "execution_count": null,
   "id": "b684e6fc",
   "metadata": {
    "ExecuteTime": {
     "end_time": "2023-07-24T06:10:40.064989Z",
     "start_time": "2023-07-24T06:10:40.047978Z"
    }
   },
   "outputs": [],
   "source": [
    "country_data.info"
   ]
  },
  {
   "cell_type": "code",
   "execution_count": null,
   "id": "6f2d8479",
   "metadata": {
    "ExecuteTime": {
     "end_time": "2023-07-24T06:10:40.081548Z",
     "start_time": "2023-07-24T06:10:40.066997Z"
    }
   },
   "outputs": [],
   "source": [
    "# Vérification du nombre de lignes dupliquées\n",
    "country_data.duplicated().sum()"
   ]
  },
  {
   "cell_type": "code",
   "execution_count": null,
   "id": "7089e0aa",
   "metadata": {
    "ExecuteTime": {
     "end_time": "2023-07-24T06:10:40.096507Z",
     "start_time": "2023-07-24T06:10:40.090086Z"
    }
   },
   "outputs": [],
   "source": [
    "# Affichage du type des colonnes\n",
    "country_data.dtypes"
   ]
  },
  {
   "cell_type": "code",
   "execution_count": null,
   "id": "c544681d",
   "metadata": {
    "ExecuteTime": {
     "end_time": "2023-07-24T06:10:40.111540Z",
     "start_time": "2023-07-24T06:10:40.098513Z"
    }
   },
   "outputs": [],
   "source": [
    "country_data.loc[~(country_data[\"National accounts base year\"].isnull()), \"National accounts base year\"]"
   ]
  },
  {
   "cell_type": "markdown",
   "id": "d0bb4bb8",
   "metadata": {},
   "source": [
    "### Visuels des données manquantes"
   ]
  },
  {
   "cell_type": "code",
   "execution_count": null,
   "id": "cae919ea",
   "metadata": {
    "ExecuteTime": {
     "end_time": "2023-07-24T06:10:41.896782Z",
     "start_time": "2023-07-24T06:10:40.113546Z"
    }
   },
   "outputs": [],
   "source": [
    "# Affichage des données d'un échantillon de 1000 lignes\n",
    "msno.bar(country_data)"
   ]
  },
  {
   "cell_type": "code",
   "execution_count": null,
   "id": "c4b0ca34",
   "metadata": {
    "ExecuteTime": {
     "end_time": "2023-07-24T06:10:42.637852Z",
     "start_time": "2023-07-24T06:10:41.898790Z"
    }
   },
   "outputs": [],
   "source": [
    "# Affichage des données présentes par ligne pour un échantillon de 500 lignes \n",
    "msno.matrix(country_data)"
   ]
  },
  {
   "cell_type": "code",
   "execution_count": null,
   "id": "196e0d48",
   "metadata": {
    "ExecuteTime": {
     "end_time": "2023-07-24T06:10:43.184918Z",
     "start_time": "2023-07-24T06:10:42.638884Z"
    }
   },
   "outputs": [],
   "source": [
    "# Calcul de la moyenne de données vides par colonnes\n",
    "nb_colnull = country_data.isnull().mean() * 100\n",
    "\n",
    "# Création de la figure avec 2 sous-graphiques\n",
    "fig, ax= plt.subplots(1, 1, figsize=(12, 8))\n",
    "\n",
    "# Création du graphique des colonnes 1970 à 2017\n",
    "nb_colnull.plot(\n",
    "    kind=\"bar\",\n",
    "    title=\"Pourcentage de valeurs vides par colonne\",\n",
    "    xlabel=\"Nom des Colonnes\",\n",
    "    ylabel=\"Pourcentage\",\n",
    "    )\n",
    "\n",
    "# Rotation des lalels de l'axe des abscisses\n",
    "ax.set_xticklabels(ax.get_xticklabels(),\n",
    "                   rotation=45,\n",
    "                   horizontalalignment=\"right\")\n",
    "\n",
    "# Ajout des valeurs en haut des colonnes\n",
    "for i, value in enumerate(nb_colnull):\n",
    "    ax.annotate(f\"{int(value)}\", (i, value), ha=\"center\", va=\"bottom\")\n",
    "\n",
    "# Ajuster l'espacement entre les sous-graphiques\n",
    "plt.tight_layout()\n",
    "\n",
    "# Afficher le graphique\n",
    "plt.show()"
   ]
  },
  {
   "cell_type": "code",
   "execution_count": null,
   "id": "d6b705e7",
   "metadata": {
    "ExecuteTime": {
     "end_time": "2023-07-24T06:10:43.192200Z",
     "start_time": "2023-07-24T06:10:43.186442Z"
    }
   },
   "outputs": [],
   "source": [
    "round(nb_colnull.mean(), 2)"
   ]
  },
  {
   "cell_type": "code",
   "execution_count": null,
   "id": "90a77e51",
   "metadata": {
    "ExecuteTime": {
     "end_time": "2023-07-24T06:10:45.486374Z",
     "start_time": "2023-07-24T06:10:43.194212Z"
    }
   },
   "outputs": [],
   "source": [
    "# Création d'une liste avec les noms des pays\n",
    "liste_countries = list(country_data[\"Short Name\"])\n",
    "    \n",
    "# Calcul de la moyenne de données vides par ligne\n",
    "nb_lignenull = country_data.set_index(\"Short Name\").isnull().mean(axis=1) * 100\n",
    "\n",
    "# Créer une figure et une grille de sous-graphiques\n",
    "fig, ax = plt.subplots(figsize=(12, 50))\n",
    "\n",
    "# Tracé les barres horizontales\n",
    "nb_lignenull.plot.barh(ax=ax, color='b', legend=False, grid=True)\n",
    "\n",
    "#Ajout des valeurs au bout des barres\n",
    "for i, value in enumerate(nb_lignenull):\n",
    "    ax.annotate(f\"{int(value)}\", (value, i), ha=\"left\", va=\"center\")\n",
    "\n",
    "# Ajout des titres et des étiquettes d'axe\n",
    "ax.set_title(\"Pourcentage de valeurs nulles par pays\")\n",
    "ax.set_xlabel(\"Pourcentage de valeurs nulles\")\n",
    "ax.set_ylabel(\"Pays\")\n",
    "\n",
    "# Afficher le graphique\n",
    "plt.show()"
   ]
  },
  {
   "cell_type": "markdown",
   "id": "d15ec356",
   "metadata": {
    "ExecuteTime": {
     "end_time": "2023-07-17T16:11:10.927049Z",
     "start_time": "2023-07-17T16:11:10.919710Z"
    }
   },
   "source": [
    "## Exploration du DataFrame Series\n",
    "### Exploration globale"
   ]
  },
  {
   "cell_type": "code",
   "execution_count": null,
   "id": "4f4b7ed4",
   "metadata": {
    "ExecuteTime": {
     "end_time": "2023-07-24T06:10:45.502320Z",
     "start_time": "2023-07-24T06:10:45.488811Z"
    }
   },
   "outputs": [],
   "source": [
    "series.info"
   ]
  },
  {
   "cell_type": "code",
   "execution_count": null,
   "id": "bd949ee9",
   "metadata": {
    "ExecuteTime": {
     "end_time": "2023-07-24T06:10:45.525339Z",
     "start_time": "2023-07-24T06:10:45.503325Z"
    }
   },
   "outputs": [],
   "source": [
    "# Vérification du nombre de lignes dupliquées\n",
    "series.duplicated().sum()"
   ]
  },
  {
   "cell_type": "code",
   "execution_count": null,
   "id": "15f3f917",
   "metadata": {
    "ExecuteTime": {
     "end_time": "2023-07-24T06:10:45.534285Z",
     "start_time": "2023-07-24T06:10:45.527346Z"
    }
   },
   "outputs": [],
   "source": [
    "# Vérification du tyoes des colonnes\n",
    "series.dtypes"
   ]
  },
  {
   "cell_type": "markdown",
   "id": "b7cdf8f3",
   "metadata": {},
   "source": [
    "### Visuels des données manquantes"
   ]
  },
  {
   "cell_type": "code",
   "execution_count": null,
   "id": "cd0b16c0",
   "metadata": {
    "ExecuteTime": {
     "end_time": "2023-07-24T06:10:46.701971Z",
     "start_time": "2023-07-24T06:10:45.536345Z"
    }
   },
   "outputs": [],
   "source": [
    "# Affichage des données d'un échantillon de 1000 lignes\n",
    "msno.bar(series.sample(1000))"
   ]
  },
  {
   "cell_type": "code",
   "execution_count": null,
   "id": "3271ce75",
   "metadata": {
    "ExecuteTime": {
     "end_time": "2023-07-24T06:10:47.288844Z",
     "start_time": "2023-07-24T06:10:46.702975Z"
    }
   },
   "outputs": [],
   "source": [
    "# Affichage des données présentes par ligne pour un échantillon de 500 lignes \n",
    "msno.matrix(series.sample(500))"
   ]
  },
  {
   "cell_type": "code",
   "execution_count": null,
   "id": "e337db6b",
   "metadata": {
    "ExecuteTime": {
     "end_time": "2023-07-24T06:10:47.609486Z",
     "start_time": "2023-07-24T06:10:47.290364Z"
    },
    "scrolled": false
   },
   "outputs": [],
   "source": [
    "# Calcul de la moyenne de données vides par colonnes\n",
    "nb_colnull = series.isnull().mean() * 100\n",
    "\n",
    "# Création de la figure avec 2 sous-graphiques\n",
    "fig, ax= plt.subplots(1, 1, figsize=(12, 8))\n",
    "\n",
    "# Création du graphique des colonnes 1970 à 2017\n",
    "nb_colnull.plot(\n",
    "    kind=\"bar\",\n",
    "    title=\"Pourcentage de valeurs vides par colonne\",\n",
    "    xlabel=\"Nom des Colonnes\",\n",
    "    ylabel=\"Pourcentage\",\n",
    "    )\n",
    "\n",
    "# Rotation des lalels de l'axe des abscisses\n",
    "ax.set_xticklabels(ax.get_xticklabels(),\n",
    "                   rotation=45,\n",
    "                   horizontalalignment=\"right\")\n",
    "\n",
    "# Ajout des valeurs en haut des colonnes\n",
    "for i, value in enumerate(nb_colnull):\n",
    "    ax.annotate(f\"{int(value)}\", (i, value), ha=\"center\", va=\"bottom\")\n",
    "\n",
    "# Ajuster l'espacement entre les sous-graphiques\n",
    "plt.tight_layout()\n",
    "\n",
    "# Afficher le graphique\n",
    "plt.show()"
   ]
  },
  {
   "cell_type": "code",
   "execution_count": null,
   "id": "6d7375ed",
   "metadata": {
    "ExecuteTime": {
     "end_time": "2023-07-24T06:10:47.616250Z",
     "start_time": "2023-07-24T06:10:47.611498Z"
    }
   },
   "outputs": [],
   "source": [
    "round(nb_colnull.mean(), 2)"
   ]
  },
  {
   "cell_type": "code",
   "execution_count": null,
   "id": "d9260848",
   "metadata": {
    "ExecuteTime": {
     "end_time": "2023-07-24T06:11:42.486461Z",
     "start_time": "2023-07-24T06:10:47.618257Z"
    }
   },
   "outputs": [],
   "source": [
    "# Création de sous-listes avec 41 pays par liste\n",
    "liste_series = list(series[\"Indicator Name\"])\n",
    "taille_sous_liste = 55\n",
    "sous_listes = diviser_liste(liste_series, taille_sous_liste)\n",
    "\n",
    "# Boucle pour chaque sous-liste de pays\n",
    "for liste in sous_listes:\n",
    "    \n",
    "    # Calcul de la moyenne de données vides par ligne\n",
    "    nb_lignenull = series.loc[series[\"Indicator Name\"].isin(liste)].set_index(\"Indicator Name\").isnull().mean(axis=1) * 100\n",
    "\n",
    "\n",
    "    # Créer une figure et une grille de sous-graphiques\n",
    "    fig, ax = plt.subplots(figsize=(12, 15))\n",
    "\n",
    "    # Tracé les barres horizontales\n",
    "    nb_lignenull.plot.barh(ax=ax, color='b', legend=False, grid=True)\n",
    "\n",
    "    # Ajout des titres et des étiquettes d'axe\n",
    "    ax.set_title(\"Pourcentage de valeurs nulles par série\")\n",
    "    ax.set_xlabel(\"Pourcentage de valeurs nulles\")\n",
    "    ax.set_ylabel(\"Séries\")\n",
    "\n",
    "    # Afficher le graphique\n",
    "    plt.show()"
   ]
  },
  {
   "cell_type": "markdown",
   "id": "2b301688",
   "metadata": {},
   "source": [
    "## Exploration du DataFrame foot_note\n",
    "### Exploration globale"
   ]
  },
  {
   "cell_type": "code",
   "execution_count": null,
   "id": "5cbf31a2",
   "metadata": {
    "ExecuteTime": {
     "end_time": "2023-07-24T06:11:42.495948Z",
     "start_time": "2023-07-24T06:11:42.488471Z"
    }
   },
   "outputs": [],
   "source": [
    "foot_note.info"
   ]
  },
  {
   "cell_type": "code",
   "execution_count": null,
   "id": "20e0be50",
   "metadata": {
    "ExecuteTime": {
     "end_time": "2023-07-24T06:11:42.712126Z",
     "start_time": "2023-07-24T06:11:42.497959Z"
    }
   },
   "outputs": [],
   "source": [
    "# Vérification du nombre de lignes dupliquées\n",
    "foot_note.duplicated().sum()"
   ]
  },
  {
   "cell_type": "code",
   "execution_count": null,
   "id": "c0523b9d",
   "metadata": {
    "ExecuteTime": {
     "end_time": "2023-07-24T06:11:42.719241Z",
     "start_time": "2023-07-24T06:11:42.714135Z"
    }
   },
   "outputs": [],
   "source": [
    "# Vérification du type des colonnes\n",
    "foot_note.dtypes"
   ]
  },
  {
   "cell_type": "code",
   "execution_count": null,
   "id": "6c681087",
   "metadata": {
    "ExecuteTime": {
     "end_time": "2023-07-24T06:11:42.757958Z",
     "start_time": "2023-07-24T06:11:42.721247Z"
    }
   },
   "outputs": [],
   "source": [
    "foot_note[\"CountryCode\"].nunique()"
   ]
  },
  {
   "cell_type": "code",
   "execution_count": null,
   "id": "6c20e156",
   "metadata": {
    "ExecuteTime": {
     "end_time": "2023-07-24T06:11:42.803249Z",
     "start_time": "2023-07-24T06:11:42.759966Z"
    }
   },
   "outputs": [],
   "source": [
    "foot_note[\"SeriesCode\"].nunique()"
   ]
  },
  {
   "cell_type": "code",
   "execution_count": null,
   "id": "5c5a332e",
   "metadata": {
    "ExecuteTime": {
     "end_time": "2023-07-24T06:11:42.836558Z",
     "start_time": "2023-07-24T06:11:42.805763Z"
    }
   },
   "outputs": [],
   "source": [
    "foot_note[\"Year\"].nunique()"
   ]
  },
  {
   "cell_type": "markdown",
   "id": "f1544fcf",
   "metadata": {},
   "source": [
    "### Visuels des données manquantes"
   ]
  },
  {
   "cell_type": "code",
   "execution_count": null,
   "id": "477bfb0e",
   "metadata": {
    "ExecuteTime": {
     "end_time": "2023-07-24T06:11:43.320053Z",
     "start_time": "2023-07-24T06:11:42.838563Z"
    }
   },
   "outputs": [],
   "source": [
    "# Affichage des données d'un échantillon de 1000 lignes\n",
    "msno.bar(foot_note.sample(1000))"
   ]
  },
  {
   "cell_type": "code",
   "execution_count": null,
   "id": "5a690c05",
   "metadata": {
    "ExecuteTime": {
     "end_time": "2023-07-24T06:11:43.695528Z",
     "start_time": "2023-07-24T06:11:43.321059Z"
    }
   },
   "outputs": [],
   "source": [
    "# Affichage des données présentes par ligne pour un échantillon de 500 lignes \n",
    "msno.matrix(foot_note.sample(500))"
   ]
  },
  {
   "cell_type": "code",
   "execution_count": null,
   "id": "7ee4d779",
   "metadata": {
    "ExecuteTime": {
     "end_time": "2023-07-24T06:11:43.767287Z",
     "start_time": "2023-07-24T06:11:43.697536Z"
    }
   },
   "outputs": [],
   "source": [
    "# Calcul du nombre données manquantes\n",
    "foot_note.isnull().sum()"
   ]
  },
  {
   "cell_type": "markdown",
   "id": "2f112737",
   "metadata": {},
   "source": [
    "## Exploration du DataFrame country_series\n",
    "### Exploration globale"
   ]
  },
  {
   "cell_type": "code",
   "execution_count": null,
   "id": "49730e1c",
   "metadata": {
    "ExecuteTime": {
     "end_time": "2023-07-24T06:11:43.777931Z",
     "start_time": "2023-07-24T06:11:43.769294Z"
    }
   },
   "outputs": [],
   "source": [
    "country_series.info"
   ]
  },
  {
   "cell_type": "code",
   "execution_count": null,
   "id": "358a111f",
   "metadata": {
    "ExecuteTime": {
     "end_time": "2023-07-24T06:11:43.790037Z",
     "start_time": "2023-07-24T06:11:43.778939Z"
    }
   },
   "outputs": [],
   "source": [
    "# Vérification du nombre de lignes dupliquées\n",
    "country_series.duplicated().sum()"
   ]
  },
  {
   "cell_type": "code",
   "execution_count": null,
   "id": "004b0ea4",
   "metadata": {
    "ExecuteTime": {
     "end_time": "2023-07-24T06:11:43.804022Z",
     "start_time": "2023-07-24T06:11:43.792044Z"
    }
   },
   "outputs": [],
   "source": [
    "# Vérification du type des colonnes\n",
    "country_series.dtypes"
   ]
  },
  {
   "cell_type": "code",
   "execution_count": null,
   "id": "446f5396",
   "metadata": {
    "ExecuteTime": {
     "end_time": "2023-07-24T06:11:43.816703Z",
     "start_time": "2023-07-24T06:11:43.805538Z"
    }
   },
   "outputs": [],
   "source": [
    "country_series[\"CountryCode\"].nunique()"
   ]
  },
  {
   "cell_type": "code",
   "execution_count": null,
   "id": "366007be",
   "metadata": {
    "ExecuteTime": {
     "end_time": "2023-07-24T06:11:43.828424Z",
     "start_time": "2023-07-24T06:11:43.818709Z"
    }
   },
   "outputs": [],
   "source": [
    "country_series[\"SeriesCode\"].nunique()"
   ]
  },
  {
   "cell_type": "code",
   "execution_count": null,
   "id": "8766d7dc",
   "metadata": {
    "ExecuteTime": {
     "end_time": "2023-07-24T06:11:43.841473Z",
     "start_time": "2023-07-24T06:11:43.830431Z"
    }
   },
   "outputs": [],
   "source": [
    "list_codes_country_series = country_series[\"SeriesCode\"].unique()\n",
    "series.loc[series[\"Series Code\"].isin(list_codes_country_series), \"Indicator Name\"]"
   ]
  },
  {
   "cell_type": "markdown",
   "id": "1d0970cd",
   "metadata": {},
   "source": [
    "### Visuels des données manquantes"
   ]
  },
  {
   "cell_type": "code",
   "execution_count": null,
   "id": "e1b0c488",
   "metadata": {
    "ExecuteTime": {
     "end_time": "2023-07-24T06:11:44.298635Z",
     "start_time": "2023-07-24T06:11:43.843479Z"
    }
   },
   "outputs": [],
   "source": [
    "# Affichage des données d'un échantillon de 1000 lignes\n",
    "msno.bar(country_series)"
   ]
  },
  {
   "cell_type": "code",
   "execution_count": null,
   "id": "372c2461",
   "metadata": {
    "ExecuteTime": {
     "end_time": "2023-07-24T06:11:44.651072Z",
     "start_time": "2023-07-24T06:11:44.300647Z"
    }
   },
   "outputs": [],
   "source": [
    "# Affichage des données présentes par ligne pour un échantillon de 500 lignes \n",
    "msno.matrix(country_series)"
   ]
  },
  {
   "cell_type": "code",
   "execution_count": null,
   "id": "e04fcbef",
   "metadata": {
    "ExecuteTime": {
     "end_time": "2023-07-24T06:11:44.659434Z",
     "start_time": "2023-07-24T06:11:44.653079Z"
    }
   },
   "outputs": [],
   "source": [
    "# Calcul du nombre données manquantes\n",
    "country_series.isnull().sum()"
   ]
  },
  {
   "cell_type": "markdown",
   "id": "8ebd20c6",
   "metadata": {},
   "source": [
    "# Création du Dataframe avec 4 indicateurs importants"
   ]
  },
  {
   "cell_type": "code",
   "execution_count": null,
   "id": "d9a425d8",
   "metadata": {
    "ExecuteTime": {
     "end_time": "2023-07-24T06:11:44.713622Z",
     "start_time": "2023-07-24T06:11:44.660444Z"
    }
   },
   "outputs": [],
   "source": [
    "asked_data = data.loc[data[\"Indicator Name\"].isin(indicateurs_precis)].copy()"
   ]
  },
  {
   "cell_type": "markdown",
   "id": "386b9326",
   "metadata": {},
   "source": [
    "## Visuel des données manquantes "
   ]
  },
  {
   "cell_type": "code",
   "execution_count": null,
   "id": "b2c44504",
   "metadata": {
    "ExecuteTime": {
     "end_time": "2023-07-24T06:11:45.712419Z",
     "start_time": "2023-07-24T06:11:44.716148Z"
    },
    "scrolled": false
   },
   "outputs": [],
   "source": [
    "# Calcul de la moyenne des valeurs manquantes par colonne\n",
    "nb_colnull = asked_data.isnull().mean() * 100\n",
    "\n",
    "# Création de la figure avec 2 sous-graphique\n",
    "fig, (ax1, ax2) = plt.subplots(2, 1, figsize=(12, 8))\n",
    "\n",
    "# Création du graphique pour les colonnes de 1970 à 2017\n",
    "nb_colnull.loc[\"1970\":\"2017\"].plot(\n",
    "    kind=\"bar\",\n",
    "    ax=ax1,\n",
    "    title=\"Pourcentage de valeurs vides par colonne\",\n",
    "    xlabel=\"Nom des Colonnes\",\n",
    "    ylabel=\"Pourcentage\")\n",
    "\n",
    "# Ajout des valeurs en haut des colonnes\n",
    "for i, value in enumerate(nb_colnull.loc[\"1970\":\"2017\"]):\n",
    "    ax1.annotate(f\"{int(value)}\", (i, value), ha=\"center\", va=\"bottom\")\n",
    "    \n",
    "# Création du graphique pour les colonnes de 2020 à 2100\n",
    "nb_colnull.loc[\"2020\":].plot(kind=\"bar\",\n",
    "                             ax=ax2,\n",
    "                             xlabel=\"Nom des Colonnes\",\n",
    "                             ylabel=\"Pourcentage\")\n",
    "\n",
    "# Ajout des valeurs en haut des colonnes\n",
    "for i, value in enumerate(nb_colnull.loc[\"2020\":]):\n",
    "    ax2.annotate(f\"{int(value)}\", (i, value), ha=\"center\", va=\"bottom\")\n",
    "    \n",
    "# Ajuster l'espacement entre les sous-graphiques\n",
    "plt.tight_layout()\n",
    "\n",
    "# Afficher le graphique\n",
    "plt.show()"
   ]
  },
  {
   "cell_type": "code",
   "execution_count": null,
   "id": "03364ff1",
   "metadata": {
    "ExecuteTime": {
     "end_time": "2023-07-24T06:11:45.720443Z",
     "start_time": "2023-07-24T06:11:45.714931Z"
    }
   },
   "outputs": [],
   "source": [
    "round(nb_colnull.mean(), 2)"
   ]
  },
  {
   "cell_type": "markdown",
   "id": "483f1889",
   "metadata": {},
   "source": [
    "### Suppression des colonnes vides"
   ]
  },
  {
   "cell_type": "code",
   "execution_count": null,
   "id": "cd2852a7",
   "metadata": {
    "ExecuteTime": {
     "end_time": "2023-07-24T06:11:45.743010Z",
     "start_time": "2023-07-24T06:11:45.722462Z"
    }
   },
   "outputs": [],
   "source": [
    "# On garde les colonnes de la première jusqu'à celle de 2016\n",
    "asked_data = asked_data.loc[:, :\"2016\"]\n",
    "\n",
    "# On récupère la lsite des colonnes de dates avec les données numériques\n",
    "liste_dates = list(asked_data.loc[:, \"1970\":].columns)\n",
    "asked_data.head()"
   ]
  },
  {
   "cell_type": "markdown",
   "id": "799d9204",
   "metadata": {},
   "source": [
    "### Visuel des données manquantes par pays"
   ]
  },
  {
   "cell_type": "code",
   "execution_count": null,
   "id": "dce4372e",
   "metadata": {
    "ExecuteTime": {
     "end_time": "2023-07-24T06:11:47.587813Z",
     "start_time": "2023-07-24T06:11:45.744018Z"
    },
    "scrolled": true
   },
   "outputs": [],
   "source": [
    "# Calcul de la moyenne des données vides par ligne\n",
    "nb_lignenull = asked_data.set_index(\"Country Name\").isnull().mean(axis=1) * 100\n",
    "\n",
    "# Regroupement par pays pour avoir la moyenne des données vide par pays\n",
    "grouped_data = nb_lignenull.reset_index().groupby(\"Country Name\").mean()\n",
    "\n",
    "# Créer une figure et une grille de sous-graphiques\n",
    "fig, ax = plt.subplots(figsize=(12, 50))\n",
    "\n",
    "# Tracer les barres horizontales\n",
    "grouped_data.plot.barh(ax=ax, color='b', legend=False, grid=True)\n",
    "\n",
    "# Ajouter des titres et des étiquettes d'axe\n",
    "ax.set_title(\"Pourcentage de valeurs nulles par pays\")\n",
    "ax.set_xlabel(\"Pourcentage de valeurs nulles\")\n",
    "ax.set_ylabel(\"Pays\")\n",
    "\n",
    "# Afficher le graphique\n",
    "plt.show()"
   ]
  },
  {
   "cell_type": "markdown",
   "id": "725f8d08",
   "metadata": {},
   "source": [
    "## Tri des pays avec suffisamment de données"
   ]
  },
  {
   "cell_type": "code",
   "execution_count": null,
   "id": "0d982159",
   "metadata": {
    "ExecuteTime": {
     "end_time": "2023-07-24T06:11:47.597536Z",
     "start_time": "2023-07-24T06:11:47.589821Z"
    }
   },
   "outputs": [],
   "source": [
    "# Récupération des pays avec moins de 55% de données vide\n",
    "pays_a_garder = grouped_data[grouped_data < 55].dropna().index\n",
    "\n",
    "# On garde les données pour ces pays\n",
    "asked_data = asked_data[asked_data[\"Country Name\"].isin(pays_a_garder)]\n",
    "asked_data.reset_index(drop=True, inplace=True)\n",
    "\n",
    "asked_data.shape"
   ]
  },
  {
   "cell_type": "code",
   "execution_count": null,
   "id": "adf033fc",
   "metadata": {
    "ExecuteTime": {
     "end_time": "2023-07-24T06:11:47.610287Z",
     "start_time": "2023-07-24T06:11:47.599542Z"
    }
   },
   "outputs": [],
   "source": [
    "# Nombre de pays restants après le tri\n",
    "asked_data[\"Country Name\"].nunique()"
   ]
  },
  {
   "cell_type": "markdown",
   "id": "467ec763",
   "metadata": {},
   "source": [
    "## Vérification des valeurs abérrantes"
   ]
  },
  {
   "cell_type": "code",
   "execution_count": null,
   "id": "373aa8a5",
   "metadata": {
    "ExecuteTime": {
     "end_time": "2023-07-24T06:11:47.626818Z",
     "start_time": "2023-07-24T06:11:47.612297Z"
    }
   },
   "outputs": [],
   "source": [
    "# Vérification de l'accès à internet\n",
    "data_internet = asked_data[asked_data[\"Indicator Name\"] == \"Internet users (per 100 people)\"]\n",
    "data_internet[liste_dates].max()"
   ]
  },
  {
   "cell_type": "code",
   "execution_count": null,
   "id": "f11163ca",
   "metadata": {
    "ExecuteTime": {
     "end_time": "2023-07-24T06:12:52.219567Z",
     "start_time": "2023-07-24T06:11:47.627826Z"
    }
   },
   "outputs": [],
   "source": [
    "list_countries = asked_data[\"Country Name\"].unique()\n",
    "\n",
    "verif_data = asked_data.copy()\n",
    "\n",
    "# Changement du nom des indicateurs dans le DataFrame\n",
    "for indic in indicateurs_precis:\n",
    "    nouvel_indic = indic.replace(', both sexes (number)', '')\n",
    "    verif_data.loc[verif_data[\"Indicator Name\"] == indic,\n",
    "                   \"Indicator Name\"] = nouvel_indic\n",
    "    \n",
    "# Récupération du nom des nouveaux indicateurs\n",
    "nouveaux_indic = verif_data[\"Indicator Name\"].unique()\n",
    "\n",
    "# Boucle sur la liste des pays\n",
    "for i, country in enumerate(list_countries):\n",
    "    \n",
    "    # Création de la figure\n",
    "    fig, axes = plt.subplots(1, 4, figsize=(16, 6))\n",
    "    \n",
    "    # Boucle sur les indicateurs\n",
    "    for j, indic in enumerate(nouveaux_indic):\n",
    "        \n",
    "        # Récupération des informations utiles\n",
    "        frame = verif_data[(verif_data[\"Country Name\"] == country) & (\n",
    "            verif_data[\"Indicator Name\"] == indic)].set_index(\"Country Name\")\n",
    "        \n",
    "        # Création des boxplot par indicateurs après transposition du DataFrame\n",
    "        axes[j].boxplot(frame[liste_dates].T)\n",
    "        \n",
    "        # Ajout du titre du graphique\n",
    "        axes[j].set_title(indic)\n",
    "        \n",
    "        # Ajout du nom du pays en abscisse\n",
    "        axes[j].set_xticklabels([country])\n",
    "\n",
    "    # Ajout d'un sous-titre\n",
    "    plt.suptitle(country, fontsize=16)\n",
    "    \n",
    "    # Ajustage des marges\n",
    "    plt.tight_layout()\n",
    "    \n",
    "    # Affichage du graphique\n",
    "    plt.show()"
   ]
  },
  {
   "cell_type": "code",
   "execution_count": null,
   "id": "a33e5911",
   "metadata": {
    "ExecuteTime": {
     "end_time": "2023-07-24T06:14:10.782830Z",
     "start_time": "2023-07-24T06:12:52.221577Z"
    }
   },
   "outputs": [],
   "source": [
    "# Boucle sur la liste des pays\n",
    "for i, country in enumerate(list_countries):\n",
    "    \n",
    "    # Création de la figure\n",
    "    fig, axes = plt.subplots(1, 4, figsize=(16, 6))\n",
    "    \n",
    "    # Récupération des informations utiles\n",
    "    frame = verif_data[verif_data[\"Country Name\"] == country].set_index(\"Indicator Name\")\n",
    "    \n",
    "    # Transposition des données\n",
    "    frame = frame[liste_dates].T\n",
    "    \n",
    "    x = np.arange(2)\n",
    "    \n",
    "    #Boucle sur les indicateurs\n",
    "    for j, indic in enumerate(nouveaux_indic):\n",
    "        \n",
    "        if not pd.isna(frame[indic].max()):\n",
    "            # Récupération des maximum et minimum\n",
    "            y = [frame[indic].max(), frame[indic].min()]\n",
    "\n",
    "            # Affichage des 2 barres de 2 couleurs\n",
    "            axes[j].bar(x=x, height=y, color=[\"b\", \"orange\"])\n",
    "\n",
    "            axes[j].set_xticks(x)\n",
    "            # Ajout des labels des abscisses\n",
    "            axes[j].set_xticklabels([\"Max\", \"Min\"], rotation=45, ha='right')\n",
    "\n",
    "            # Ajout du titre\n",
    "            axes[j].set_title(indic)\n",
    "\n",
    "            #Ajout des valeurs au dessus des barres\n",
    "            for k, value in enumerate(y):\n",
    "                    axes[j].annotate(str(round(value)), xy=(x[k], value), xytext=(x[k], value+0.5),\n",
    "                                     ha='center', va='bottom', fontsize=10)\n",
    "\n",
    "        \n",
    "    # Ajout d'un sous-titre \n",
    "    plt.suptitle(country, fontsize=16)\n",
    "    \n",
    "    # Ajustage des marges\n",
    "    plt.tight_layout(rect=[0, 0.03, 1, 0.95])\n",
    "\n",
    "    # Affichage du graphique\n",
    "    plt.show()"
   ]
  },
  {
   "cell_type": "markdown",
   "id": "5f6b6d3e",
   "metadata": {},
   "source": [
    "## Ajout de colonnes (Dernière valeur, Max, Min, Moy, Med, Ecart-type)"
   ]
  },
  {
   "cell_type": "code",
   "execution_count": null,
   "id": "f33d37a0",
   "metadata": {
    "ExecuteTime": {
     "end_time": "2023-07-24T06:14:10.968522Z",
     "start_time": "2023-07-24T06:14:10.783839Z"
    }
   },
   "outputs": [],
   "source": [
    "# Ajout de colonnes avec ces données : Max, Min, Moyenne, Médiane et Ecart-type\n",
    "asked_data[\"Max\"] = asked_data[liste_dates].max(axis=1)\n",
    "asked_data[\"Min\"] = asked_data[liste_dates].min(axis=1)\n",
    "asked_data[\"Moyenne\"] = asked_data[liste_dates].mean(axis=1)\n",
    "asked_data[\"Mediane\"] = asked_data[liste_dates].median(axis=1)\n",
    "asked_data[\"Ecart-type\"] = asked_data[liste_dates].std(axis=1)\n",
    "\n",
    "# Ajout des colonnes de dernières valeurs et de la colonne qui lui correspond\n",
    "last_line_value(asked_data, liste_dates)"
   ]
  },
  {
   "cell_type": "markdown",
   "id": "c31280fe",
   "metadata": {},
   "source": [
    "### Quelques Stats"
   ]
  },
  {
   "cell_type": "code",
   "execution_count": null,
   "id": "ef170013",
   "metadata": {
    "ExecuteTime": {
     "end_time": "2023-07-24T06:14:10.978534Z",
     "start_time": "2023-07-24T06:14:10.969530Z"
    }
   },
   "outputs": [],
   "source": [
    "asked_data.loc[asked_data[\"Country Name\"]==\"World\", [\"Indicator Name\", \"Max\", \"Min\"]]"
   ]
  },
  {
   "cell_type": "code",
   "execution_count": null,
   "id": "f9cd8335",
   "metadata": {
    "ExecuteTime": {
     "end_time": "2023-07-24T06:14:11.012853Z",
     "start_time": "2023-07-24T06:14:10.979545Z"
    }
   },
   "outputs": [],
   "source": [
    "stats_data = asked_data.copy()\n",
    "max_data = pd.DataFrame(columns=stats_data.columns)\n",
    "min_data = pd.DataFrame(columns=stats_data.columns)\n",
    "\n",
    "for indic in indicateurs_precis:\n",
    "    indic_data = stats_data[stats_data[\"Indicator Name\"] == indic]\n",
    "    max_data = pd.concat([max_data, indic_data.sort_values(\"Max\", ascending=False).head(15)])\n",
    "    min_data = pd.concat([min_data, indic_data.sort_values(\"Min\", ascending=True).head(10)])\n",
    "\n",
    "max_data[[\"Country Name\", \"Indicator Name\", \"Max\"]]"
   ]
  },
  {
   "cell_type": "code",
   "execution_count": null,
   "id": "bb876141",
   "metadata": {
    "ExecuteTime": {
     "end_time": "2023-07-24T06:14:11.023080Z",
     "start_time": "2023-07-24T06:14:11.013867Z"
    }
   },
   "outputs": [],
   "source": [
    "min_data[[\"Country Name\", \"Indicator Name\", \"Min\"]]"
   ]
  },
  {
   "cell_type": "code",
   "execution_count": null,
   "id": "80c5559a",
   "metadata": {
    "ExecuteTime": {
     "end_time": "2023-07-24T06:14:11.045735Z",
     "start_time": "2023-07-24T06:14:11.025093Z"
    }
   },
   "outputs": [],
   "source": [
    "regions_stats = stats_data.iloc[:99]\n",
    "\n",
    "min_regions_data = pd.DataFrame(columns=stats_data.columns)\n",
    "\n",
    "for indic in indicateurs_precis:\n",
    "    indic_data = regions_stats[regions_stats[\"Indicator Name\"] == indic]\n",
    "    min_regions_data = pd.concat([min_regions_data, indic_data.sort_values(\"Min\", ascending=True).head(10)])\n",
    "    \n",
    "min_regions_data[[\"Country Name\", \"Indicator Name\", \"Min\"]]"
   ]
  },
  {
   "cell_type": "markdown",
   "id": "9b2b319a",
   "metadata": {},
   "source": [
    "# Visuels des données pour la France"
   ]
  },
  {
   "cell_type": "code",
   "execution_count": null,
   "id": "3e62d50f",
   "metadata": {
    "ExecuteTime": {
     "end_time": "2023-07-24T06:14:11.065869Z",
     "start_time": "2023-07-24T06:14:11.046744Z"
    }
   },
   "outputs": [],
   "source": [
    "# Création du DataFrame avec les données pour la France\n",
    "data_france = asked_data[asked_data[\"Country Name\"] == \"France\"].copy()\n",
    "data_france.head()"
   ]
  },
  {
   "cell_type": "markdown",
   "id": "588228a4",
   "metadata": {},
   "source": [
    "## Tendances"
   ]
  },
  {
   "cell_type": "code",
   "execution_count": null,
   "id": "fd33e4ac",
   "metadata": {
    "ExecuteTime": {
     "end_time": "2023-07-24T06:14:11.620752Z",
     "start_time": "2023-07-24T06:14:11.067809Z"
    },
    "scrolled": false
   },
   "outputs": [],
   "source": [
    "# Création des graphs de tendance des données par indicateur\n",
    "graphs(data_france, liste_dates)"
   ]
  },
  {
   "cell_type": "markdown",
   "id": "87d1274f",
   "metadata": {},
   "source": [
    "## Tendances avec Dataframe transposé"
   ]
  },
  {
   "cell_type": "code",
   "execution_count": null,
   "id": "bd08b0b3",
   "metadata": {
    "ExecuteTime": {
     "end_time": "2023-07-24T06:14:12.162260Z",
     "start_time": "2023-07-24T06:14:11.621761Z"
    },
    "scrolled": false
   },
   "outputs": [],
   "source": [
    "# Transposition du DataFrame avec les indicateurs en index\n",
    "transposed_france = data_france.set_index(\"Indicator Name\").loc[:, \"1970\":\"2016\"].T\n",
    "\n",
    "# Affichage des tendances des données\n",
    "transposed_graphs(transposed_france)"
   ]
  },
  {
   "cell_type": "markdown",
   "id": "ec8eb9b2",
   "metadata": {},
   "source": [
    "## Tendance avec les données interpolées"
   ]
  },
  {
   "cell_type": "code",
   "execution_count": null,
   "id": "f52e616f",
   "metadata": {
    "ExecuteTime": {
     "end_time": "2023-07-24T06:14:12.167832Z",
     "start_time": "2023-07-24T06:14:12.163269Z"
    }
   },
   "outputs": [],
   "source": [
    "#Changement de nom des colonnes\n",
    "nouvelles_colonnes = [\n",
    "    colonne.replace(', both sexes (number)', '')\n",
    "    for colonne in transposed_france.columns\n",
    "]\n",
    "\n",
    "# Changement du nom des colonnes dans le DataFrame\n",
    "transposed_france.rename(columns=dict(\n",
    "    zip(transposed_france.columns, nouvelles_colonnes)),\n",
    "                         inplace=True)"
   ]
  },
  {
   "cell_type": "code",
   "execution_count": null,
   "id": "bb850aaf",
   "metadata": {
    "ExecuteTime": {
     "end_time": "2023-07-24T06:14:12.685035Z",
     "start_time": "2023-07-24T06:14:12.168841Z"
    },
    "scrolled": false
   },
   "outputs": [],
   "source": [
    "# Interpolation des données\n",
    "interpolated_france = transposed_france.interpolate()\n",
    "\n",
    "# Affichage des tendances avec une couleur différente pour les données interpolées\n",
    "interpolated_graphs(transposed_france, interpolated_france)"
   ]
  },
  {
   "cell_type": "markdown",
   "id": "dd6c7df3",
   "metadata": {},
   "source": [
    "## Corrélation\n",
    "### Distribution des valeurs"
   ]
  },
  {
   "cell_type": "code",
   "execution_count": null,
   "id": "8cab0d5c",
   "metadata": {
    "ExecuteTime": {
     "end_time": "2023-07-24T06:14:13.124290Z",
     "start_time": "2023-07-24T06:14:12.686039Z"
    },
    "scrolled": true
   },
   "outputs": [],
   "source": [
    "# Affichage de la distribution des valeurs par indicateurs\n",
    "for indic in indicateurs_precis:\n",
    "    frame = data_france.loc[data_france[\"Indicator Name\"] == indic, liste_dates].T\n",
    "    \n",
    "    plt.hist(frame)\n",
    "    \n",
    "    # Afficher le graphique\n",
    "    plt.show()"
   ]
  },
  {
   "cell_type": "markdown",
   "id": "b0d9ed66",
   "metadata": {},
   "source": [
    "### Corrélation"
   ]
  },
  {
   "cell_type": "code",
   "execution_count": null,
   "id": "4a8a9cd3",
   "metadata": {
    "ExecuteTime": {
     "end_time": "2023-07-24T06:14:13.386488Z",
     "start_time": "2023-07-24T06:14:13.139112Z"
    }
   },
   "outputs": [],
   "source": [
    "# test de la correlation entre les indicateurs pour la France\n",
    "correlation_france = transposed_france.corr()\n",
    "\n",
    "# Affichage d'une heatmap avec la corrélation\n",
    "ax = sns.heatmap(correlation_france,\n",
    "                 vmin=-1,\n",
    "                 vmax=1,\n",
    "                 center=0,\n",
    "                 cmap=\"coolwarm\",\n",
    "                 square=True)\n",
    "\n",
    "# Mise en forme des labels des abscisses\n",
    "ax.set_xticklabels(ax.get_xticklabels(),\n",
    "                   rotation=45,\n",
    "                   horizontalalignment=\"right\")\n",
    "\n",
    "# Ajout su titre\n",
    "ax.set_title(\"Corrélation entre les indicateurs pour la France\")"
   ]
  },
  {
   "cell_type": "markdown",
   "id": "710f1c83",
   "metadata": {},
   "source": [
    "### Relation entre le nombre d'étudiants en secondaire et en tertiaire"
   ]
  },
  {
   "cell_type": "code",
   "execution_count": null,
   "id": "c0d2c803",
   "metadata": {
    "ExecuteTime": {
     "end_time": "2023-07-24T06:14:13.682325Z",
     "start_time": "2023-07-24T06:14:13.388497Z"
    }
   },
   "outputs": [],
   "source": [
    "# Affichage de la relation entre le nombre d'étudiants en secondaire et tertiaire\n",
    "# Avec une couleur différente en fonction de l'accès à Internet\n",
    "interpolated_france.plot.scatter(1,\n",
    "                                 2,\n",
    "                                 c=3,\n",
    "                                 s=interpolated_france.iloc[:, 3] * 3,\n",
    "                                 colormap=\"plasma\",\n",
    "                                 title=\"Relation entre le nombre d'étudiants en secondaire et en tertiaire en France\",\n",
    "                                 alpha=0.5)"
   ]
  },
  {
   "cell_type": "code",
   "execution_count": null,
   "id": "9d421476",
   "metadata": {
    "ExecuteTime": {
     "end_time": "2023-07-24T06:14:13.922824Z",
     "start_time": "2023-07-24T06:14:13.683329Z"
    }
   },
   "outputs": [],
   "source": [
    "# Affichage de la droite de régression linéaire pour ces mêmes données\n",
    "sns.regplot(\n",
    "    x=\"Enrolment in secondary education\",\n",
    "    y=\"Enrolment in tertiary education, all programmes\",\n",
    "    data=interpolated_france,\n",
    "    marker=\"x\",\n",
    "    color=\"g\"\n",
    ").set(\n",
    "    title=\n",
    "    \"Droite de Régression linéaire de la relation entre le secondaire et le tertiaire en France\"\n",
    ")\n",
    "\n",
    "# Afficher le graphique\n",
    "plt.show()"
   ]
  },
  {
   "cell_type": "code",
   "execution_count": null,
   "id": "c3aa2b5e",
   "metadata": {
    "ExecuteTime": {
     "end_time": "2023-07-24T06:14:14.262488Z",
     "start_time": "2023-07-24T06:14:13.923833Z"
    },
    "scrolled": false
   },
   "outputs": [],
   "source": [
    "# Affichage de la droite de régression polynomiale pour ces mêmes données\n",
    "sns.lmplot(\n",
    "    x=\"Enrolment in secondary education\",\n",
    "    y=\"Enrolment in tertiary education, all programmes\",\n",
    "    data=interpolated_france,\n",
    "    order=2,\n",
    ").set(\n",
    "    title=\n",
    "    \"Droite de Régression polynomiale d'ordre 2 en France\"\n",
    ")\n",
    "\n",
    "# Afficher le graphique\n",
    "plt.show()"
   ]
  },
  {
   "cell_type": "markdown",
   "id": "00b3e10f",
   "metadata": {},
   "source": [
    "### Relation en le nombre d'étudiant en post-secondaire et l'accès à internet"
   ]
  },
  {
   "cell_type": "code",
   "execution_count": null,
   "id": "a43816e1",
   "metadata": {
    "ExecuteTime": {
     "end_time": "2023-07-24T06:14:14.452241Z",
     "start_time": "2023-07-24T06:14:14.263496Z"
    }
   },
   "outputs": [],
   "source": [
    "# Affichage de la relation entre le nombre d'étudiants en psot-secondaire et l'accès à internet\n",
    "interpolated_france.plot.scatter(\n",
    "    0,\n",
    "    3,\n",
    "    alpha=0.5,\n",
    "    title=\n",
    "    \"Relation en le nombre d'étudiants en post-secondaire et l'accès à Internet en France\"\n",
    ")"
   ]
  },
  {
   "cell_type": "code",
   "execution_count": null,
   "id": "b787495d",
   "metadata": {
    "ExecuteTime": {
     "end_time": "2023-07-24T06:14:14.648962Z",
     "start_time": "2023-07-24T06:14:14.454257Z"
    }
   },
   "outputs": [],
   "source": [
    "# Affichage de la droite de régression linéaire pour ces mêmes données\n",
    "sns.regplot(x=\"Enrolment in post-secondary non-tertiary education\",\n",
    "            y=\"Internet users (per 100 people)\",\n",
    "            data=interpolated_france,\n",
    "            marker=\"x\",\n",
    "            color=\"g\").set(\n",
    "    title=\n",
    "    \"Droite de Régression linéaire pour la France\"\n",
    ")\n",
    "plt.show()"
   ]
  },
  {
   "cell_type": "code",
   "execution_count": null,
   "id": "3a518f0a",
   "metadata": {
    "ExecuteTime": {
     "end_time": "2023-07-24T06:14:14.971361Z",
     "start_time": "2023-07-24T06:14:14.649968Z"
    }
   },
   "outputs": [],
   "source": [
    "# Affichage de la droite de régression polynomiale pour ces mêmes données\n",
    "sns.lmplot(\n",
    "    x=\"Enrolment in post-secondary non-tertiary education\",\n",
    "    y=\"Internet users (per 100 people)\",\n",
    "    data=interpolated_france,\n",
    "    order=2,\n",
    ").set(\n",
    "    title=\n",
    "    \"Droite de Régression polynomiale d'ordre 2 pour la France\"\n",
    ")\n",
    "plt.show()"
   ]
  },
  {
   "cell_type": "markdown",
   "id": "1c7f251a",
   "metadata": {},
   "source": [
    "# Corrélation avec les Etats-Unis"
   ]
  },
  {
   "cell_type": "code",
   "execution_count": null,
   "id": "e1dbe35f",
   "metadata": {
    "ExecuteTime": {
     "end_time": "2023-07-24T06:14:15.217899Z",
     "start_time": "2023-07-24T06:14:14.972374Z"
    }
   },
   "outputs": [],
   "source": [
    "# Récupération des données pour les Etats-Unis\n",
    "data_usa = asked_data[asked_data[\"Country Code\"] == \"USA\"]\n",
    "\n",
    "# Tranposition des données\n",
    "transposed_usa = data_usa.set_index(\"Indicator Name\").loc[:, \"1970\":\"2016\"].T\n",
    "\n",
    "# Interpolation des données\n",
    "interpolated_usa = transposed_usa.interpolate()\n",
    "\n",
    "#Calcul des corrélations des données\n",
    "correlation_usa = interpolated_usa.corr()\n",
    "\n",
    "# Affichaige de la Heatmap de ces corrélations\n",
    "ax = sns.heatmap(correlation_france,\n",
    "                 vmin=-1,\n",
    "                 vmax=1,\n",
    "                 center=0,\n",
    "                 cmap=\"coolwarm\",\n",
    "                 square=True)\n",
    "\n",
    "# Mise en forme des labels de l'axes des abscisses\n",
    "ax.set_xticklabels(ax.get_xticklabels(),\n",
    "                   rotation=45,\n",
    "                   horizontalalignment=\"right\")"
   ]
  },
  {
   "cell_type": "markdown",
   "id": "d63fbf90",
   "metadata": {},
   "source": [
    "# Traitement des données vides\n",
    "## Internet users"
   ]
  },
  {
   "cell_type": "code",
   "execution_count": null,
   "id": "9b48941d",
   "metadata": {
    "ExecuteTime": {
     "end_time": "2023-07-24T06:14:15.227452Z",
     "start_time": "2023-07-24T06:14:15.218905Z"
    },
    "scrolled": false
   },
   "outputs": [],
   "source": [
    "# Récupération des données pour l'accès à internet pour les années de 1970 à 1989\n",
    "data_internet = asked_data[\n",
    "    asked_data[\"Indicator Name\"] ==\n",
    "    \"Internet users (per 100 people)\"].loc[:, \"1970\":\"1989\"]\n",
    "\n",
    "# Vérification des données manquantes\n",
    "data_internet.isnull().sum()"
   ]
  },
  {
   "cell_type": "code",
   "execution_count": null,
   "id": "cf6047fc",
   "metadata": {
    "ExecuteTime": {
     "end_time": "2023-07-24T06:14:15.247363Z",
     "start_time": "2023-07-24T06:14:15.229463Z"
    },
    "scrolled": true
   },
   "outputs": [],
   "source": [
    "# Affichage des doonées les plus remplies\n",
    "data_internet[~data_internet[\"1989\"].isnull()]"
   ]
  },
  {
   "cell_type": "code",
   "execution_count": null,
   "id": "f018de61",
   "metadata": {
    "ExecuteTime": {
     "end_time": "2023-07-24T06:14:15.258857Z",
     "start_time": "2023-07-24T06:14:15.249370Z"
    }
   },
   "outputs": [],
   "source": [
    "# remplissage des donénes de 1970 à 1989 à 0\n",
    "asked_data.loc[data_internet.index, \"1970\":\"1989\"] = 0"
   ]
  },
  {
   "cell_type": "code",
   "execution_count": null,
   "id": "c99cd426",
   "metadata": {
    "ExecuteTime": {
     "end_time": "2023-07-24T06:14:15.272568Z",
     "start_time": "2023-07-24T06:14:15.260798Z"
    }
   },
   "outputs": [],
   "source": [
    "# Vérification des doonées manquantes\n",
    "asked_data.isnull().mean()"
   ]
  },
  {
   "cell_type": "markdown",
   "id": "02c3c02a",
   "metadata": {},
   "source": [
    "## Interpolation par Indicateurs\n",
    "### Avec la fonction pandas.interpolate()"
   ]
  },
  {
   "cell_type": "code",
   "execution_count": null,
   "id": "f3e7eba8",
   "metadata": {
    "ExecuteTime": {
     "end_time": "2023-07-24T06:14:15.313677Z",
     "start_time": "2023-07-24T06:14:15.273578Z"
    }
   },
   "outputs": [],
   "source": [
    "# Séparation des données par indicateurs avec transposition\n",
    "# Données d'accès à internet\n",
    "data_internet = asked_data[\n",
    "    asked_data[\"Indicator Name\"] ==\n",
    "    \"Internet users (per 100 people)\"].loc[:, liste_dates].T\n",
    "\n",
    "# Données des étudiants en secondaire\n",
    "data_secondary = asked_data[\n",
    "    asked_data[\"Indicator Name\"] ==\n",
    "    \"Enrolment in secondary education, both sexes (number)\"].loc[:,\n",
    "                                                                 liste_dates].T\n",
    "\n",
    "# Données des étudiants en post-secondaire\n",
    "data_p_secondary = asked_data[\n",
    "    asked_data[\"Indicator Name\"] ==\n",
    "    \"Enrolment in post-secondary non-tertiary education, both sexes (number)\"].loc[:,\n",
    "                                                                                   liste_dates].T\n",
    "\n",
    "# Données des étudiants en tertiaire\n",
    "data_tertiary = asked_data[\n",
    "    asked_data[\"Indicator Name\"] ==\n",
    "    \"Enrolment in tertiary education, all programmes, both sexes (number)\"].loc[:,\n",
    "                                                                                liste_dates].T\n",
    "\n",
    "# Interpolation des données par indicateurs\n",
    "data_internet = data_internet.interpolate()\n",
    "data_secondary = data_secondary.interpolate()\n",
    "data_p_secondary = data_p_secondary.interpolate()\n",
    "data_tertiary = data_tertiary.interpolate()"
   ]
  },
  {
   "cell_type": "markdown",
   "id": "ba5ce3f0",
   "metadata": {},
   "source": [
    "### Avec SimpleImputer pour \"Internet users\", \"secondary\" et \"tertiary\""
   ]
  },
  {
   "cell_type": "code",
   "execution_count": null,
   "id": "c48066ed",
   "metadata": {
    "ExecuteTime": {
     "end_time": "2023-07-24T06:14:15.332076Z",
     "start_time": "2023-07-24T06:14:15.315255Z"
    }
   },
   "outputs": [],
   "source": [
    "# Création du SimpleImputer qui va remplir les valeurs NaN par la moyenne\n",
    "imp_mean = SimpleImputer(missing_values=np.nan, strategy=\"mean\")\n",
    "\n",
    "# mise à jour des DataFrame après le remplissage\n",
    "# Données de l'accès à Internet\n",
    "data_internet = pd.DataFrame(imp_mean.fit_transform(data_internet),\n",
    "                             columns=data_internet.columns,\n",
    "                             index=data_internet.index).T\n",
    "\n",
    "# Données des étudiants en secondaie\n",
    "data_secondary = pd.DataFrame(imp_mean.fit_transform(data_secondary),\n",
    "                              columns=data_secondary.columns,\n",
    "                              index=data_secondary.index).T\n",
    "\n",
    "# Données des étudiants en tertiaire\n",
    "data_tertiary = pd.DataFrame(imp_mean.fit_transform(data_tertiary),\n",
    "                             columns=data_tertiary.columns,\n",
    "                             index=data_tertiary.index).T\n",
    "\n",
    "# Il y a trop de valeurs manquantes pour utiliser le SimpleImputer\n",
    "data_p_secondary = data_p_secondary.T"
   ]
  },
  {
   "cell_type": "markdown",
   "id": "8e1f3a89",
   "metadata": {},
   "source": [
    "### Mise à jour du Dataframe Asked_data"
   ]
  },
  {
   "cell_type": "code",
   "execution_count": null,
   "id": "71faac36",
   "metadata": {
    "ExecuteTime": {
     "end_time": "2023-07-24T06:14:15.544676Z",
     "start_time": "2023-07-24T06:14:15.333082Z"
    }
   },
   "outputs": [],
   "source": [
    "# On met à jour les données avec celles interpolées et imputées\n",
    "\n",
    "# Données sur l'accès Internet\n",
    "asked_data.loc[asked_data[\"Indicator Name\"] ==\n",
    "               \"Internet users (per 100 people)\", liste_dates] = data_internet\n",
    "\n",
    "# Données des étudiants en secondaire\n",
    "asked_data.loc[asked_data[\"Indicator Name\"] ==\n",
    "               \"Enrolment in secondary education, both sexes (number)\",\n",
    "               liste_dates] = data_secondary\n",
    "\n",
    "# Données des étudiants en port-secondaire\n",
    "asked_data.loc[\n",
    "    asked_data[\"Indicator Name\"] ==\n",
    "    \"Enrolment in post-secondary non-tertiary education, both sexes (number)\",\n",
    "    liste_dates] = data_p_secondary\n",
    "\n",
    "#Doonées des étudiants en tertiaire\n",
    "asked_data.loc[\n",
    "    asked_data[\"Indicator Name\"] ==\n",
    "    \"Enrolment in tertiary education, all programmes, both sexes (number)\",\n",
    "    liste_dates] = data_tertiary"
   ]
  },
  {
   "cell_type": "markdown",
   "id": "ad9e9aeb",
   "metadata": {},
   "source": [
    "## Remplissage des données pour le post-secondaire"
   ]
  },
  {
   "cell_type": "code",
   "execution_count": null,
   "id": "93660d70",
   "metadata": {
    "ExecuteTime": {
     "end_time": "2023-07-24T06:14:17.030990Z",
     "start_time": "2023-07-24T06:14:15.546201Z"
    }
   },
   "outputs": [],
   "source": [
    "# Boucle sur toutes les lignes du DataFrame contenant l'indicateur des étudiants en post-secondaire\n",
    "for i in range(0, len(asked_data), 4):\n",
    "\n",
    "    # Récupération des données des étudiants en post_secondaire\n",
    "    x = asked_data.loc[i, \"2000\":\"2013\"]\n",
    "\n",
    "    # Récupération des données des étudiants en tertiaire\n",
    "    y = asked_data.loc[i + 2, \"2000\":\"2013\"]\n",
    "\n",
    "    # Calcul de la moyenne du rapport entre ces deux indices\n",
    "    moy = (x / y).mean()\n",
    "\n",
    "    # Récupération des colonnes de données\n",
    "    inter_colonnes = list(asked_data.loc[:, \"1970\":\"2016\"].columns)\n",
    "\n",
    "    # Inversement de l'ordre des colonnes\n",
    "    inter_colonnes.sort(reverse=True)\n",
    "\n",
    "    # Boucle sur chaqeu colonne\n",
    "    for colonne in inter_colonnes:\n",
    "\n",
    "        # Vérification si la valeur est nulle\n",
    "        if pd.isna(asked_data.loc[i, colonne]):\n",
    "            # Ajout de la valeur de la moyenne de la ligne\n",
    "            asked_data.loc[i, colonne] = asked_data.loc[i + 2, colonne] * moy\n",
    "\n",
    "        # Vérification si une valeur a été ajoutée\n",
    "        if pd.isna(asked_data.loc[i, colonne]):\n",
    "            # S'il n'y a pas de moyenne de ligne, on rempli par la moyenne de l'indicateur\n",
    "            asked_data.loc[i, colonne] = asked_data.loc[\n",
    "                asked_data[\"Indicator Name\"] ==\n",
    "                \"Enrolment in post-secondary non-tertiary education, both sexes (number)\",\n",
    "                colonne].mean()"
   ]
  },
  {
   "cell_type": "code",
   "execution_count": null,
   "id": "12e8c035",
   "metadata": {
    "ExecuteTime": {
     "end_time": "2023-07-24T06:14:17.039079Z",
     "start_time": "2023-07-24T06:14:17.031998Z"
    }
   },
   "outputs": [],
   "source": [
    "asked_data.isnull().mean()"
   ]
  },
  {
   "cell_type": "code",
   "execution_count": null,
   "id": "07ef1eaf",
   "metadata": {
    "ExecuteTime": {
     "end_time": "2023-07-24T06:14:17.047946Z",
     "start_time": "2023-07-24T06:14:17.040086Z"
    }
   },
   "outputs": [],
   "source": [
    "# Si la valeur de Last Value est vide, on la remplace par celle de 2016\n",
    "asked_data.loc[asked_data[\"Last Value\"].isnull(),\n",
    "               \"Last Value\"] = asked_data.loc[\n",
    "                   asked_data[\"Last Value\"].isnull(), \"2016\"]\n",
    "\n",
    "# Si la valeur de Last Value Date est vide, on la remplace par 2016\n",
    "asked_data.loc[asked_data[\"Last Value Date\"].isnull(),\n",
    "               \"Last Value Date\"] = 2016"
   ]
  },
  {
   "cell_type": "markdown",
   "id": "b1423819",
   "metadata": {},
   "source": [
    "## Shape final des données"
   ]
  },
  {
   "cell_type": "code",
   "execution_count": null,
   "id": "d6a54a3c",
   "metadata": {
    "ExecuteTime": {
     "end_time": "2023-07-24T06:14:17.060635Z",
     "start_time": "2023-07-24T06:14:17.048955Z"
    }
   },
   "outputs": [],
   "source": [
    "asked_data.shape"
   ]
  },
  {
   "cell_type": "markdown",
   "id": "a5b36796",
   "metadata": {},
   "source": [
    "## Sauvegarde des données traitées"
   ]
  },
  {
   "cell_type": "code",
   "execution_count": null,
   "id": "0ba1f30f",
   "metadata": {
    "ExecuteTime": {
     "end_time": "2023-07-24T06:14:17.115730Z",
     "start_time": "2023-07-24T06:14:17.062641Z"
    }
   },
   "outputs": [],
   "source": [
    "# Sauvegarde des données ainsi filtrée et complétée\n",
    "asked_data.to_csv(\"../Data/FilteredData.csv\", index=False, sep=\";\")"
   ]
  },
  {
   "cell_type": "markdown",
   "id": "70220cba",
   "metadata": {},
   "source": [
    "# Indicateurs statistiques\n",
    "## Séparation des donées par régions"
   ]
  },
  {
   "cell_type": "code",
   "execution_count": null,
   "id": "3d79d432",
   "metadata": {
    "ExecuteTime": {
     "end_time": "2023-07-24T06:14:17.132152Z",
     "start_time": "2023-07-24T06:14:17.116737Z"
    }
   },
   "outputs": [],
   "source": [
    "# Récupération de la liste des régions\n",
    "liste_regions = list(country_data[\"Region\"].unique())\n",
    "\n",
    "# Suppression des valeurs nulles\n",
    "liste_regions.remove(np.nan)\n",
    "\n",
    "# Récupération des pays par région\n",
    "liste_pays = []\n",
    "for region in liste_regions:\n",
    "    liste_pays.append(country_data.loc[country_data[\"Region\"] == region,\n",
    "                                  \"Short Name\"].unique())\n",
    "\n",
    "# création de DataFrame pour chaque région et avec les régions\n",
    "data_regions = asked_data[asked_data[\"Country Name\"].isin(liste_regions)]\n",
    "data_s_america = asked_data[asked_data[\"Country Name\"].isin(liste_pays[0])]\n",
    "data_s_asia = asked_data[asked_data[\"Country Name\"].isin(liste_pays[1])]\n",
    "data_s_africa = asked_data[asked_data[\"Country Name\"].isin(liste_pays[2])]\n",
    "data_europe = asked_data[asked_data[\"Country Name\"].isin(liste_pays[3])]\n",
    "data_n_africa = asked_data[asked_data[\"Country Name\"].isin(liste_pays[4])]\n",
    "data_e_asia = asked_data[asked_data[\"Country Name\"].isin(liste_pays[5])]\n",
    "data_n_america = asked_data[asked_data[\"Country Name\"].isin(liste_pays[6])]\n",
    "\n",
    "# Création d'une liste contenant les noms des pays sélectionnés par région\n",
    "liste_pays = [\n",
    "    list(data_s_america[\"Country Name\"].unique()),\n",
    "    list(data_s_asia[\"Country Name\"].unique()),\n",
    "    list(data_s_africa[\"Country Name\"].unique()),\n",
    "    list(data_europe[\"Country Name\"].unique()),\n",
    "    list(data_n_africa[\"Country Name\"].unique()),\n",
    "    list(data_e_asia[\"Country Name\"].unique()),\n",
    "    list(data_n_america[\"Country Name\"].unique()),\n",
    "]\n",
    "\n",
    "# Affichage de chaque région, avec le nombre de pays et le nom des pays\n",
    "print(*(\n",
    "    f\"{i+1}. Pays de {liste_regions[i]} ({len(liste_pays[i])} pays) :\\n\\n {liste_pays[i]}\"\n",
    "    for i in range(0, len(liste_regions))),\n",
    "      sep=\"\\n\\n\\n\")"
   ]
  },
  {
   "cell_type": "code",
   "execution_count": null,
   "id": "c0cb16f1",
   "metadata": {
    "ExecuteTime": {
     "end_time": "2023-07-24T06:14:26.572462Z",
     "start_time": "2023-07-24T06:14:17.134159Z"
    },
    "scrolled": true
   },
   "outputs": [],
   "source": [
    "# Création d'une liste avec les dataframes\n",
    "liste_frames = [\n",
    "    data_regions, data_s_america, data_s_asia, data_s_africa, data_europe,\n",
    "    data_n_africa, data_e_asia, data_n_america\n",
    "]\n",
    "\n",
    "# Ajout du nom du premier DataFrame contenant toutes les régions\n",
    "liste_noms_regions = liste_regions.copy()\n",
    "liste_noms_regions.insert(0, \"World regions\")\n",
    "\n",
    "# Boucle sur chacun des DataFrame\n",
    "for i, frame in enumerate(liste_frames):\n",
    "    \n",
    "    # Changement de l'index pour l'affichage sur le graphique\n",
    "    frame = frame.set_index(\"Country Name\")\n",
    "    \n",
    "    # Boucle sur chacun des indicateurs\n",
    "    for indic in indicateurs_precis:\n",
    "        \n",
    "        # Récupération des données utiles \n",
    "        frame_indic = frame.loc[frame[\"Indicator Name\"] == indic, \"1970\":\"2016\"]\n",
    "        \n",
    "        # Récupération de la longueur du Dataframe pour adapter la taille du graphique\n",
    "        len_frame = len(frame_indic)\n",
    "        \n",
    "        # Création de la figure avec une taille adaptée\n",
    "        plt.figure(figsize=(12, len_frame))\n",
    "        \n",
    "        # Transposition des données et création du boxplot\n",
    "        frame_indic.T.boxplot(vert=False)\n",
    "        \n",
    "        # Création du label pour les abscisses différents selon l'indicateur\n",
    "        if indic == \"Internet users (per 100 people)\":\n",
    "            plt.xlabel(\"Pourcentage de personnes ayant accès à internet\")\n",
    "        else:\n",
    "            plt.xlabel(\"Nombre d'étudiants\")\n",
    "            \n",
    "        # Création du mabel pour les ordonnées\n",
    "        plt.ylabel(\"Pays\")\n",
    "        \n",
    "        # Ajout du titre\n",
    "        plt.title(f\"{indic} in {liste_noms_regions[i]}\")\n",
    "        \n",
    "        # Affichage du graphique\n",
    "        plt.show()"
   ]
  },
  {
   "cell_type": "code",
   "execution_count": null,
   "id": "91c13e67",
   "metadata": {
    "ExecuteTime": {
     "end_time": "2023-07-24T06:14:26.590522Z",
     "start_time": "2023-07-24T06:14:26.573469Z"
    }
   },
   "outputs": [],
   "source": [
    "data_regions[data_regions[\"Indicator Name\"] == \"Internet users (per 100 people)\"].sort_values(\"Max\",ascending=False)"
   ]
  },
  {
   "cell_type": "code",
   "execution_count": null,
   "id": "95fee614",
   "metadata": {
    "ExecuteTime": {
     "end_time": "2023-07-24T06:14:35.199766Z",
     "start_time": "2023-07-24T06:14:26.592565Z"
    }
   },
   "outputs": [],
   "source": [
    "# Boucle sur chacun des DataFrame\n",
    "for i, frame in enumerate(liste_frames):\n",
    "    \n",
    "    # Changement de l'index pour l'affichage sur le graphique\n",
    "    frame = frame.set_index(\"Country Name\")\n",
    "    \n",
    "    # Boucle sur chacun des indicateurs\n",
    "    for indic in indicateurs_precis:\n",
    "        \n",
    "        # Récupération des données utiles \n",
    "        frame_indic = frame.loc[frame[\"Indicator Name\"] == indic, \"Moyenne\": \"Ecart-type\"]\n",
    "        \n",
    "        # Récupération de la longueur du Dataframe pour adapter la taille du graphique\n",
    "        len_frame = len(frame_indic)\n",
    "        \n",
    "        # Création de la figure avec une taille adaptée\n",
    "        plt.figure(figsize=(len_frame, 8))\n",
    "        \n",
    "        # Transposition des données et création du boxplot\n",
    "        frame_indic.plot.bar(color=[\"b\",\"r\",\"g\"])\n",
    "        \n",
    "        # Création du label pour les abscisses différents selon l'indicateur\n",
    "        if indic == \"Internet users (per 100 people)\":\n",
    "            plt.ylabel(\"Pourcentage de personnes ayant accès à internet\")\n",
    "        else:\n",
    "            plt.ylabel(\"Nombre d'étudiants\")\n",
    "            \n",
    "        # Création du mabel pour les ordonnées\n",
    "        plt.xlabel(\"Pays\")\n",
    "        \n",
    "        # Rotation et alignement des noms des pays\n",
    "        plt.xticks(rotation=45, ha=\"right\", va=\"top\")\n",
    "        \n",
    "        # ajout de la grille\n",
    "        plt.grid(True, alpha=0.8)\n",
    "        \n",
    "        # Ajout du titre\n",
    "        plt.title(f\"{indic} in {liste_noms_regions[i]}\")\n",
    "        \n",
    "        # Affichage du graphique\n",
    "        plt.show()"
   ]
  },
  {
   "cell_type": "markdown",
   "id": "8d8f864a",
   "metadata": {},
   "source": [
    "# Création du Score"
   ]
  },
  {
   "cell_type": "code",
   "execution_count": null,
   "id": "ff96273f",
   "metadata": {
    "ExecuteTime": {
     "end_time": "2023-07-24T06:14:35.216912Z",
     "start_time": "2023-07-24T06:14:35.200775Z"
    }
   },
   "outputs": [],
   "source": [
    "# Création d'une liste des indicateurs représentés par des nombres d'étudiants\n",
    "number_indic = [\n",
    "    \"Enrolment in post-secondary non-tertiary education, both sexes (number)\",\n",
    "    \"Enrolment in secondary education, both sexes (number)\",\n",
    "    \"Enrolment in tertiary education, all programmes, both sexes (number)\",\n",
    "]\n",
    "\n",
    "#Tri des données sur ces indicateurs\n",
    "number_data = asked_data[asked_data[\"Indicator Name\"].isin(number_indic)]\n",
    "\n",
    "# Regroupement par pays en ajoutant le nombre total d'étudiants\n",
    "grouped_number = number_data.groupby(\"Country Name\").sum().loc[:, \"1970\":]\n",
    "\n",
    "# Tri des données pour l'indicateur d'accès à internet\n",
    "internet_data = asked_data.loc[asked_data[\"Indicator Name\"] ==\n",
    "                               \"Internet users (per 100 people)\"]\n",
    "\n",
    "# Transposition des DataFrame\n",
    "grouped_number = grouped_number.T\n",
    "internet_data = internet_data.set_index(\"Country Name\").loc[:, \"1970\":].T\n",
    "\n",
    "# Création d'un DataFrame de score en multipliant le nombre d'étudiant par le pourcentage d'accès à internet\n",
    "score_data = grouped_number * (internet_data / 100)\n",
    "\n",
    "# Retransposition des données et reset de l'index\n",
    "score_data = score_data.T.reset_index()"
   ]
  },
  {
   "cell_type": "code",
   "execution_count": null,
   "id": "74a90796",
   "metadata": {
    "ExecuteTime": {
     "end_time": "2023-07-24T06:14:35.226009Z",
     "start_time": "2023-07-24T06:14:35.217918Z"
    }
   },
   "outputs": [],
   "source": [
    "# Ajout d'une colonne contenant le pourcentage d'évolution du nombre d'étudiants \n",
    "# avec accès à internet sur les 6 dernière années\n",
    "\n",
    "score_data[\"Evolution 6ans\"] = (score_data[\"2016\"] -\n",
    "                                score_data[\"2010\"]) / score_data[\"2010\"]\n",
    "\n",
    "# Même chose mais sur 2 ans\n",
    "score_data[\"Evolution 2ans\"] = (score_data[\"2016\"] -\n",
    "                                score_data[\"2014\"]) / score_data[\"2014\"]\n",
    "\n",
    "# Mise à jour de la colonne Max\n",
    "score_data[\"Max\"] = score_data.loc[:, \"1970\":\"2016\"].max(axis=1)"
   ]
  },
  {
   "cell_type": "code",
   "execution_count": null,
   "id": "14a17e35",
   "metadata": {
    "ExecuteTime": {
     "end_time": "2023-07-24T06:14:35.240296Z",
     "start_time": "2023-07-24T06:14:35.228036Z"
    }
   },
   "outputs": [],
   "source": [
    "# Exploration de la colonne Last Value\n",
    "score_data[\"Last Value\"].describe()"
   ]
  },
  {
   "cell_type": "code",
   "execution_count": null,
   "id": "96d722ef",
   "metadata": {
    "ExecuteTime": {
     "end_time": "2023-07-24T06:14:35.252992Z",
     "start_time": "2023-07-24T06:14:35.242303Z"
    }
   },
   "outputs": [],
   "source": [
    "# Exploration de la colonne Evolution 6ans\n",
    "score_data[\"Evolution 6ans\"].describe()"
   ]
  },
  {
   "cell_type": "code",
   "execution_count": null,
   "id": "c9c05727",
   "metadata": {
    "ExecuteTime": {
     "end_time": "2023-07-24T06:14:35.275937Z",
     "start_time": "2023-07-24T06:14:35.255001Z"
    }
   },
   "outputs": [],
   "source": [
    "# Vérification des valeurs maximales\n",
    "score_data.loc[score_data[\"Evolution 6ans\"] > 40]"
   ]
  },
  {
   "cell_type": "code",
   "execution_count": null,
   "id": "b2f6a6e4",
   "metadata": {
    "ExecuteTime": {
     "end_time": "2023-07-24T06:14:35.285462Z",
     "start_time": "2023-07-24T06:14:35.278951Z"
    }
   },
   "outputs": [],
   "source": [
    "# Exploration de la colonne Evolution 2ans\n",
    "score_data[\"Evolution 2ans\"].describe()"
   ]
  },
  {
   "cell_type": "markdown",
   "id": "571633cb",
   "metadata": {},
   "source": [
    "## Séparation des données par régions"
   ]
  },
  {
   "cell_type": "code",
   "execution_count": null,
   "id": "67c35d6e",
   "metadata": {
    "ExecuteTime": {
     "end_time": "2023-07-24T06:14:35.298544Z",
     "start_time": "2023-07-24T06:14:35.287480Z"
    }
   },
   "outputs": [],
   "source": [
    "# création de DataFrame pour chaque région et avec les régions\n",
    "score_regions = score_data[score_data[\"Country Name\"].isin(liste_regions)]\n",
    "score_s_america = score_data[score_data[\"Country Name\"].isin(liste_pays[0])]\n",
    "score_s_asia = score_data[score_data[\"Country Name\"].isin(liste_pays[1])]\n",
    "score_s_africa = score_data[score_data[\"Country Name\"].isin(liste_pays[2])]\n",
    "score_europe = score_data[score_data[\"Country Name\"].isin(liste_pays[3])]\n",
    "score_n_africa = score_data[score_data[\"Country Name\"].isin(liste_pays[4])]\n",
    "score_e_asia = score_data[score_data[\"Country Name\"].isin(liste_pays[5])]\n",
    "score_n_america = score_data[score_data[\"Country Name\"].isin(liste_pays[6])]"
   ]
  },
  {
   "cell_type": "code",
   "execution_count": null,
   "id": "427fefb7",
   "metadata": {
    "ExecuteTime": {
     "end_time": "2023-07-24T06:14:35.310628Z",
     "start_time": "2023-07-24T06:14:35.300452Z"
    }
   },
   "outputs": [],
   "source": [
    "liste_noms_regions"
   ]
  },
  {
   "cell_type": "markdown",
   "id": "10ff373e",
   "metadata": {},
   "source": [
    "## Représentation du score"
   ]
  },
  {
   "cell_type": "code",
   "execution_count": null,
   "id": "74ac68db",
   "metadata": {
    "ExecuteTime": {
     "end_time": "2023-07-24T06:14:37.792383Z",
     "start_time": "2023-07-24T06:14:35.312639Z"
    },
    "scrolled": false
   },
   "outputs": [],
   "source": [
    "# Création d'un DataFrame sans la Chine et le Myanmar qui étendent trop le graphique\n",
    "score_e_asia_mid = score_e_asia[~(\n",
    "    score_e_asia[\"Country Name\"].isin([\"China\", \"Myanmar\"]))]\n",
    "\n",
    "# Création d'une liste avec tous les DataFrame de score\n",
    "liste_frames = [\n",
    "    score_regions, score_s_america, score_s_asia, score_s_africa, score_europe,\n",
    "    score_n_africa, score_e_asia, score_e_asia_mid, score_n_america\n",
    "]\n",
    "\n",
    "# Création d'une liste avec les noms à afficher en titre de graphique\n",
    "liste_regions_fr = [\n",
    "    \"Régions du Monde\", \"Amérique Latine et Caraïbe\", \"Asie du Sud\",\n",
    "    \"Afrique Sub-Saharienne\", \"Europe et Asie Centrale\",\n",
    "    \"Moyen Orient et Afrique du Nord\", \"Asie de l'Est et Pacifique\",\n",
    "    \"Asie de l'Est et Pacifique sans la Chine et le Myanmar\",\n",
    "    \"Amérique du Nord\"\n",
    "]\n",
    "\n",
    "# Création de trois DataFrame vides pour les rmplir avec les pays qui ont certains scores.\n",
    "top_pays = pd.DataFrame(columns=score_data.columns)\n",
    "pays_top_last_value = pd.DataFrame(columns=score_data.columns)\n",
    "pays_top_evol = pd.DataFrame(columns=score_data.columns)\n",
    "\n",
    "# Boucle sur tous les DataFrame de notre liste\n",
    "for i, frame in enumerate(liste_frames):\n",
    "    # Création de variables contenant les médianes des colonnes \"Last Value\" et \"Evolution 6ans\"\n",
    "    med_last_value = frame[\"Last Value\"].median()\n",
    "    med_evol_6 = frame[\"Evolution 6ans\"].median()\n",
    "    max_last_value = frame[\"Last Value\"].max()\n",
    "\n",
    "    # Création d'une liste contenant les pays avec les plus hautes \"Last Value\" et \"Evolution 6 ans\"\n",
    "    top_pays_names = pd.concat([\n",
    "        frame.sort_values([\"Last Value\"], ascending=False).head(6),\n",
    "        frame.sort_values([\"Evolution 6ans\"], ascending=False).head(6)\n",
    "    ])\n",
    "\n",
    "    # Création de liste de pays avec des valeurs supérieures aux deux médianes\n",
    "    top_pays = pd.concat([\n",
    "        top_pays,\n",
    "        frame.loc[(frame[\"Last Value\"] >= med_last_value)\n",
    "                  & (frame[\"Evolution 6ans\"] >= med_evol_6)].sort_values(\n",
    "                      \"Last Value\", ascending=False)\n",
    "    ])\n",
    "\n",
    "    # Création de liste avec les pays avec une valeur supérieure pour la colonne \"Last Value\"\n",
    "    pays_top_last_value = pd.concat([\n",
    "        pays_top_last_value,\n",
    "        frame.loc[(frame[\"Last Value\"] >= med_last_value)\n",
    "                  & ~(frame[\"Country Name\"].isin(top_pays[\"Country Name\"]))].\n",
    "        sort_values(\"Last Value\", ascending=False)\n",
    "    ])\n",
    "\n",
    "    # Création de liste avec les pays avec une valeur supérieure pour la colonne \"Evolution 6ans\"\n",
    "    pays_top_evol = pd.concat([\n",
    "        pays_top_evol,\n",
    "        frame.loc[(frame[\"Evolution 6ans\"] >= med_evol_6)\n",
    "                  & ~(frame[\"Country Name\"].isin(top_pays[\"Country Name\"]))].\n",
    "        sort_values(\"Evolution 6ans\", ascending=False)\n",
    "    ])\n",
    "\n",
    "    # Création d'un graphique représentant la valeur de la dernière valeur en fonction de l'évolution\n",
    "    plt.figure(figsize=(15, 8))\n",
    "    scatter = plt.scatter(x=frame[\"Evolution 6ans\"] * 100,\n",
    "                          y=frame[\"Last Value\"],\n",
    "                          c=frame[\"Evolution 2ans\"] * 100)\n",
    "\n",
    "    # Ajout de la légende pour la couleur\n",
    "    cbar = plt.colorbar(scatter)\n",
    "    cbar.set_label(\"Évolution sur 2 ans (%)\")\n",
    "\n",
    "    # Ajout des noms des pays sur les points du graphique\n",
    "    for j, row in top_pays_names.iterrows():\n",
    "        if (j % 2) == 0:\n",
    "            va = \"bottom\"\n",
    "            x = max_last_value * 0.01\n",
    "        else:\n",
    "            va = \"top\"\n",
    "            x = -max_last_value * 0.01\n",
    "        plt.text(row[\"Evolution 6ans\"] * 100,\n",
    "                 row[\"Last Value\"] + x,\n",
    "                 row[\"Country Name\"],\n",
    "                 ha=\"center\",\n",
    "                 va=va)\n",
    "\n",
    "    # Ajout des lignes pour les valeurs des médianes\n",
    "    plt.axvline(x=med_evol_6 * 100, color=\"gray\", linestyle=\"--\", alpha=0.8)\n",
    "    plt.axhline(y=med_last_value, color=\"gray\", linestyle=\"--\", alpha=0.8)\n",
    "\n",
    "    # Ajout des labels et titre\n",
    "    plt.xlabel(\"Evolution sur 6 ans (%)\")\n",
    "    plt.ylabel(\"Nombre d'étudiants avec accès à Internet\")\n",
    "    plt.title(\n",
    "        f\"Nombre d'étudiants potentiels en fonction de l'évolution de leur nombre en {liste_regions_fr[i]}\"\n",
    "    )\n",
    "\n",
    "    # Affichage des graphiques\n",
    "    plt.show()"
   ]
  },
  {
   "cell_type": "code",
   "execution_count": null,
   "id": "77c3058e",
   "metadata": {
    "ExecuteTime": {
     "end_time": "2023-07-24T06:14:37.803429Z",
     "start_time": "2023-07-24T06:14:37.793394Z"
    }
   },
   "outputs": [],
   "source": [
    "top_pays[[\"Country Name\", \"Last Value\", \"Evolution 6ans\", \"Evolution 2ans\"]].sort_values(\"Last Value\", ascending=False)"
   ]
  },
  {
   "cell_type": "code",
   "execution_count": null,
   "id": "aa334dc9",
   "metadata": {
    "ExecuteTime": {
     "end_time": "2023-07-24T06:14:37.819197Z",
     "start_time": "2023-07-24T06:14:37.804988Z"
    }
   },
   "outputs": [],
   "source": [
    "pays_top_last_value[[\n",
    "    \"Country Name\", \"Last Value\", \"Evolution 6ans\", \"Evolution 2ans\"\n",
    "]].sort_values(\"Last Value\", ascending=False)"
   ]
  },
  {
   "cell_type": "code",
   "execution_count": null,
   "id": "11ff07a6",
   "metadata": {
    "ExecuteTime": {
     "end_time": "2023-07-24T06:14:37.834866Z",
     "start_time": "2023-07-24T06:14:37.821341Z"
    }
   },
   "outputs": [],
   "source": [
    "pays_top_evol[[\n",
    "    \"Country Name\", \"Last Value\", \"Evolution 6ans\", \"Evolution 2ans\"\n",
    "]].sort_values(\"Evolution 6ans\", ascending=False)"
   ]
  },
  {
   "cell_type": "markdown",
   "id": "cc4e69d7",
   "metadata": {},
   "source": [
    "# Autres informations\n",
    "## Définition des indicateurs"
   ]
  },
  {
   "cell_type": "code",
   "execution_count": null,
   "id": "210db0f2",
   "metadata": {
    "ExecuteTime": {
     "end_time": "2023-07-24T06:14:37.846583Z",
     "start_time": "2023-07-24T06:14:37.836915Z"
    }
   },
   "outputs": [],
   "source": [
    "# Récupération des longues définitions des indicateurs choisis\n",
    "data_indicateurs = series.loc[\n",
    "    series[\"Indicator Name\"].isin(indicateurs_precis),\n",
    "    \"Long definition\"].reset_index(drop=True)\n",
    "\n",
    "# Affichage des longues définitions\n",
    "print(*(f\"{indicateurs_precis[i]} : \\n\\n{data_indicateurs.iloc[i]}\"\n",
    "        for i in range(0, len(data_indicateurs))),\n",
    "      sep=\"\\n\\n\\n\")"
   ]
  },
  {
   "cell_type": "markdown",
   "id": "3d21ee3a",
   "metadata": {},
   "source": [
    "## Méthode de récolte des données"
   ]
  },
  {
   "cell_type": "code",
   "execution_count": null,
   "id": "46915943",
   "metadata": {
    "ExecuteTime": {
     "end_time": "2023-07-24T07:43:55.911006Z",
     "start_time": "2023-07-24T07:43:45.949455Z"
    }
   },
   "outputs": [],
   "source": [
    "# Récupération des codes des pays\n",
    "liste_code_pays = list(asked_data[\"Country Code\"].unique())\n",
    "\n",
    "# Récupération des codes des indicateurs\n",
    "liste_code_indic = series.loc[\n",
    "    series[\"Indicator Name\"].isin(indicateurs_precis), \"Series Code\"]\n",
    "\n",
    "# Récupération des données pour nos codes pays et indicateurs\n",
    "data_foot_note = foot_note[\n",
    "    (foot_note[\"CountryCode\"].isin(liste_code_pays))\n",
    "    & (foot_note[\"SeriesCode\"].isin(liste_code_indic))].reset_index(drop=True).copy()\n",
    "\n",
    "# Création des colonnes avec les noms des pays et des indicateurs\n",
    "data_foot_note[\"Country Name\"] = np.nan\n",
    "data_foot_note[\"Indicator Name\"] = np.nan\n",
    "\n",
    "# Boucle sur toutes les lignes du tableau\n",
    "for i in range(data_foot_note.shape[0]):\n",
    "    \n",
    "    # Récupération du code de pays\n",
    "    code = data_foot_note.loc[i, \"CountryCode\"]\n",
    "    \n",
    "    # Récupération du code des indicateurs\n",
    "    indic = data_foot_note.loc[i, \"SeriesCode\"]\n",
    "    \n",
    "    # récupération des informations de la ligne\n",
    "    ligne = data_foot_note.loc[i].copy()\n",
    "    \n",
    "    # Mise à jour des colonnes \"Country Name\" et \"Indicator Name\"\n",
    "    ligne[\"Country Name\"] = country_data.loc[country_data[\"Country Code\"] ==\n",
    "                                                 code, \"Short Name\"]\n",
    "    ligne[\"Indicator Name\"] = series.loc[series[\"Series Code\"] ==\n",
    "                                                  indic, \"Indicator Name\"]\n",
    "    \n",
    "    # Mise à jour du DataFrame principal\n",
    "    data_foot_note.loc[i] = ligne\n",
    "\n",
    "data_foot_note.head()"
   ]
  },
  {
   "cell_type": "code",
   "execution_count": null,
   "id": "8b4bada1",
   "metadata": {
    "ExecuteTime": {
     "end_time": "2023-07-24T07:52:28.879093Z",
     "start_time": "2023-07-24T07:52:28.872571Z"
    }
   },
   "outputs": [],
   "source": [
    "# Nombre de descriptions récupérées\n",
    "data_foot_note[\"DESCRIPTION\"].nunique()"
   ]
  },
  {
   "cell_type": "code",
   "execution_count": null,
   "id": "ea995711",
   "metadata": {
    "ExecuteTime": {
     "end_time": "2023-07-24T07:52:30.877235Z",
     "start_time": "2023-07-24T07:52:30.872011Z"
    }
   },
   "outputs": [],
   "source": [
    "# Récupération des informations pour les pays et indicateurs choisis\n",
    "data_series = country_series[\n",
    "    (country_series[\"CountryCode\"].isin(liste_code_pays))\n",
    "    & (country_series[\"SeriesCode\"].isin(liste_code_indic))].reset_index(drop=True).copy()\n",
    "\n",
    "# Format des données combinées\n",
    "data_series.shape"
   ]
  },
  {
   "cell_type": "code",
   "execution_count": null,
   "id": "67f18db5",
   "metadata": {
    "ExecuteTime": {
     "end_time": "2023-07-24T07:52:32.430612Z",
     "start_time": "2023-07-24T07:52:32.423545Z"
    }
   },
   "outputs": [],
   "source": [
    "# Récupération des informations pour les pays choisis\n",
    "data_series_countries = country_series[\n",
    "    country_series[\"CountryCode\"].isin(liste_code_pays)].reset_index(drop=True).copy()\n",
    "\n",
    "# Récupération des informations pour les indicateurs choisis\n",
    "data_series_indic = country_series[\n",
    "    country_series[\"SeriesCode\"].isin(liste_code_indic)].reset_index(drop=True).copy()\n",
    "\n",
    "# Format des données des pays\n",
    "data_series_countries.shape"
   ]
  },
  {
   "cell_type": "code",
   "execution_count": null,
   "id": "96316e5e",
   "metadata": {
    "ExecuteTime": {
     "end_time": "2023-07-24T07:52:34.715277Z",
     "start_time": "2023-07-24T07:52:34.710660Z"
    }
   },
   "outputs": [],
   "source": [
    "# Format des données des indicateurs\n",
    "data_series_indic.shape"
   ]
  }
 ],
 "metadata": {
  "hide_input": false,
  "kernelspec": {
   "display_name": "Projet2",
   "language": "python",
   "name": "projet2"
  },
  "language_info": {
   "codemirror_mode": {
    "name": "ipython",
    "version": 3
   },
   "file_extension": ".py",
   "mimetype": "text/x-python",
   "name": "python",
   "nbconvert_exporter": "python",
   "pygments_lexer": "ipython3",
   "version": "3.11.6"
  },
  "toc": {
   "base_numbering": 1,
   "nav_menu": {
    "height": "251px",
    "width": "509px"
   },
   "number_sections": true,
   "sideBar": true,
   "skip_h1_title": false,
   "title_cell": "Table of Contents",
   "title_sidebar": "Contents",
   "toc_cell": false,
   "toc_position": {
    "height": "calc(100% - 180px)",
    "left": "10px",
    "top": "150px",
    "width": "365.797px"
   },
   "toc_section_display": true,
   "toc_window_display": true
  },
  "varInspector": {
   "cols": {
    "lenName": 16,
    "lenType": 16,
    "lenVar": 40
   },
   "kernels_config": {
    "python": {
     "delete_cmd_postfix": "",
     "delete_cmd_prefix": "del ",
     "library": "var_list.py",
     "varRefreshCmd": "print(var_dic_list())"
    },
    "r": {
     "delete_cmd_postfix": ") ",
     "delete_cmd_prefix": "rm(",
     "library": "var_list.r",
     "varRefreshCmd": "cat(var_dic_list()) "
    }
   },
   "types_to_exclude": [
    "module",
    "function",
    "builtin_function_or_method",
    "instance",
    "_Feature"
   ],
   "window_display": false
  }
 },
 "nbformat": 4,
 "nbformat_minor": 5
}
